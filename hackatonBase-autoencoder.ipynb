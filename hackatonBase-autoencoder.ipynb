{
 "cells": [
  {
   "cell_type": "code",
   "execution_count": 1,
   "metadata": {},
   "outputs": [
    {
     "name": "stderr",
     "output_type": "stream",
     "text": [
      "/opt/anaconda3/envs/astrohack/lib/python3.6/site-packages/h5py/__init__.py:36: FutureWarning: Conversion of the second argument of issubdtype from `float` to `np.floating` is deprecated. In future, it will be treated as `np.float64 == np.dtype(float).type`.\n",
      "  from ._conv import register_converters as _register_converters\n",
      "Using TensorFlow backend.\n"
     ]
    }
   ],
   "source": [
    "import pandas as pd\n",
    "import numpy as np\n",
    "from numpy import newaxis\n",
    "import matplotlib.pyplot as plt\n",
    "import random\n",
    "import seaborn as sns\n",
    "import itertools\n",
    "import os\n",
    "from PIL import Image\n",
    "import math\n",
    "from matplotlib import gridspec\n",
    "import matplotlib.collections\n",
    "from glob import glob\n",
    "from keras.applications import *\n",
    "import lightgbm as lgbm\n",
    "import scipy\n",
    "import tensorflow\n",
    "\n",
    "\n",
    "from matplotlib.transforms import Affine2D\n",
    "import mpl_toolkits.axisartist.floating_axes as floating_axes\n",
    "import matplotlib.collections\n",
    "\n",
    "from sklearn.model_selection import *\n",
    "\n",
    "from tqdm import *\n",
    "\n",
    "import astrohack\n",
    "from astrohack import *\n",
    "# nice progress bars otherwise\n",
    "# def tqdm(x):\n",
    "#     yield x\n",
    "\n",
    "\n",
    "import keras\n",
    "from keras.models import load_model\n",
    "from keras.models import Sequential\n",
    "from keras.layers import Dense, Activation, BatchNormalization\n",
    "from keras.layers import Dense, Activation, BatchNormalization, Dropout\n",
    "from keras.layers import Flatten, Conv2D, concatenate\n",
    "from keras.optimizers import *\n",
    "\n",
    "\n"
   ]
  },
  {
   "cell_type": "code",
   "execution_count": 2,
   "metadata": {
    "collapsed": true
   },
   "outputs": [],
   "source": [
    "# TODO, improvement ideas\n",
    "\n",
    "# TPOT python auto ml\n",
    "# use log(flux) as input\n",
    "# investigate highest errors (argmax(xi²))\n",
    "\n",
    "# kfold integration in place of CV\n",
    "# TTA\n",
    "# CNN segmentation cleanup \n",
    "# resnet v2 ( https://github.com/myutwo150/keras-inception-resnet-v2/blob/master/inception_resnet_v2.py )\n",
    "# custom CNN features\n",
    "\n",
    "# Serge:\n",
    "# essayer de remplacer lgb par un Deep NN keras (vu la quantité de donnée)\n",
    "\n",
    "# transformer le regresseur en classifier\n",
    "# ensemble lgbm, xgboost, catboot, NN\n",
    "\n",
    "\n",
    "\n",
    "#done\n",
    "# lgbm eval rmsle instead of rmse\n",
    "# add image size as feature\n",
    "# CV2 resize cubic interpolation \n",
    "\n"
   ]
  },
  {
   "cell_type": "code",
   "execution_count": 3,
   "metadata": {
    "collapsed": true
   },
   "outputs": [],
   "source": [
    "# memory debug function\n",
    "\n",
    "import sys\n",
    "# These are the usual ipython objects, including this one you are creating\n",
    "ipython_vars = ['In', 'Out', 'exit', 'quit', 'get_ipython', 'ipython_vars']\n",
    "\n",
    "# Get a sorted list of the objects and their sizes\n",
    "mm = sorted([(x, sys.getsizeof(globals().get(x)),\"{:,}\".format(sys.getsizeof(globals().get(x)))) \n",
    "        for x in dir() \n",
    "           if not x.startswith('_') \n",
    "#         and x not in sys.modules\n",
    "        and x not in ipython_vars], key=lambda x: x[1], reverse=True)\n",
    "\n",
    "mm\n",
    "a= None"
   ]
  },
  {
   "cell_type": "markdown",
   "metadata": {},
   "source": [
    "## data folder set up and test"
   ]
  },
  {
   "cell_type": "code",
   "execution_count": 4,
   "metadata": {
    "collapsed": true
   },
   "outputs": [],
   "source": [
    "astrohack.dataFolder = 'data/mainData_original/'\n",
    "dataFolder = 'data/mainData_original/'\n",
    "plt.ion()\n",
    "\n",
    "runNameParams = []\n",
    "runNameParams.append('retrain')\n",
    "# print(runNameParams)"
   ]
  },
  {
   "cell_type": "code",
   "execution_count": 5,
   "metadata": {
    "collapsed": true,
    "scrolled": false
   },
   "outputs": [],
   "source": [
    "\n",
    "issuesImages = ['1237658298983055529.npy','1237660634917634181.npy','1237654879654772871.npy','1237654953205170487.npy','1237651249884627014.npy','1237651754022207627.npy',\n",
    " '1237654669736018114.npy','1237655471824568727.npy','1237665530643808416.npy','1237658611444088911.npy','1237667255070490937.npy',\n",
    " '1237665531177795774.npy','1237645943975837722.npy','1237658425161220139.npy', '1237665129087435003.npy','1237657873792172224.npy',\n",
    " '1237660240313778264.npy','1237668298201432152.npy', '1237662264316264518.npy','1237657630042227294.npy','1237651754550624376.npy',\n",
    " '1237667211059986578.npy','1237655470208582145.npy']\n",
    "\n",
    "# for image in issuesImages:\n",
    "#     drawOneGalaxy(image)"
   ]
  },
  {
   "cell_type": "markdown",
   "metadata": {
    "scrolled": false
   },
   "source": [
    "# ML part"
   ]
  },
  {
   "cell_type": "code",
   "execution_count": 6,
   "metadata": {
    "collapsed": true
   },
   "outputs": [],
   "source": [
    "# load all images in memory (or try to)\n",
    "\n",
    "preprocList = [PP_HACKATON, PP_LOG100P, PP_CROP, PP_NORMALIZE, PP_SCALE01, PP_RESCALE128] \n",
    "\n",
    "df = pd.read_csv('fullPlusFeatures.csv')"
   ]
  },
  {
   "cell_type": "code",
   "execution_count": 7,
   "metadata": {},
   "outputs": [
    {
     "data": {
      "text/plain": [
       "(77531, 50)"
      ]
     },
     "execution_count": 7,
     "metadata": {},
     "output_type": "execute_result"
    }
   ],
   "source": [
    "df.shape"
   ]
  },
  {
   "cell_type": "code",
   "execution_count": 9,
   "metadata": {},
   "outputs": [],
   "source": [
    "fname = 'data/allimagespreprocessed' + str(preprocList) + '.npy'\n",
    "\n",
    "if os.path.isfile(fname):\n",
    "    preprocessedImages = np.load(fname)\n",
    "else:\n",
    "    preprocessedImages = []\n",
    "    for sdssid in tqdm(df.SDSS_ID.values):\n",
    "        preprocessedImages.append(img_preproclist(sdssid, preprocList))\n",
    "\n",
    "    len(preprocessedImages)\n",
    "\n",
    "    xx = np.stack(preprocessedImages)\n",
    "\n",
    "\n",
    "    np.save(fname, xx)\n",
    "    preprocessedImages = xx"
   ]
  },
  {
   "cell_type": "code",
   "execution_count": null,
   "metadata": {
    "collapsed": true
   },
   "outputs": [],
   "source": []
  },
  {
   "cell_type": "code",
   "execution_count": 10,
   "metadata": {},
   "outputs": [
    {
     "data": {
      "text/plain": [
       "(77531, 128, 128)"
      ]
     },
     "execution_count": 10,
     "metadata": {},
     "output_type": "execute_result"
    },
    {
     "data": {
      "image/png": "[encoded data removed]",
      "text/plain": [
       "<matplotlib.figure.Figure at 0x7f9a9fc49f60>"
      ]
     },
     "metadata": {},
     "output_type": "display_data"
    }
   ],
   "source": [
    "plt.imshow(preprocessedImages[random.randint(0,preprocessedImages.shape[0])])\n",
    "preprocessedImages.shape"
   ]
  },
  {
   "cell_type": "code",
   "execution_count": 11,
   "metadata": {
    "collapsed": true
   },
   "outputs": [],
   "source": [
    "def lgb_chi2(Yp, train_data):\n",
    "    Y = train_data.get_label()\n",
    "    err = 1/train_data.get_weight()**0.5\n",
    "    return 'Chi²', round(xi2(Y,Yp,err),1), False\n"
   ]
  },
  {
   "cell_type": "code",
   "execution_count": 12,
   "metadata": {
    "collapsed": true
   },
   "outputs": [],
   "source": [
    "TRAIN = 0\n",
    "TEST = 4\n",
    "\n",
    "FEATURES = 0\n",
    "TRUTH = 1\n",
    "ERROR = 2\n",
    "LINERROR = 3\n",
    "\n",
    "ID = 8\n",
    "FEATURENAMES = 9\n",
    "\n",
    "data = list(range(10))"
   ]
  },
  {
   "cell_type": "code",
   "execution_count": 13,
   "metadata": {},
   "outputs": [
    {
     "data": {
      "text/plain": [
       "0"
      ]
     },
     "execution_count": 13,
     "metadata": {},
     "output_type": "execute_result"
    }
   ],
   "source": [
    "data[TRAIN+FEATURES]"
   ]
  },
  {
   "cell_type": "code",
   "execution_count": 14,
   "metadata": {
    "collapsed": true
   },
   "outputs": [],
   "source": [
    "# breakqsdqsd"
   ]
  },
  {
   "cell_type": "markdown",
   "metadata": {},
   "source": [
    "# Iteration parameters defined here:\n",
    "\n",
    "- N is the number of galaxies to use for this run\n",
    "- M is the number of galaxies to train set (rest is holdout)\n",
    "- chunkSize is the number of galaxies to evaluate at once\n",
    "- prefixThisRound is the model name, for serialization purposes"
   ]
  },
  {
   "cell_type": "code",
   "execution_count": 15,
   "metadata": {
    "collapsed": true
   },
   "outputs": [],
   "source": [
    "N = int(len(df.SDSS_ID.values))\n",
    "M = int(N*.9)\n",
    "\n",
    "prefixThisRound = 'sp'\n",
    "for i in runNameParams:\n",
    "    prefixThisRound = prefixThisRound + '-' + i\n",
    "\n",
    "prefixThisRound = prefixThisRound + '-model15'\n",
    "    \n",
    "chunkSize = 200\n",
    "# nSplits = 3\n",
    "reloadImagesAndPreprocess = 0\n",
    "numPreprocessing = 1\n",
    "nSplits = 1\n",
    "\n",
    "# starting with hackaton is faster\n",
    "# preprocList = [PP_HACKATON, PP_LOG100P, PP_CROP, PP_NORMALIZE, PP_SCALE01, PP_RESCALE299] \n",
    "# preprocList = [PP_NORMALIZE, PP_LOG100P, PP_HACKATON, PP_SCALE255, PP_RESCALE224]\n",
    "# preprocList = [PP_NORMALIZE, PP_LOG100P, PP_CROP, PP_SCALE255, PP_HACKATON, PP_RESCALE224]\n",
    "\n",
    "maxBoostRuns = 30000 # 30000\n",
    "# N = 3000 # number of galaxies to take into consideration\n",
    "# M = 2000 # train vs holdout\n",
    "# N = int(N*0.1)\n",
    "# M = int(M*0.1)\n",
    "\n",
    "\n",
    "# N = int(N*0.01)\n",
    "# M = int(M*0.01)\n"
   ]
  },
  {
   "cell_type": "markdown",
   "metadata": {
    "collapsed": true,
    "scrolled": true
   },
   "source": [
    "# import keras\n"
   ]
  },
  {
   "cell_type": "code",
   "execution_count": 16,
   "metadata": {},
   "outputs": [
    {
     "data": {
      "text/plain": [
       "<matplotlib.figure.Figure at 0x7f9b2b3309e8>"
      ]
     },
     "metadata": {},
     "output_type": "display_data"
    }
   ],
   "source": [
    "from IPython.display import clear_output\n",
    "\n",
    "class PlotLosses(keras.callbacks.Callback):\n",
    "    epochsPerDraw = 10\n",
    "    referencePrediction = None\n",
    "    \n",
    "    def __init__(self):\n",
    "        self.initVars()\n",
    "    \n",
    "    def initVars(self):\n",
    "        self.i = 0\n",
    "        self.x = []\n",
    "        self.losses = []\n",
    "        self.val_losses = [] # self validation\n",
    "        self.test_losses = [] # external validation\n",
    "        self.fig = plt.figure()\n",
    "        self.logs = []\n",
    "        self.lr = []\n",
    "        self.lasttrainplot = None\n",
    "        self.lasttestplot = None\n",
    "        \n",
    "    def on_train_begin(self, logs={}):\n",
    "        self.initVars()\n",
    "        self.referenceLoss = xi2(self.referencePrediction, data[TEST+TRUTH], data[TEST+ERROR])\n",
    "\n",
    "    def on_epoch_end(self, epoch, logs={}):\n",
    "        \n",
    "        self.i += 1\n",
    "        \n",
    "        curloss = logs.get('loss')\n",
    "        self.losses.append(curloss)\n",
    "        self.val_losses.append(logs.get('val_loss'))\n",
    "        self.logs.append(logs)\n",
    "        self.x.append(self.i)\n",
    "        currentLearningRate = K.get_value(model.optimizer.lr)\n",
    "        self.lr.append(currentLearningRate)\n",
    "\n",
    "        if ( self.i %self.epochsPerDraw != 0 ):\n",
    "            return\n",
    "\n",
    "        clear_output(wait=True)\n",
    "        plt.figure(figsize=(16,8))\n",
    "        plt.suptitle(\"{}/{} {} {}\".format(self.i, numEpochs, curloss, prefixThisRound))\n",
    "        \n",
    "#         ax = plt.subplot(131) # self values\n",
    "#         if self.lasttrainplot == None or self.i %self.epochsPerDraw == 0:\n",
    "#             self.plotSelfTrain(ax)\n",
    "#         else:\n",
    "#             ax = self.lasttrainplot\n",
    "\n",
    "        ax = plt.subplot(121)\n",
    "        if self.lasttestplot == None or self.i %self.epochsPerDraw == 0:\n",
    "            self.plotSelfTest(ax)\n",
    "        else:\n",
    "            ax = self.lasttestplot\n",
    "    \n",
    "        ax = plt.subplot(122)\n",
    "        self.plotLosses(ax)\n",
    "        \n",
    "\n",
    "        plt.savefig(\"pltsave/\" + prefixThisRound + \"%05d.png\" % self.i)\n",
    "        plt.show();\n",
    "    \n",
    "    def plotSelfTrain(self, ax):\n",
    "\n",
    "        pred = model.predict(data[TRAIN+FEATURES])[:,0]\n",
    "#         r = rmse(pred,data[TRAIN+TRUTH])\n",
    "        r = xi2(pred,data[TRAIN+TRUTH], data[TRAIN+ERROR])\n",
    "        plt.scatter(x=data[TRAIN+TRUTH], y=pred, c='k', alpha=.1, label=\"NN train {:.2f}\".format(r))\n",
    "#         sns.kdeplot(data[TRAIN+TRUTH], pred,n_levels=10, shade=True, shade_lowest=False, cmap='rainbow', alpha=0.7)\n",
    "        plt.xlabel('ML_g truth')\n",
    "        plt.ylabel('prediction')\n",
    "#         plt.plot([7, 13], [0,0], 'k-', lw=2, label=\"target\")\n",
    "#         axes = plt.gca()\n",
    "#         axes.set_xlim([7,13])\n",
    "        plt.legend()\n",
    "        self.lasttrainplot = ax\n",
    "    \n",
    "    def plotSelfTest(self, ax):\n",
    "        \n",
    "        # lgbm values\n",
    "        plt.scatter(x=data[TEST+TRUTH], \n",
    "                    y=self.referencePrediction, \n",
    "                    c='b', alpha=.1, label=\"ref {:02f}\".format(self.referenceLoss))\n",
    "        \n",
    "        # test values\n",
    "        pred = model.predict(data[TEST+FEATURES])[:,0]\n",
    "        r = xi2(pred,data[TEST+TRUTH], data[TEST+ERROR])\n",
    "        plt.scatter(x=data[TEST+TRUTH], y=pred, c='g', alpha=.1, label=\"NN test {:.2f}\".format(r))\n",
    "        plt.xlabel('ML_g truth')\n",
    "        plt.ylabel('prediction')\n",
    "        plt.plot([0, 12], [0, 12], 'k-', lw=2, label=\"target\")\n",
    "#         axes = plt.gca()\n",
    "#         axes.set_xlim([7,13])\n",
    "        plt.legend()\n",
    "        self.lasttestplot = ax\n",
    "\n",
    "    def plotLosses(self, ax):\n",
    "        plt.plot(self.x, self.losses, label=\"train loss\")\n",
    "        plt.plot(self.x, self.val_losses, label=\"val loss\")\n",
    "        ax.set_yscale(\"log\", nonposy='clip')\n",
    "        ax.axhline(self.referenceLoss,linestyle='--')\n",
    "        plt.legend()\n",
    "        ax2 = ax.twinx()\n",
    "        ax2.set_yscale('log')\n",
    "        plt.plot(self.x,self.lr, c='r', label='learning rate', alpha=0.8)\n",
    "        \n",
    "#         plt.plot(self.x, self.testrmse, label=\"test rmse\", c='g')\n",
    "        plt.legend()\n",
    "\n",
    "        \n",
    "plot_losses = PlotLosses()"
   ]
  },
  {
   "cell_type": "code",
   "execution_count": 17,
   "metadata": {
    "collapsed": true
   },
   "outputs": [],
   "source": [
    "# currentLearningRate = K.get_value(model.optimizer.lr)\n",
    "# print(currentLearningRate)\n",
    "# K.set_value(model.optimizer.lr, 0.002)"
   ]
  },
  {
   "cell_type": "code",
   "execution_count": 18,
   "metadata": {
    "collapsed": true
   },
   "outputs": [],
   "source": [
    "from keras.layers import *\n",
    "from keras.models import Model"
   ]
  },
  {
   "cell_type": "code",
   "execution_count": 19,
   "metadata": {
    "collapsed": true
   },
   "outputs": [],
   "source": [
    "def batchNormDropoutAndReLU(x, alpha=0.2, bnMomentum=0.8, dropout=0.5):\n",
    "    x = BatchNormalization(momentum=bnMomentum)(x)\n",
    "    x = LeakyReLU(alpha=alpha)(x)\n",
    "    x = Dropout(dropout)(x)\n",
    "    return x\n",
    "\n",
    "def residualConv2D(x, nb_channels_in, nb_channels_out, stride=(3,3), project_shortcut=False, weightClip = 0):\n",
    "    shortcut = x\n",
    "\n",
    "    if weightClip == 0:\n",
    "        kwargs = {}\n",
    "    else:\n",
    "        kwargs = { 'W_constraint' : WeightClip(weightClip)}\n",
    "        \n",
    "    x = Conv2D(nb_channels_in, (1,1), padding='same', **kwargs)(x)\n",
    "    x = batchNormDropoutAndReLU(x)\n",
    "\n",
    "    x = Conv2D(nb_channels_in, stride, padding='same', **kwargs)(x)\n",
    "    x = batchNormDropoutAndReLU(x)\n",
    "    \n",
    "    x = Conv2D(nb_channels_out, (1,1), padding='same', **kwargs)(x)\n",
    "    x = batchNormDropoutAndReLU(x)\n",
    "    \n",
    "    if project_shortcut == True:\n",
    "        shortcut=Conv2D(nb_channels_out, (1,1), padding='same', **kwargs)(shortcut)\n",
    "    \n",
    "    x = keras.layers.add([x,shortcut])\n",
    "    \n",
    "    return x\n",
    "\n",
    "# placeholder function to sample from random distribution\n",
    "def sampling(args):\n",
    "    z_mean, z_log_var = args\n",
    "    epsilon = K.random_normal(shape=(K.shape(z_mean)[0], 100), mean=0., stddev=1.0)\n",
    "    return z_mean + K.exp(z_log_var / 2) * epsilon\n",
    "\n",
    "\n",
    "def trainAndEval(model, X_train, epochs=10000, evalepochs=20, batch_size=500):\n",
    "    w = X_train.shape[1]\n",
    "    h = X_train.shape[2]\n",
    "    for e in range(epochs):\n",
    "        clear_output(False)\n",
    "        print(e, \"/\", epochs)\n",
    "        plt.figure()\n",
    "        n = 3\n",
    "        img = np.zeros((2*h, n*w,3))\n",
    "        for i in range(n):\n",
    "            idx = random.randint(0,X_train.shape[0])\n",
    "            img[0:h,w*i:w*(i+1)] = X_train[idx]\n",
    "            img[h:2*h,w*i:w*(i+1)] = ae.predict(X_train[idx:idx+1])[0]\n",
    "        plt.imshow(img)\n",
    "        plt.show()\n",
    "        X_train = np.flip(X_train,axis=0)\n",
    "        model.fit(X_train,X_train, epochs=evalepochs, batch_size=batch_size, shuffle=True)\n",
    "\n",
    "def makeGaussian(size, fwhm = 3, center=None, channels=1):\n",
    "    \"\"\" Make a square gaussian kernel.\n",
    "    size is the length of a side of the square\n",
    "    fwhm is full-width-half-maximum, which\n",
    "    can be thought of as an effective radius.\n",
    "    \"\"\"\n",
    "\n",
    "    x = np.arange(0, size, 1, float)\n",
    "    y = x[:,np.newaxis]\n",
    "    \n",
    "    if center is None:\n",
    "        x0 = y0 = size // 2\n",
    "    else:\n",
    "        x0 = center[0]\n",
    "        y0 = center[1]\n",
    "    \n",
    "    g = np.exp(-4*np.log(2) * ((x-x0)**2 + (y-y0)**2) / fwhm**2)\n",
    "    if channels == 1:\n",
    "        return g\n",
    "    else:\n",
    "        x = np.zeros((size,size,channels))\n",
    "        x[:,:,:] = g[:,:,newaxis]\n",
    "        return x"
   ]
  },
  {
   "cell_type": "code",
   "execution_count": 20,
   "metadata": {},
   "outputs": [
    {
     "data": {
      "text/plain": [
       "(77531, 128, 128)"
      ]
     },
     "execution_count": 20,
     "metadata": {},
     "output_type": "execute_result"
    }
   ],
   "source": [
    "preprocessedImages.shape"
   ]
  },
  {
   "cell_type": "code",
   "execution_count": 30,
   "metadata": {},
   "outputs": [],
   "source": [
    "inp = Input((128,128,1))"
   ]
  },
  {
   "cell_type": "code",
   "execution_count": 22,
   "metadata": {
    "collapsed": true
   },
   "outputs": [],
   "source": [
    "imgsize = 128"
   ]
  },
  {
   "cell_type": "code",
   "execution_count": 23,
   "metadata": {},
   "outputs": [
    {
     "data": {
      "text/plain": [
       "5"
      ]
     },
     "execution_count": 23,
     "metadata": {},
     "output_type": "execute_result"
    }
   ],
   "source": [
    "numLayers = int(math.log(imgsize//4,2))\n",
    "numLayers"
   ]
  },
  {
   "cell_type": "code",
   "execution_count": 33,
   "metadata": {
    "scrolled": false
   },
   "outputs": [
    {
     "name": "stdout",
     "output_type": "stream",
     "text": [
      "5 32\n",
      "_________________________________________________________________\n",
      "Layer (type)                 Output Shape              Param #   \n",
      "=================================================================\n",
      "input_2 (InputLayer)         (None, 128, 128, 1)       0         \n",
      "_________________________________________________________________\n",
      "conv2d_17 (Conv2D)           (None, 64, 64, 8)         128       \n",
      "_________________________________________________________________\n",
      "batch_normalization_31 (Batc (None, 64, 64, 8)         32        \n",
      "_________________________________________________________________\n",
      "leaky_re_lu_31 (LeakyReLU)   (None, 64, 64, 8)         0         \n",
      "_________________________________________________________________\n",
      "dropout_31 (Dropout)         (None, 64, 64, 8)         0         \n",
      "_________________________________________________________________\n",
      "conv2d_18 (Conv2D)           (None, 32, 32, 16)        2048      \n",
      "_________________________________________________________________\n",
      "batch_normalization_32 (Batc (None, 32, 32, 16)        64        \n",
      "_________________________________________________________________\n",
      "leaky_re_lu_32 (LeakyReLU)   (None, 32, 32, 16)        0         \n",
      "_________________________________________________________________\n",
      "dropout_32 (Dropout)         (None, 32, 32, 16)        0         \n",
      "_________________________________________________________________\n",
      "conv2d_19 (Conv2D)           (None, 16, 16, 32)        8192      \n",
      "_________________________________________________________________\n",
      "batch_normalization_33 (Batc (None, 16, 16, 32)        128       \n",
      "_________________________________________________________________\n",
      "leaky_re_lu_33 (LeakyReLU)   (None, 16, 16, 32)        0         \n",
      "_________________________________________________________________\n",
      "dropout_33 (Dropout)         (None, 16, 16, 32)        0         \n",
      "_________________________________________________________________\n",
      "conv2d_20 (Conv2D)           (None, 8, 8, 64)          32768     \n",
      "_________________________________________________________________\n",
      "batch_normalization_34 (Batc (None, 8, 8, 64)          256       \n",
      "_________________________________________________________________\n",
      "leaky_re_lu_34 (LeakyReLU)   (None, 8, 8, 64)          0         \n",
      "_________________________________________________________________\n",
      "dropout_34 (Dropout)         (None, 8, 8, 64)          0         \n",
      "_________________________________________________________________\n",
      "conv2d_21 (Conv2D)           (None, 4, 4, 128)         131072    \n",
      "_________________________________________________________________\n",
      "batch_normalization_35 (Batc (None, 4, 4, 128)         512       \n",
      "_________________________________________________________________\n",
      "leaky_re_lu_35 (LeakyReLU)   (None, 4, 4, 128)         0         \n",
      "_________________________________________________________________\n",
      "dropout_35 (Dropout)         (None, 4, 4, 128)         0         \n",
      "_________________________________________________________________\n",
      "flatten_4 (Flatten)          (None, 2048)              0         \n",
      "_________________________________________________________________\n",
      "dense_7 (Dense)              (None, 100)               204900    \n",
      "_________________________________________________________________\n",
      "dense_8 (Dense)              (None, 2048)              206848    \n",
      "_________________________________________________________________\n",
      "reshape_4 (Reshape)          (None, 4, 4, 128)         0         \n",
      "_________________________________________________________________\n",
      "batch_normalization_36 (Batc (None, 4, 4, 128)         512       \n",
      "_________________________________________________________________\n",
      "leaky_re_lu_36 (LeakyReLU)   (None, 4, 4, 128)         0         \n",
      "_________________________________________________________________\n",
      "dropout_36 (Dropout)         (None, 4, 4, 128)         0         \n",
      "_________________________________________________________________\n",
      "conv2d_transpose_15 (Conv2DT (None, 8, 8, 128)         262144    \n",
      "_________________________________________________________________\n",
      "batch_normalization_37 (Batc (None, 8, 8, 128)         512       \n",
      "_________________________________________________________________\n",
      "leaky_re_lu_37 (LeakyReLU)   (None, 8, 8, 128)         0         \n",
      "_________________________________________________________________\n",
      "dropout_37 (Dropout)         (None, 8, 8, 128)         0         \n",
      "_________________________________________________________________\n",
      "conv2d_transpose_16 (Conv2DT (None, 16, 16, 64)        131072    \n",
      "_________________________________________________________________\n",
      "batch_normalization_38 (Batc (None, 16, 16, 64)        256       \n",
      "_________________________________________________________________\n",
      "leaky_re_lu_38 (LeakyReLU)   (None, 16, 16, 64)        0         \n",
      "_________________________________________________________________\n",
      "dropout_38 (Dropout)         (None, 16, 16, 64)        0         \n",
      "_________________________________________________________________\n",
      "conv2d_transpose_17 (Conv2DT (None, 32, 32, 32)        32768     \n",
      "_________________________________________________________________\n",
      "batch_normalization_39 (Batc (None, 32, 32, 32)        128       \n",
      "_________________________________________________________________\n",
      "leaky_re_lu_39 (LeakyReLU)   (None, 32, 32, 32)        0         \n",
      "_________________________________________________________________\n",
      "dropout_39 (Dropout)         (None, 32, 32, 32)        0         \n",
      "_________________________________________________________________\n",
      "conv2d_transpose_18 (Conv2DT (None, 64, 64, 16)        8192      \n",
      "_________________________________________________________________\n",
      "batch_normalization_40 (Batc (None, 64, 64, 16)        64        \n",
      "_________________________________________________________________\n",
      "leaky_re_lu_40 (LeakyReLU)   (None, 64, 64, 16)        0         \n",
      "_________________________________________________________________\n",
      "dropout_40 (Dropout)         (None, 64, 64, 16)        0         \n",
      "_________________________________________________________________\n",
      "conv2d_transpose_19 (Conv2DT (None, 128, 128, 1)       256       \n",
      "_________________________________________________________________\n",
      "activation_4 (Activation)    (None, 128, 128, 1)       0         \n",
      "=================================================================\n",
      "Total params: 1,022,852\n",
      "Trainable params: 1,021,620\n",
      "Non-trainable params: 1,232\n",
      "_________________________________________________________________\n",
      "(?, ?, ?, ?)\n"
     ]
    }
   ],
   "source": [
    "#stupid autoencoder\n",
    "encoderConvArgs = {'kernel_size':(4,4),'strides':(2,2),'padding':'same','use_bias':False}\n",
    "decoderConvArgs = {'kernel_size':(4,4),'strides':(2,2),'padding':'same','use_bias':False}\n",
    "\n",
    "\n",
    "x = inp\n",
    "\n",
    "numLayers = (2**int(math.log(imgsize//4,2)))\n",
    "# end with 4x4x256 and double back to 256x256x4 (or whatever the original size is)\n",
    "chan = 8 #*(2**int(math.log(imgsize//4,2)))\n",
    "for _ in range(int(math.log(imgsize//4,2))):\n",
    "    x = Conv2D(chan,**encoderConvArgs)(x)\n",
    "    x = batchNormDropoutAndReLU(x)\n",
    "    chan = chan * 2\n",
    "\n",
    "x = Flatten()(x)\n",
    "\n",
    "latent = Dense(100)(x)\n",
    "\n",
    "def decoderf(args):\n",
    "    global numLayers\n",
    "    numLayers = int(math.log(imgsize//4,2))\n",
    "    x = args\n",
    "    print(numLayers, (2**numLayers))\n",
    "    x = Dense(64*(2**numLayers))(x)\n",
    "    x = Reshape((4,4,-1))(x)\n",
    "    x = batchNormDropoutAndReLU(x)\n",
    "\n",
    "    chan = 128\n",
    "    for _ in range(int(math.log(imgsize/8,2))):\n",
    "#         x = UpSampling2D(size=(2,2))(x)\n",
    "        x = Conv2DTranspose(chan,**decoderConvArgs)(x)\n",
    "        x = batchNormDropoutAndReLU(x)\n",
    "        chan = chan//2\n",
    "\n",
    "    x = UpSampling2D(size=(2,2))(x)\n",
    "    x = Conv2DTranspose(1,**decoderConvArgs)(x)\n",
    "\n",
    "    decoderEnd = x\n",
    "    return decoderEnd\n",
    "\n",
    "decoded = decoderf(latent)\n",
    "y = Activation('sigmoid')(decoded)\n",
    "\n",
    "ae = Model(inp, y)\n",
    "\n",
    "def weightedmse(y_true, y_pred):\n",
    "    g = 0.4 + 0.6*makeGaussian(imgsize,int(imgsize*0.8), channels=3)\n",
    "#     g = np.ones((64,64,3))\n",
    "    x = K.square(y_pred - y_true)\n",
    "    x = x * g\n",
    "    x = K.mean(x, axis=-1)\n",
    "    print(K.square(y_pred - y_true).shape)\n",
    "    return x\n",
    "\n",
    "ae.summary()\n",
    "\n",
    "ae.compile(optimizer='rmsprop', loss=weightedmse)\n",
    "# aetest = Model(inp,decodedmean)\n",
    "\n"
   ]
  },
  {
   "cell_type": "code",
   "execution_count": 25,
   "metadata": {},
   "outputs": [],
   "source": [
    "preprocessedImages = preprocessedImages[:,:,:,newaxis]"
   ]
  },
  {
   "cell_type": "code",
   "execution_count": null,
   "metadata": {},
   "outputs": [
    {
     "name": "stdout",
     "output_type": "stream",
     "text": [
      "433 / 10000\n"
     ]
    },
    {
     "data": {
      "image/png": "[encoded data removed]",
      "text/plain": [
       "<matplotlib.figure.Figure at 0x7f98a0a322b0>"
      ]
     },
     "metadata": {},
     "output_type": "display_data"
    },
    {
     "name": "stdout",
     "output_type": "stream",
     "text": [
      "Epoch 1/1\n",
      "72000/77531 [==========================>...] - ETA: 1s - loss: 0.0046"
     ]
    }
   ],
   "source": [
    "trainAndEval(ae,preprocessedImages, batch_size=200, evalepochs=1)"
   ]
  },
  {
   "cell_type": "code",
   "execution_count": null,
   "metadata": {
    "collapsed": true
   },
   "outputs": [],
   "source": [
    "dqsdqsd"
   ]
  },
  {
   "cell_type": "markdown",
   "metadata": {},
   "source": [
    "# Retrain inceptionResetnet"
   ]
  },
  {
   "cell_type": "code",
   "execution_count": null,
   "metadata": {
    "collapsed": true
   },
   "outputs": [],
   "source": [
    "postImgFeatureNames = ['norm.flux.sum', 'norm.flux.min',\n",
    "                       'norm.flux.max', 'norm.flux.mean', \n",
    "                       'norm.flux.std', 'center.flux', \n",
    "                       'aroundCenter.flux']\n",
    "preImgFeatureNames = ['pre.flux.sum', 'pre.flux.min', \n",
    "                      'pre.flux.max', 'pre.flux.mean',\n",
    "                      'pre.flux.std', 'pre.center.flux',\n",
    "                      'pre.aroundCenter.flux', 'width']\n",
    "distanceNames = ['D', '1/D', 'D**2', '1/D**2']\n"
   ]
  },
  {
   "cell_type": "code",
   "execution_count": null,
   "metadata": {
    "collapsed": true
   },
   "outputs": [],
   "source": [
    "featureNames = distanceNames + preImgFeatureNames + postImgFeatureNames"
   ]
  },
  {
   "cell_type": "code",
   "execution_count": null,
   "metadata": {
    "collapsed": true
   },
   "outputs": [],
   "source": [
    "# #xx = np.concatenate([data[TRAIN+FEATURES],data[TEST+FEATURES]])\n",
    "# # dfids = [df.index[df.SDSS_ID==x] for x in data[ID]]\n",
    "\n",
    "# for i in range(len(featureNames)):\n",
    "#     fn = 'f' + featureNames[i]\n",
    "#     df.loc[dfids, fn] = xx[dfids,i]\n",
    "\n",
    "# # print(df.shape)\n",
    "# # np.concatenate([data[TRAIN+FEATURES][:,1],data[TEST+FEATURES][:,1]]).shape\n",
    "# df.to_csv('fullPlusFeatures.csv')"
   ]
  },
  {
   "cell_type": "code",
   "execution_count": null,
   "metadata": {
    "collapsed": true
   },
   "outputs": [],
   "source": [
    "from keras.layers import concatenate, Concatenate, MaxPooling2D"
   ]
  },
  {
   "cell_type": "code",
   "execution_count": null,
   "metadata": {
    "collapsed": true
   },
   "outputs": [],
   "source": [
    "from keras import Model"
   ]
  },
  {
   "cell_type": "code",
   "execution_count": null,
   "metadata": {
    "collapsed": true,
    "scrolled": true
   },
   "outputs": [],
   "source": [
    "# base_model = InceptionResNetV2(weights='imagenet', include_top=False,input_shape=(299,299,3)) #, pooling='avg')\n"
   ]
  },
  {
   "cell_type": "code",
   "execution_count": null,
   "metadata": {},
   "outputs": [],
   "source": [
    "# x = base_model.output\n",
    "inp = keras.layers.Input(shape=(69,69,1))\n",
    "x = inp\n",
    "\n",
    "extraFeaturesInput = keras.layers.Input(shape=(len(featureNames),))\n",
    "\n",
    "x = Conv2D(32, (6,6), activation = 'relu')(x)\n",
    "x = MaxPooling2D((2,2))(x)\n",
    "x = BatchNormalization()(x)\n",
    "x = Dropout(0.9)(x)\n",
    "\n",
    "x = Conv2D(64, (5,5), activation = 'relu')(x)\n",
    "x = MaxPooling2D((2,2))(x)\n",
    "x = BatchNormalization()(x)\n",
    "x = Dropout(0.9)(x)\n",
    "\n",
    "x = Conv2D(128, (3,3), activation = 'relu')(x)\n",
    "# x = MaxPooling2D((2,2))(x)\n",
    "x = BatchNormalization()(x)\n",
    "x = Dropout(0.9)(x)\n",
    "\n",
    "x = Conv2D(128, (3,3), activation = 'relu')(x)\n",
    "x = MaxPooling2D((2,2))(x)\n",
    "x = BatchNormalization()(x)\n",
    "x = Dropout(0.9)(x)\n",
    "\n",
    "x = Flatten()(x)\n",
    "\n",
    "x = Dense(37, activation = 'relu', kernel_initializer='truncated_normal',)(x)\n",
    "x = BatchNormalization()(x)\n",
    "x = Dropout(0.9)(x)\n",
    "\n",
    "x = concatenate([x, extraFeaturesInput])\n",
    "\n",
    "# x = Dense(512, activation='relu',kernel_initializer='truncated_normal',)(x)\n",
    "# x = BatchNormalization()(x)\n",
    "# x = Dropout(0.9)(x)\n",
    "# x = Dense(256, activation='relu',kernel_initializer='truncated_normal',)(x)\n",
    "# x = BatchNormalization()(x)\n",
    "# x = Dropout(0.9)(x)\n",
    "x = Dense(128, activation='relu',kernel_initializer='truncated_normal',)(x)\n",
    "x = BatchNormalization()(x)\n",
    "x = Dropout(0.9)(x)\n",
    "mymodel_output = Dense(1, activation='relu',kernel_initializer='truncated_normal')(x)\n",
    "\n",
    "# i = 0\n",
    "# for layer in base_model.layers:\n",
    "#     i = i +1\n",
    "#     if i < 500:\n",
    "#         layer.trainable = False\n",
    "\n",
    "model = Model([inp,extraFeaturesInput],mymodel_output)\n",
    "\n",
    "model.compile(optimizer='nadam', loss='mse')\n",
    "\n",
    "print(model.input,model.output.shape)"
   ]
  },
  {
   "cell_type": "code",
   "execution_count": null,
   "metadata": {
    "scrolled": false
   },
   "outputs": [],
   "source": [
    "model.summary()"
   ]
  },
  {
   "cell_type": "code",
   "execution_count": null,
   "metadata": {
    "collapsed": true,
    "scrolled": false
   },
   "outputs": [],
   "source": [
    "# i = 0\n",
    "# for layer in base_model.layers:\n",
    "#     print(i, layer)\n",
    "#     i = i +1"
   ]
  },
  {
   "cell_type": "code",
   "execution_count": null,
   "metadata": {
    "collapsed": true
   },
   "outputs": [],
   "source": [
    "reduceLRcallback = keras.callbacks.ReduceLROnPlateau(monitor='val_loss', factor=0.8, patience=1000, verbose=0, mode='auto', epsilon=0.0001, cooldown=20, min_lr=0)"
   ]
  },
  {
   "cell_type": "code",
   "execution_count": null,
   "metadata": {},
   "outputs": [],
   "source": [
    "preprocessedImages.shape"
   ]
  },
  {
   "cell_type": "code",
   "execution_count": null,
   "metadata": {},
   "outputs": [],
   "source": [
    "print(M,N)"
   ]
  },
  {
   "cell_type": "code",
   "execution_count": null,
   "metadata": {
    "collapsed": true
   },
   "outputs": [],
   "source": [
    "# dfidx = df.index.values\n",
    "dfidx = df[(df.reduced_chi_square < 5)].index.values\n",
    "trainIDX = dfidx[:M]\n",
    "testIDX = dfidx[M:N]\n",
    "\n",
    "Y = df.ML.values\n",
    "err = df.ML_error.values\n",
    "err = np.maximum(err, Y*0.05)\n",
    "weights = 1/err**2\n",
    "\n",
    "extraFeatures = df[['f' + x for x in featureNames]].values\n",
    "losses = []"
   ]
  },
  {
   "cell_type": "code",
   "execution_count": null,
   "metadata": {
    "collapsed": true
   },
   "outputs": [],
   "source": [
    "losses = []"
   ]
  },
  {
   "cell_type": "code",
   "execution_count": null,
   "metadata": {},
   "outputs": [],
   "source": [
    "import datetime\n",
    "datetime."
   ]
  },
  {
   "cell_type": "code",
   "execution_count": null,
   "metadata": {
    "scrolled": false
   },
   "outputs": [],
   "source": [
    "startbatch = 0\n",
    "minibatchsize = 150\n",
    "numEpochs=2000000 # 1000 is One epoch\n",
    "\n",
    "x = np.zeros((minibatchsize,69,69,1))\n",
    "for epoch in range(numEpochs):\n",
    "    indices = random.sample(set(trainIDX),minibatchsize)\n",
    "    ii = preprocessedImages[indices]\n",
    "    rr = random.randint(0,3)\n",
    "    if rr == 0:\n",
    "        ii = np.flip(ii,axis=1)\n",
    "    elif rr == 1:\n",
    "        ii = np.flip(ii,axis=2)\n",
    "    else:\n",
    "        x[:,:,:,:] = ii[:,:,:,newaxis]\n",
    "    \n",
    "    l = model.train_on_batch([x, extraFeatures[indices]], Y[indices], sample_weight=weights[indices])\n",
    "    losses.append(l)\n",
    "    if epoch % 1000 == 0:\n",
    "        clear_output(wait=True)\n",
    "        plt.figure(figsize=(16,8))\n",
    "        plt.plot(np.convolve(losses, np.ones(1000))/1000)\n",
    "        plt.axhline(40, c='orange', linestyle='--')\n",
    "        plt.axhline(30, c='orange', linestyle='--')\n",
    "        print(losses[-5:])\n",
    "        print(f'{epoch}/{numEpochs}')\n",
    "        plt.xlabel('minibatches()')\n",
    "        plt.show()\n",
    "# y = df."
   ]
  },
  {
   "cell_type": "code",
   "execution_count": null,
   "metadata": {
    "collapsed": true
   },
   "outputs": [],
   "source": [
    "model.save_weights('custom1.weights')"
   ]
  },
  {
   "cell_type": "code",
   "execution_count": null,
   "metadata": {
    "collapsed": true
   },
   "outputs": [],
   "source": [
    "# indices = random.sample(set(trainIDX),minibatchsize)\n",
    "plt.imshow((preprocessedImages[indices])[1])\n",
    "plt.figure()\n",
    "plt.imshow(np.flip(preprocessedImages[indices], axis=2)[1])\n",
    "plt.figure()\n",
    "plt.imshow(np.flip(preprocessedImages[indices], axis=1)[1])\n"
   ]
  },
  {
   "cell_type": "code",
   "execution_count": null,
   "metadata": {
    "collapsed": true
   },
   "outputs": [],
   "source": [
    "!nvidia-smi"
   ]
  },
  {
   "cell_type": "code",
   "execution_count": null,
   "metadata": {
    "collapsed": true
   },
   "outputs": [],
   "source": [
    "pred = []\n",
    "for i in tqdm(testIDX):\n",
    "    x = np.zeros([1,299,299,3])\n",
    "    x[:,:,:,:] = preprocessedImages[i][newaxis,:,:,newaxis]\n",
    "    pred.append(model.predict([x, extraFeatures[i][newaxis,:]])[:,0][0])# print(x)"
   ]
  },
  {
   "cell_type": "code",
   "execution_count": null,
   "metadata": {
    "collapsed": true,
    "scrolled": false
   },
   "outputs": [],
   "source": [
    "linChiSq = xi2(Y[testIDX],pred,err[testIDX])\n",
    "print(linChiSq)\n",
    "\n",
    "g = plt.scatter(x=pred, y=Y[testIDX], alpha=.3)\n",
    "g.x = x\n",
    "g.y = Y[testIDX]\n",
    "# g.plot_joint(plt.scatter, alpha=.3, c='r')\n",
    "plt.suptitle('dataSize:{} epochs:{}'.format(epoch,numEpochs))\n",
    "\n",
    "plt.legend(['lgbm', 'keras-rmsprop'])\n",
    "# sns.jointplot(x=x[:,0], y=cvpred)"
   ]
  },
  {
   "cell_type": "code",
   "execution_count": null,
   "metadata": {
    "collapsed": true
   },
   "outputs": [],
   "source": [
    "plt.figure(figsize=(18,8))\n",
    "plt.subplot(121)\n",
    "plt.title('lgbm, error(logM) distribution')\n",
    "plt.scatter(x=pred, y=pred-Y[testIDX], alpha=0.1, c='k')\n",
    "sns.kdeplot(pred, pred-Y[testIDX],n_levels=30, shade=True, shade_lowest=False, cmap='rainbow', alpha=0.7)\n",
    "plt.plot([7,13],[0,0], 'k-')"
   ]
  },
  {
   "cell_type": "code",
   "execution_count": null,
   "metadata": {
    "collapsed": true
   },
   "outputs": [],
   "source": [
    "linChiSq = xi2(Y[testIDX],pred,err[testIDX])\n",
    "print(linChiSq)\n",
    "\n",
    "plt.figure(figsize=(16,16))\n",
    "cmap = sns.cubehelix_palette(as_cmap=True, dark=0, light=1, reverse=True)\n",
    "cmap = sns.cubehelix_palette(as_cmap=True, start=2.8, rot=.1, reverse=True)\n",
    "\n",
    "# sns.kdeplot(cvpred, data[TEST+TRUTH], cmap=cmap, shade=True, bw=0.2, cut=0, n_levels=60,shade_lowest=False, )\n",
    "sns.kdeplot(Y[testIDX], pred, alpha=0.99, cmap=cmap, shade=True, bw=0.2, cut=0, n_levels=60, label='LGB chi² {:.2f}'.format(linChiSq) )\n",
    "# sns.kdeplot(cvpred, data[TEST+TRUTH], cmap=cmap, bw=0.2, cut=0, n_levels=20, alpha=0.5)\n",
    "plt.plot([0.25,5],[0.25,5], c='w', label='target')\n",
    "plt.xlabel('prediction')\n",
    "plt.ylabel('truth')\n",
    "\n",
    "plt.legend()"
   ]
  },
  {
   "cell_type": "code",
   "execution_count": null,
   "metadata": {
    "collapsed": true,
    "scrolled": false
   },
   "outputs": [],
   "source": [
    "plt.figure(figsize=(12,12))\n",
    "# cmap = sns.cubehelix_palette(as_cmap=True, dark=0, light=1, reverse=True)\n",
    "cmap = sns.cubehelix_palette(as_cmap=True, start=2.8, rot=.1, reverse=True)\n",
    "\n",
    "plt.title(prefixThisRound)\n",
    "# sns.kdeplot(cvpred, data[TEST+TRUTH], cmap=cmap, shade=True, bw=0.2, cut=0, n_levels=60,shade_lowest=False, )\n",
    "sns.kdeplot(cvpred, data[TEST+TRUTH], alpha=0.99, cmap=cmap, shade=True, bw=0.2, cut=0, n_levels=60, label='LGB chi² {:.2f}'.format(linChiSq) )\n",
    "plt.scatter(x=cvpred, y=data[TEST+TRUTH], alpha=0.03, c='w', marker='x', label='LGB chi² {:.2f}'.format(linChiSq) )\n",
    "# sns.kdeplot(cvpred, data[TEST+TRUTH], cmap=cmap, bw=0.2, cut=0, n_levels=20, alpha=0.5)\n",
    "plt.plot([0.25,5],[0.25,5], c='w', label='target')\n",
    "plt.xlabel('prediction')\n",
    "plt.ylabel('truth')\n",
    "\n",
    "plt.legend()"
   ]
  },
  {
   "cell_type": "code",
   "execution_count": null,
   "metadata": {
    "collapsed": true
   },
   "outputs": [],
   "source": [
    "model.save_weights('partialretraininginceptionresnet-3.weights')"
   ]
  },
  {
   "cell_type": "code",
   "execution_count": null,
   "metadata": {
    "collapsed": true
   },
   "outputs": [],
   "source": [
    "base_model.save_weights('inceptiontuned.weights')"
   ]
  },
  {
   "cell_type": "code",
   "execution_count": null,
   "metadata": {
    "collapsed": true
   },
   "outputs": [],
   "source": [
    "plt.plot(np.convolve(losses, np.ones(1000))/1000)\n",
    "plt.axhline(40, c='orange', linestyle='--')\n",
    "plt.axhline(30, c='orange', linestyle='--')\n"
   ]
  },
  {
   "cell_type": "code",
   "execution_count": null,
   "metadata": {
    "collapsed": true
   },
   "outputs": [],
   "source": [
    "model.train_on_batch(x, Y[startbatch:startbatch+minibatchsize])"
   ]
  },
  {
   "cell_type": "code",
   "execution_count": null,
   "metadata": {
    "collapsed": true
   },
   "outputs": [],
   "source": [
    "# x = preprocessedImages[:20]\n",
    "model.fit(x, \n",
    "#               sample_weight=1/(data[TRAIN+ERROR][:num])**2,\n",
    "#               sample_weight=1/np.maximum(data[TRAIN+ERROR], data[TRAIN+TRUTH] * 0.05)**2,\n",
    "          batch_size=1000, \n",
    "          epochs=numEpochs, \n",
    "          validation_split = 0.1, \n",
    "          verbose = 1,\n",
    "          callbacks=[plot_losses,reduceLRcallback])"
   ]
  },
  {
   "cell_type": "code",
   "execution_count": null,
   "metadata": {
    "collapsed": true
   },
   "outputs": [],
   "source": []
  },
  {
   "cell_type": "code",
   "execution_count": null,
   "metadata": {
    "collapsed": true
   },
   "outputs": [],
   "source": []
  },
  {
   "cell_type": "code",
   "execution_count": null,
   "metadata": {
    "collapsed": true
   },
   "outputs": [],
   "source": []
  },
  {
   "cell_type": "code",
   "execution_count": null,
   "metadata": {
    "collapsed": true,
    "scrolled": false
   },
   "outputs": [],
   "source": [
    "nSplits = 10\n",
    "models, cvtrainpreds = getLGBMModelsWithCV(data[TRAIN+FEATURES], data[TRAIN+TRUTH], data[TRAIN+ERROR])\n",
    "\n",
    "ppreds = np.zeros([len(models),data[TEST+FEATURES].shape[0]])\n",
    "for i, m in zip(range(len(models)),models):\n",
    "    mp = m.predict(data[TEST+FEATURES])\n",
    "    ppreds[i] = mp\n",
    "\n",
    "cvpred = ppreds.mean(axis=0)"
   ]
  },
  {
   "cell_type": "code",
   "execution_count": null,
   "metadata": {
    "collapsed": true
   },
   "outputs": [],
   "source": [
    "for i in range(len(ppreds)):\n",
    "    linChiSq = xi2(ppreds[i], data[TEST+TRUTH], data[TEST+ERROR])\n",
    "    print(\"Iteration {}: {}\".format(i, linChiSq))\n",
    "\n",
    "mpred = ppreds.reshape((10,-1)).mean(axis=0)\n",
    "\n",
    "# cmap = sns.cubehelix_palette(as_cmap=True, dark=0, light=1, reverse=True)\n",
    "cmap = sns.cubehelix_palette(as_cmap=True, start=2.8, rot=.1, reverse=True)\n",
    "\n",
    "linChiSq = xi2(mpred, data[TEST+TRUTH], data[TEST+ERROR])\n",
    "\n",
    "plt.figure(figsize=(12,12))\n",
    "plt.title(prefixThisRound)\n",
    "sns.kdeplot(mpred, data[TEST+TRUTH], alpha=1, cmap=cmap, shade=True, bw=0.2, cut=0, n_levels=60, label='LGB chi² {:.2f}'.format(linChiSq) )\n",
    "plt.scatter(x=mpred, y=data[TEST+TRUTH], alpha=0.03, c='w', marker='x', label='LGB chi² {:.2f}'.format(linChiSq) )\n",
    "plt.plot([0.25,5],[0.25,5], c='w', label='target')\n",
    "plt.xlabel('prediction')\n",
    "plt.ylabel('truth')\n",
    "\n",
    "plt.legend()\n",
    "plt.show()\n",
    "\n",
    "plt.figure(figsize=(12,12))\n",
    "plt.title(prefixThisRound)\n",
    "sns.kdeplot(mpred, mpred-data[TEST+TRUTH], alpha=1, cmap=cmap, shade=True, bw=0.2, cut=0, n_levels=60, label='LGB chi² {:.2f}'.format(linChiSq) )\n",
    "plt.scatter(x=mpred, y=mpred-data[TEST+TRUTH], alpha=0.03, c='w', marker='x', label='LGB chi² {:.2f}'.format(linChiSq) )\n",
    "plt.plot([0.25,5],[0,0], c='w', label='target')\n",
    "plt.xlabel('prediction')\n",
    "plt.ylabel('prediction error')\n",
    "\n",
    "plt.legend()\n",
    "plt.show()"
   ]
  },
  {
   "cell_type": "code",
   "execution_count": null,
   "metadata": {
    "collapsed": true
   },
   "outputs": [],
   "source": []
  },
  {
   "cell_type": "code",
   "execution_count": null,
   "metadata": {
    "collapsed": true
   },
   "outputs": [],
   "source": []
  }
 ],
 "metadata": {
  "kernelspec": {
   "display_name": "Python [conda env:astrohack]",
   "language": "python",
   "name": "conda-env-astrohack-py"
  },
  "language_info": {
   "codemirror_mode": {
    "name": "ipython",
    "version": 3
   },
   "file_extension": ".py",
   "mimetype": "text/x-python",
   "name": "python",
   "nbconvert_exporter": "python",
   "pygments_lexer": "ipython3",
   "version": "3.6.1"
  }
 },
 "nbformat": 4,
 "nbformat_minor": 2
}
