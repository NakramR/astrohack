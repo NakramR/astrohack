{
 "cells": [
  {
   "cell_type": "code",
   "execution_count": 1,
   "metadata": {},
   "outputs": [
    {
     "name": "stderr",
     "output_type": "stream",
     "text": [
      "/opt/anaconda3/envs/astrohack/lib/python3.6/site-packages/h5py/__init__.py:36: FutureWarning: Conversion of the second argument of issubdtype from `float` to `np.floating` is deprecated. In future, it will be treated as `np.float64 == np.dtype(float).type`.\n",
      "  from ._conv import register_converters as _register_converters\n",
      "Using TensorFlow backend.\n"
     ]
    }
   ],
   "source": [
    "import pandas as pd\n",
    "import numpy as np\n",
    "from numpy import newaxis\n",
    "import matplotlib.pyplot as plt\n",
    "import random\n",
    "import seaborn as sns\n",
    "import itertools\n",
    "import os\n",
    "from PIL import Image\n",
    "import math\n",
    "from matplotlib import gridspec\n",
    "import matplotlib.collections\n",
    "from glob import glob\n",
    "from keras.applications import *\n",
    "import lightgbm as lgbm\n",
    "import scipy\n",
    "import tensorflow\n",
    "\n",
    "\n",
    "from matplotlib.transforms import Affine2D\n",
    "import mpl_toolkits.axisartist.floating_axes as floating_axes\n",
    "import matplotlib.collections\n",
    "\n",
    "from sklearn.model_selection import *\n",
    "\n",
    "from tqdm import *\n",
    "\n",
    "import astrohack\n",
    "from astrohack import *\n",
    "# nice progress bars otherwise\n",
    "# def tqdm(x):\n",
    "#     yield x"
   ]
  },
  {
   "cell_type": "code",
   "execution_count": 2,
   "metadata": {
    "collapsed": true
   },
   "outputs": [],
   "source": [
    "# TODO, improvement ideas\n",
    "\n",
    "# TPOT python auto ml\n",
    "# use log(flux) as input\n",
    "# investigate highest errors (argmax(xi²))\n",
    "\n",
    "# kfold integration in place of CV\n",
    "# TTA\n",
    "# CNN segmentation cleanup \n",
    "# resnet v2 ( https://github.com/myutwo150/keras-inception-resnet-v2/blob/master/inception_resnet_v2.py )\n",
    "# custom CNN features\n",
    "\n",
    "# Serge:\n",
    "# essayer de remplacer lgb par un Deep NN keras (vu la quantité de donnée)\n",
    "\n",
    "\n",
    "#done\n",
    "# lgbm eval rmsle instead of rmse\n",
    "# add image size as feature\n",
    "# CV2 resize cubic interpolation \n",
    "\n"
   ]
  },
  {
   "cell_type": "code",
   "execution_count": 3,
   "metadata": {
    "collapsed": true
   },
   "outputs": [],
   "source": [
    "# memory debug function\n",
    "\n",
    "import sys\n",
    "# These are the usual ipython objects, including this one you are creating\n",
    "ipython_vars = ['In', 'Out', 'exit', 'quit', 'get_ipython', 'ipython_vars']\n",
    "\n",
    "# Get a sorted list of the objects and their sizes\n",
    "mm = sorted([(x, sys.getsizeof(globals().get(x)),\"{:,}\".format(sys.getsizeof(globals().get(x)))) \n",
    "        for x in dir() \n",
    "           if not x.startswith('_') \n",
    "#         and x not in sys.modules\n",
    "        and x not in ipython_vars], key=lambda x: x[1], reverse=True)\n",
    "\n",
    "mm\n",
    "a= None"
   ]
  },
  {
   "cell_type": "markdown",
   "metadata": {},
   "source": [
    "## data folder set up and test"
   ]
  },
  {
   "cell_type": "code",
   "execution_count": 4,
   "metadata": {
    "collapsed": true
   },
   "outputs": [],
   "source": [
    "astrohack.dataFolder = 'data/mainData_original/'\n",
    "plt.ion()\n",
    "\n",
    "runNameParams = []\n",
    "runNameParams.append('newSource')\n",
    "# print(runNameParams)"
   ]
  },
  {
   "cell_type": "code",
   "execution_count": 5,
   "metadata": {
    "collapsed": true,
    "scrolled": false
   },
   "outputs": [],
   "source": [
    "\n",
    "issuesImages = ['1237658298983055529.npy','1237660634917634181.npy','1237654879654772871.npy','1237654953205170487.npy','1237651249884627014.npy','1237651754022207627.npy',\n",
    " '1237654669736018114.npy','1237655471824568727.npy','1237665530643808416.npy','1237658611444088911.npy','1237667255070490937.npy',\n",
    " '1237665531177795774.npy','1237645943975837722.npy','1237658425161220139.npy', '1237665129087435003.npy','1237657873792172224.npy',\n",
    " '1237660240313778264.npy','1237668298201432152.npy', '1237662264316264518.npy','1237657630042227294.npy','1237651754550624376.npy',\n",
    " '1237667211059986578.npy','1237655470208582145.npy']\n",
    "\n",
    "# for image in issuesImages:\n",
    "#     drawOneGalaxy(image)"
   ]
  },
  {
   "cell_type": "markdown",
   "metadata": {
    "scrolled": false
   },
   "source": [
    "# ML part"
   ]
  },
  {
   "cell_type": "code",
   "execution_count": 6,
   "metadata": {
    "collapsed": true
   },
   "outputs": [],
   "source": [
    "# preprocName = \"ReadNormCrop.5\"\n",
    "# x = img_preproc('1237662637444694216')\n"
   ]
  },
  {
   "cell_type": "markdown",
   "metadata": {},
   "source": [
    "### Read metadata file"
   ]
  },
  {
   "cell_type": "code",
   "execution_count": 7,
   "metadata": {},
   "outputs": [
    {
     "name": "stderr",
     "output_type": "stream",
     "text": [
      "/opt/anaconda3/envs/astrohack/lib/python3.6/site-packages/IPython/core/interactiveshell.py:2802: DtypeWarning: Columns (13) have mixed types. Specify dtype option on import or set low_memory=False.\n",
      "  if self.run_code(code, result):\n"
     ]
    },
    {
     "data": {
      "text/html": [
       "<div>\n",
       "<style>\n",
       "    .dataframe thead tr:only-child th {\n",
       "        text-align: right;\n",
       "    }\n",
       "\n",
       "    .dataframe thead th {\n",
       "        text-align: left;\n",
       "    }\n",
       "\n",
       "    .dataframe tbody tr th {\n",
       "        vertical-align: top;\n",
       "    }\n",
       "</style>\n",
       "<table border=\"1\" class=\"dataframe\">\n",
       "  <thead>\n",
       "    <tr style=\"text-align: right;\">\n",
       "      <th></th>\n",
       "      <th>SDSS_ID</th>\n",
       "      <th>RA</th>\n",
       "      <th>DEC</th>\n",
       "      <th>D25</th>\n",
       "      <th>redshift</th>\n",
       "      <th>logMstar</th>\n",
       "      <th>err_logMstar</th>\n",
       "      <th>GalSize_kpc</th>\n",
       "      <th>D_Mpc</th>\n",
       "      <th>d_pix_kpc</th>\n",
       "      <th>...</th>\n",
       "      <th>petroMag_i</th>\n",
       "      <th>petroMagErr_i</th>\n",
       "      <th>ML_g_zibetti</th>\n",
       "      <th>hasimg</th>\n",
       "      <th>isgalaxy</th>\n",
       "      <th>redshi</th>\n",
       "      <th>Distance</th>\n",
       "      <th>lin_mass</th>\n",
       "      <th>lin_err</th>\n",
       "      <th>hasFile</th>\n",
       "    </tr>\n",
       "  </thead>\n",
       "  <tbody>\n",
       "    <tr>\n",
       "      <th>122</th>\n",
       "      <td>1237662301367173202</td>\n",
       "      <td>231.31860</td>\n",
       "      <td>41.34601</td>\n",
       "      <td>0.512861</td>\n",
       "      <td>0.0761</td>\n",
       "      <td>10.325</td>\n",
       "      <td>0.045</td>\n",
       "      <td>48.655727</td>\n",
       "      <td>326.142854</td>\n",
       "      <td>0.632474</td>\n",
       "      <td>...</td>\n",
       "      <td>17.06292</td>\n",
       "      <td>0.016465</td>\n",
       "      <td>2.440075</td>\n",
       "      <td>True</td>\n",
       "      <td>True</td>\n",
       "      <td>0.0761</td>\n",
       "      <td>326.142854</td>\n",
       "      <td>2.113489e+10</td>\n",
       "      <td>2.189920e+09</td>\n",
       "      <td>True</td>\n",
       "    </tr>\n",
       "    <tr>\n",
       "      <th>151</th>\n",
       "      <td>1237662301905813735</td>\n",
       "      <td>236.00985</td>\n",
       "      <td>39.28830</td>\n",
       "      <td>0.446684</td>\n",
       "      <td>0.0685</td>\n",
       "      <td>9.824</td>\n",
       "      <td>0.040</td>\n",
       "      <td>38.145197</td>\n",
       "      <td>293.571417</td>\n",
       "      <td>0.569310</td>\n",
       "      <td>...</td>\n",
       "      <td>17.34244</td>\n",
       "      <td>0.024660</td>\n",
       "      <td>0.599353</td>\n",
       "      <td>True</td>\n",
       "      <td>True</td>\n",
       "      <td>0.0685</td>\n",
       "      <td>293.571417</td>\n",
       "      <td>6.668068e+09</td>\n",
       "      <td>6.141517e+08</td>\n",
       "      <td>True</td>\n",
       "    </tr>\n",
       "    <tr>\n",
       "      <th>161</th>\n",
       "      <td>1237662534360301834</td>\n",
       "      <td>237.49500</td>\n",
       "      <td>9.27861</td>\n",
       "      <td>0.630957</td>\n",
       "      <td>0.0390</td>\n",
       "      <td>9.923</td>\n",
       "      <td>0.053</td>\n",
       "      <td>30.677076</td>\n",
       "      <td>167.142861</td>\n",
       "      <td>0.324133</td>\n",
       "      <td>...</td>\n",
       "      <td>15.77625</td>\n",
       "      <td>0.016406</td>\n",
       "      <td>0.433526</td>\n",
       "      <td>True</td>\n",
       "      <td>True</td>\n",
       "      <td>0.0390</td>\n",
       "      <td>167.142861</td>\n",
       "      <td>8.375293e+09</td>\n",
       "      <td>1.022096e+09</td>\n",
       "      <td>True</td>\n",
       "    </tr>\n",
       "    <tr>\n",
       "      <th>184</th>\n",
       "      <td>1237662500543987740</td>\n",
       "      <td>242.00880</td>\n",
       "      <td>36.05398</td>\n",
       "      <td>0.562341</td>\n",
       "      <td>0.0658</td>\n",
       "      <td>10.356</td>\n",
       "      <td>0.079</td>\n",
       "      <td>46.129129</td>\n",
       "      <td>282.000016</td>\n",
       "      <td>0.546870</td>\n",
       "      <td>...</td>\n",
       "      <td>16.03409</td>\n",
       "      <td>0.019268</td>\n",
       "      <td>1.717689</td>\n",
       "      <td>True</td>\n",
       "      <td>True</td>\n",
       "      <td>0.0658</td>\n",
       "      <td>282.000016</td>\n",
       "      <td>2.269865e+10</td>\n",
       "      <td>4.128980e+09</td>\n",
       "      <td>True</td>\n",
       "    </tr>\n",
       "    <tr>\n",
       "      <th>230</th>\n",
       "      <td>1237662474232398001</td>\n",
       "      <td>246.28905</td>\n",
       "      <td>29.94774</td>\n",
       "      <td>0.446684</td>\n",
       "      <td>0.0455</td>\n",
       "      <td>9.234</td>\n",
       "      <td>0.094</td>\n",
       "      <td>25.337321</td>\n",
       "      <td>194.999996</td>\n",
       "      <td>0.378155</td>\n",
       "      <td>...</td>\n",
       "      <td>17.14907</td>\n",
       "      <td>0.026226</td>\n",
       "      <td>0.651158</td>\n",
       "      <td>True</td>\n",
       "      <td>True</td>\n",
       "      <td>0.0455</td>\n",
       "      <td>194.999996</td>\n",
       "      <td>1.713957e+09</td>\n",
       "      <td>3.709741e+08</td>\n",
       "      <td>True</td>\n",
       "    </tr>\n",
       "  </tbody>\n",
       "</table>\n",
       "<p>5 rows × 31 columns</p>\n",
       "</div>"
      ],
      "text/plain": [
       "                 SDSS_ID         RA       DEC       D25  redshift  logMstar  \\\n",
       "122  1237662301367173202  231.31860  41.34601  0.512861    0.0761    10.325   \n",
       "151  1237662301905813735  236.00985  39.28830  0.446684    0.0685     9.824   \n",
       "161  1237662534360301834  237.49500   9.27861  0.630957    0.0390     9.923   \n",
       "184  1237662500543987740  242.00880  36.05398  0.562341    0.0658    10.356   \n",
       "230  1237662474232398001  246.28905  29.94774  0.446684    0.0455     9.234   \n",
       "\n",
       "     err_logMstar  GalSize_kpc       D_Mpc  d_pix_kpc   ...     petroMag_i  \\\n",
       "122         0.045    48.655727  326.142854   0.632474   ...       17.06292   \n",
       "151         0.040    38.145197  293.571417   0.569310   ...       17.34244   \n",
       "161         0.053    30.677076  167.142861   0.324133   ...       15.77625   \n",
       "184         0.079    46.129129  282.000016   0.546870   ...       16.03409   \n",
       "230         0.094    25.337321  194.999996   0.378155   ...       17.14907   \n",
       "\n",
       "     petroMagErr_i  ML_g_zibetti hasimg  isgalaxy  redshi    Distance  \\\n",
       "122       0.016465      2.440075   True      True  0.0761  326.142854   \n",
       "151       0.024660      0.599353   True      True  0.0685  293.571417   \n",
       "161       0.016406      0.433526   True      True  0.0390  167.142861   \n",
       "184       0.019268      1.717689   True      True  0.0658  282.000016   \n",
       "230       0.026226      0.651158   True      True  0.0455  194.999996   \n",
       "\n",
       "         lin_mass       lin_err  hasFile  \n",
       "122  2.113489e+10  2.189920e+09     True  \n",
       "151  6.668068e+09  6.141517e+08     True  \n",
       "161  8.375293e+09  1.022096e+09     True  \n",
       "184  2.269865e+10  4.128980e+09     True  \n",
       "230  1.713957e+09  3.709741e+08     True  \n",
       "\n",
       "[5 rows x 31 columns]"
      ]
     },
     "execution_count": 7,
     "metadata": {},
     "output_type": "execute_result"
    }
   ],
   "source": [
    "df =  getAstrohackDataFrameOld2()\n",
    "df.head()\n"
   ]
  },
  {
   "cell_type": "code",
   "execution_count": 8,
   "metadata": {},
   "outputs": [
    {
     "data": {
      "image/png": "[encoded data removed]",
      "text/plain": [
       "<matplotlib.figure.Figure at 0x7f26a3a62cf8>"
      ]
     },
     "metadata": {},
     "output_type": "display_data"
    },
    {
     "data": {
      "text/plain": [
       "<matplotlib.axes._subplots.AxesSubplot at 0x7f26a35e2dd8>"
      ]
     },
     "execution_count": 8,
     "metadata": {},
     "output_type": "execute_result"
    },
    {
     "data": {
      "image/png": "[encoded data removed]",
      "text/plain": [
       "<matplotlib.figure.Figure at 0x7f26a33daf60>"
      ]
     },
     "metadata": {},
     "output_type": "display_data"
    }
   ],
   "source": [
    "df[df.ML_g_rel_err < 2].ML_g_rel_err.hist(bins=100)\n",
    "plt.show()\n",
    "df.ML_g.hist(bins=100)"
   ]
  },
  {
   "cell_type": "markdown",
   "metadata": {},
   "source": [
    "### Filter images that have no known mass, no actual image, or with an unknown error"
   ]
  },
  {
   "cell_type": "code",
   "execution_count": 9,
   "metadata": {},
   "outputs": [
    {
     "name": "stdout",
     "output_type": "stream",
     "text": [
      "76908\n"
     ]
    }
   ],
   "source": [
    "print(len(df.SDSS_ID.values))"
   ]
  },
  {
   "cell_type": "code",
   "execution_count": 10,
   "metadata": {
    "collapsed": true
   },
   "outputs": [],
   "source": [
    "vgg16 = None\n",
    "r50 = None\n",
    "cnn = None"
   ]
  },
  {
   "cell_type": "code",
   "execution_count": 11,
   "metadata": {
    "collapsed": true
   },
   "outputs": [],
   "source": [
    "\n",
    "runNameParams.append('ReadLog1pNormCrop.75origOldCleanup')\n",
    "\n",
    "postImgFeatureNames = ['norm.flux.sum', 'norm.flux.min',\n",
    "                       'norm.flux.max', 'norm.flux.mean', \n",
    "                       'norm.flux.std', 'center.flux', \n",
    "                       'aroundCenter.flux']\n",
    "preImgFeatureNames = ['pre.flux.sum', 'pre.flux.min', \n",
    "                      'pre.flux.max', 'pre.flux.mean',\n",
    "                      'pre.flux.std', 'pre.center.flux',\n",
    "                      'pre.aroundCenter.flux', 'width']\n",
    "distanceNames = ['D', '1/D', 'D**2', '1/D**2', 'D**3', '1/D**3', 'log(D)', '1/log(D)', 'log(D**2)', 'log(1/D**2)', 'log(D)**2', '1/log(D)**2' ]\n",
    "numFeatures = 0\n",
    "\n",
    "def getFeatures(preProcessingNum):\n",
    "    global vgg16, r50, cnn,numFeatures\n",
    "    \n",
    "    if vgg16 == None:\n",
    "        vgg16 = VGG16(weights='imagenet',include_top=True,input_shape=(224,224,3))\n",
    "    if r50 == None:\n",
    "        r50 = ResNet50(weights='imagenet',include_top=False,input_shape=(224,224,3))\n",
    "#     if cnn == None:\n",
    "#         cnn = load_model('encoder.h5')\n",
    "    Xg3r50 = []\n",
    "    Xg3vgg16 = []\n",
    "    postImgFeatures = []\n",
    "    csize=2\n",
    "    preImgFeatures = []\n",
    "    cnnFeatures = []\n",
    "\n",
    "    maxChunkNumber = math.ceil(len(ids)/chunkSize)\n",
    "    chunkStart = 0\n",
    "    # for chunkStart in tqdm(range(0, 3)):\n",
    "    \n",
    "    # do the loading by chunk to avoid consuming too much memory\n",
    "    for chunkStart in tqdm(range(0, len(ids), chunkSize)):\n",
    "        curChunk = int((chunkStart//chunkSize))\n",
    "        valuesInThisChunk = min(chunkStart+chunkSize,len(ids))-chunkStart\n",
    "\n",
    "        Xg_ = []\n",
    "        pre_ex_ = []\n",
    "\n",
    "        # preprocess the image and collect some raw image stats\n",
    "        for i in range(chunkStart, chunkStart+valuesInThisChunk):\n",
    "            X = read_image(ids[i])\n",
    "            Xg_.append(img_preprocnoread(X, preProcessingNum))\n",
    "            pre_ex_.append([\n",
    "                X.sum(),\n",
    "                X.min(),\n",
    "                X.max(),\n",
    "                X.mean(),\n",
    "                X.std(),\n",
    "                X[X.shape[0]//2,X.shape[1]//2],\n",
    "                np.mean(X[X.shape[0]//2-csize:X.shape[0]//2+csize,X.shape[1]//2-csize:X.shape[1]//2+csize]), # mean center\n",
    "                X.shape[0], \n",
    "            ])\n",
    "\n",
    "        # stack the postprocessing\n",
    "        pre_ex = np.stack(pre_ex_)\n",
    "        Xg = np.stack(Xg_)\n",
    "\n",
    "        # collect some post processing stats\n",
    "        post_ex = np.hstack([\n",
    "            np.sum(Xg.reshape(valuesInThisChunk,-1),axis=1).reshape(valuesInThisChunk,1),\n",
    "            np.min(Xg.reshape(valuesInThisChunk,-1),axis=1).reshape(valuesInThisChunk,1),\n",
    "            np.max(Xg.reshape(valuesInThisChunk,-1),axis=1).reshape(valuesInThisChunk,1),\n",
    "            np.mean(Xg.reshape(valuesInThisChunk,-1),axis=1).reshape(valuesInThisChunk,1),\n",
    "            np.std(Xg.reshape(valuesInThisChunk,-1),axis=1).reshape(valuesInThisChunk,1),\n",
    "            Xg[:,112,112].reshape(valuesInThisChunk,1),       # center\n",
    "            np.mean(Xg[:,112-csize:112+csize,112-csize:112+csize].reshape(valuesInThisChunk,-1),axis=1).reshape(valuesInThisChunk,-1) # mean center\n",
    "            ])\n",
    "\n",
    "        \n",
    "#         cnnFeatures_ = cnn.predict( Xg[:,:,:,newaxis])\n",
    "#         cnnFeatures_ = cnnFeatures.reshape(valuesInThisChunk, -1)\n",
    "        \n",
    "        # prepare correct dimension to feed to imagenet networks\n",
    "        Xg3 = np.zeros((valuesInThisChunk,224,224,3))\n",
    "        Xg3[:,:,:,:] = Xg.reshape(valuesInThisChunk,224,224,1)\n",
    "\n",
    "        # do r50 prediction\n",
    "        Xg3r50_ = r50.predict(Xg3).reshape(valuesInThisChunk, 2048)\n",
    "        Xg3vgg16_ = vgg16.predict(Xg3)\n",
    "        \n",
    "\n",
    "\n",
    "        if chunkStart == 0:\n",
    "            Xg3r50 = Xg3r50_\n",
    "            Xg3vgg16 = Xg3vgg16_\n",
    "            preImgFeatures = pre_ex\n",
    "            postImgFeatures = post_ex\n",
    "#             cnnFeatures = cnnFeatures_\n",
    "        else:\n",
    "            Xg3r50 = np.concatenate([Xg3r50,Xg3r50_], axis=0)\n",
    "            Xg3vgg16 = np.concatenate([Xg3vgg16,Xg3vgg16_], axis=0)\n",
    "            preImgFeatures = np.concatenate([preImgFeatures,pre_ex], axis=0)\n",
    "            postImgFeatures = np.concatenate([postImgFeatures,post_ex], axis=0)\n",
    "#             cnnFeatures = np.concatenate([cnnFeatures, cnnFeatures_], axis = 0)\n",
    "\n",
    "\n",
    "    # add features from the data itself (distance)\n",
    "    Distance = df.Distance.values[:N].reshape(N,1)\n",
    "\n",
    "    Xg3f = np.hstack ( ( \n",
    "            Xg3r50, \n",
    "            Xg3vgg16, \n",
    "#             cnnFeatures,\n",
    "            Distance,\n",
    "            1/Distance,\n",
    "            Distance**2,\n",
    "            1/(Distance**2),\n",
    "            Distance**3,\n",
    "            1/(Distance**3),\n",
    "            np.log(Distance),\n",
    "            1/np.log(Distance),\n",
    "            np.log(Distance**2),\n",
    "            1/np.log(Distance**2),\n",
    "            np.log(Distance)**2,\n",
    "            1/np.log(Distance)**2,\n",
    "            preImgFeatures,\n",
    "            postImgFeatures\n",
    "            ) )\n",
    "\n",
    "\n",
    "    Xg3fNames = ( [prefixThisRound+'.r50.' + str(i) for i in range(Xg3r50.shape[1])]\n",
    "                + [prefixThisRound+'.vgg16.' + str(i) for i in range(Xg3vgg16.shape[1])] \n",
    "#                 + [prefixThisRound+'.cnn.' + str(i) for i in range(cnnFeatures.shape[1])] \n",
    "                + [prefixThisRound+'.'+ n for n in distanceNames]\n",
    "                + [prefixThisRound+'.'+ n for n in preImgFeatureNames]\n",
    "                + [prefixThisRound+'.'+ n for n in postImgFeatureNames])\n",
    "    return Xg3f, Xg3fNames\n",
    "\n",
    "# numFeatures = 2048 + 1000 + 7*7 *8 + len(postImgFeatureNames) + len(preImgFeatureNames) + len(distanceNames) \n",
    "numFeatures = 2048 + 1000 + len(postImgFeatureNames) + len(preImgFeatureNames) + len(distanceNames) \n",
    "\n",
    "    "
   ]
  },
  {
   "cell_type": "code",
   "execution_count": 12,
   "metadata": {
    "collapsed": true
   },
   "outputs": [],
   "source": [
    "lgbm_params = {\n",
    "    'boosting_type': 'gbdt',\n",
    "    'objective': 'regression_l2',\n",
    "    'nthread': 4,\n",
    "    #'silent': True,\n",
    "    'num_leaves': 2**4,\n",
    "    'learning_rate': 0.01,\n",
    "    'max_depth': 10,\n",
    "    'max_bin': 255,\n",
    "    #'subsample_for_bin': 50000,\n",
    "    #'subsample': 0.8,\n",
    "    #'subsample_freq': 1,\n",
    "    #'colsample_bytree': 0.8,\n",
    "    #'reg_alpha': 1,\n",
    "    #'reg_lambda': 0,\n",
    "    #'min_split_gain': 0.5,\n",
    "    #'min_child_weight': 1,\n",
    "    #'min_child_samples': 60,\n",
    "    #'scale_pos_weight': 1,\n",
    "    'device' : 'gpu',\n",
    "    'metric' : 'rmse',\n",
    "    #'metric' : 'multi_error',\n",
    "    'verbose':0,          \n",
    "}"
   ]
  },
  {
   "cell_type": "code",
   "execution_count": 13,
   "metadata": {
    "collapsed": true
   },
   "outputs": [],
   "source": [
    "def lgb_chi2(Yp, train_data):\n",
    "    Y = train_data.get_label()\n",
    "    err = 1/train_data.get_weight()**0.5\n",
    "    return 'Chi²', round(xi2(Y,Yp,err),1), False\n"
   ]
  },
  {
   "cell_type": "code",
   "execution_count": 14,
   "metadata": {
    "collapsed": true,
    "scrolled": true
   },
   "outputs": [],
   "source": [
    "def getLGBMModelsWithCV(trainSet, YSet, errSet, errlinSet):\n",
    "    kf = KFold(n_splits=nSplits,shuffle=True, random_state=220477)\n",
    "\n",
    "    cvtrainpreds = np.zeros([len(trainSet),nSplits])\n",
    "    models = []\n",
    "    counter = 0\n",
    "    for tix, vix in kf.split(trainSet):\n",
    "        X_train, X_test = trainSet[tix], trainSet[vix]\n",
    "        Y_train, Y_test = YSet[tix], YSet[vix]\n",
    "\n",
    "        lgb_train = lgbm.Dataset(X_train, Y_train)\n",
    "        lgb_eval = lgbm.Dataset(X_test, Y_test)\n",
    "\n",
    "        lgb_train.set_weight(1/errSet[tix]**2)\n",
    "        lgb_eval.set_weight(1/errSet[vix]**2)\n",
    "        \n",
    "        gbm = lgbm.train(lgbm_params,\n",
    "                       lgb_train,\n",
    "                       num_boost_round=maxBoostRuns,\n",
    "                       valid_sets=[lgb_train,lgb_eval],  # eval training data\n",
    "                       verbose_eval=100,\n",
    "                       early_stopping_rounds=100,\n",
    "                        feval = lgb_chi2\n",
    "                        )\n",
    "        models.append(gbm)\n",
    "\n",
    "        p = gbm.predict(X_test)\n",
    "\n",
    "        cvtrainpreds[vix,counter] = p\n",
    "        counter = counter+1\n",
    "        \n",
    "    return models, cvtrainpreds\n",
    "\n",
    "# models, cvtrainpreds, xis, linxis = getModels(Xg3f[:M], Y[:M])\n",
    "\n",
    "# print(models, cvtrainpreds)\n",
    "\n",
    "# print(xis, linxis)\n"
   ]
  },
  {
   "cell_type": "code",
   "execution_count": 15,
   "metadata": {
    "collapsed": true
   },
   "outputs": [],
   "source": [
    "def getLGBMModelsNoCV(trainSet, YSet, errSet, errlinSet):\n",
    "    cvtrainpreds = np.zeros([len(trainSet),1])\n",
    "    models = []\n",
    "    counter = 0\n",
    "\n",
    "    tix, vix = list(range(0,int(len(trainSet)*0.9))), list(range(int(len(trainSet)*0.9),len(trainSet)))\n",
    "    \n",
    "    X_train, X_test = trainSet[tix], trainSet[vix]\n",
    "    Y_train, Y_test = YSet[tix], YSet[vix]\n",
    "\n",
    "    lgb_train = lgbm.Dataset(X_train, Y_train)\n",
    "    lgb_eval = lgbm.Dataset(X_test, Y_test)\n",
    "\n",
    "    lgb_train.set_weight(1/errSet[tix]**2)\n",
    "    lgb_eval.set_weight(1/errSet[vix]**2)\n",
    "\n",
    "    gbm = lgbm.train(lgbm_params,\n",
    "                       lgb_train,\n",
    "                       num_boost_round=maxBoostRuns,\n",
    "                       valid_sets=[lgb_train,lgb_eval],  # eval training data\n",
    "                       verbose_eval=100,\n",
    "                       early_stopping_rounds=100,\n",
    "                        feval = lgb_chi2\n",
    "                     \n",
    "                    )\n",
    "    models.append(gbm)\n",
    "\n",
    "    p = gbm.predict(X_test)\n",
    "    cvtrainpreds[vix,counter] = p\n",
    "    counter = counter+1\n",
    "        \n",
    "    return models, cvtrainpreds\n"
   ]
  },
  {
   "cell_type": "code",
   "execution_count": 16,
   "metadata": {
    "collapsed": true
   },
   "outputs": [],
   "source": [
    "TRAIN = 0\n",
    "TEST = 4\n",
    "\n",
    "FEATURES = 0\n",
    "TRUTH = 1\n",
    "ERROR = 2\n",
    "LINERROR = 3\n",
    "\n",
    "ID = 8\n",
    "FEATURENAMES = 9\n",
    "\n",
    "data = list(range(10))\n"
   ]
  },
  {
   "cell_type": "code",
   "execution_count": 17,
   "metadata": {
    "collapsed": true
   },
   "outputs": [],
   "source": [
    "# breakqsdqsd"
   ]
  },
  {
   "cell_type": "markdown",
   "metadata": {},
   "source": [
    "# Iteration parameters defined here:\n",
    "\n",
    "- N is the number of galaxies to use for this run\n",
    "- M is the number of galaxies to train set (rest is holdout)\n",
    "- chunkSize is the number of galaxies to evaluate at once\n",
    "- prefixThisRound is the model name, for serialization purposes"
   ]
  },
  {
   "cell_type": "code",
   "execution_count": 18,
   "metadata": {
    "collapsed": true
   },
   "outputs": [],
   "source": [
    "df = df.sample(frac=1).reset_index()"
   ]
  },
  {
   "cell_type": "code",
   "execution_count": 19,
   "metadata": {
    "collapsed": true
   },
   "outputs": [],
   "source": [
    "N = int(len(df.SDSS_ID.values))\n",
    "M = int(N*.9)\n",
    "\n",
    "prefixThisRound = 'sp'\n",
    "for i in runNameParams:\n",
    "    prefixThisRound = prefixThisRound + '-' + i\n",
    "\n",
    "prefixThisRound = prefixThisRound + '-model11'\n",
    "    \n",
    "chunkSize = 200\n",
    "# nSplits = 3\n",
    "reloadImagesAndPreprocess = 0\n",
    "numPreprocessing = 1\n",
    "nSplits = 1\n",
    "\n",
    "maxBoostRuns = 30000 # 30000\n",
    "# N = 3000 # number of galaxies to take into consideration\n",
    "# M = 2000 # train vs holdout\n",
    "# N = int(N*0.1)\n",
    "# M = int(M*0.1)\n",
    "\n",
    "\n",
    "# N = int(N*0.01)\n",
    "# M = int(M*0.01)\n"
   ]
  },
  {
   "cell_type": "code",
   "execution_count": 20,
   "metadata": {},
   "outputs": [
    {
     "data": {
      "text/plain": [
       "Index(['index', 'SDSS_ID', 'RA', 'DEC', 'D25', 'redshift', 'logMstar',\n",
       "       'err_logMstar', 'GalSize_kpc', 'D_Mpc', 'd_pix_kpc', 'ML_g', 'ML_i',\n",
       "       'ML_g_rel_err', 'ML_i_rel_err', 'RA_leda', 'DEC_leda', 'D25_leda',\n",
       "       'R25_leda', 'pa_leda', 'petroMag_g', 'petroMagErr_g', 'petroMag_i',\n",
       "       'petroMagErr_i', 'ML_g_zibetti', 'hasimg', 'isgalaxy', 'redshi',\n",
       "       'Distance', 'lin_mass', 'lin_err', 'hasFile'],\n",
       "      dtype='object')"
      ]
     },
     "execution_count": 20,
     "metadata": {},
     "output_type": "execute_result"
    }
   ],
   "source": [
    "df.columns"
   ]
  },
  {
   "cell_type": "code",
   "execution_count": 21,
   "metadata": {
    "collapsed": true
   },
   "outputs": [],
   "source": [
    "# plt.figure(figsize=(18,8))\n",
    "# plt.subplot(121)\n",
    "# plt.xlabel('ML_g')\n",
    "# plt.ylabel('log(M)')\n",
    "# sns.kdeplot(x=df.ML_g, y=df.logMstar, alpha=0.2)\n",
    "# plt.subplot(122)\n",
    "# plt.hist(x=df.ML_g, bins=100)\n",
    "# plt.title('ML_g histogram')\n",
    "# plt.xlabel('ML_g')\n",
    "# 1"
   ]
  },
  {
   "cell_type": "code",
   "execution_count": 22,
   "metadata": {
    "collapsed": true
   },
   "outputs": [],
   "source": [
    "ids = df.SDSS_ID.values[:N]\n",
    "#Y = df.logMstar.values[:N]\n",
    "Y = df.ML_g.values[:N]\n",
    "err = df.ML_g_rel_err.values[:N] * Y\n",
    "# Y_lin = df.lin_mass.values[:N]\n",
    "err_lin = df.lin_err.values[:N]"
   ]
  },
  {
   "cell_type": "code",
   "execution_count": 23,
   "metadata": {},
   "outputs": [
    {
     "name": "stdout",
     "output_type": "stream",
     "text": [
      "76908\n",
      "69217\n",
      "200\n",
      "sp-newSource-ReadLog1pNormCrop.75origOldCleanup-model11\n"
     ]
    }
   ],
   "source": [
    "print(N)\n",
    "print(M)\n",
    "print(chunkSize)\n",
    "print(prefixThisRound)"
   ]
  },
  {
   "cell_type": "code",
   "execution_count": 24,
   "metadata": {},
   "outputs": [
    {
     "name": "stdout",
     "output_type": "stream",
     "text": [
      "loaded\n"
     ]
    }
   ],
   "source": [
    "ttaPredictions = np.zeros([numPreprocessing,nSplits,N-M])\n",
    "\n",
    "\n",
    "data[TRAIN+FEATURES] = np.ones([0,numFeatures])\n",
    "data[TRAIN+TRUTH] = np.ones([0])\n",
    "data[TRAIN+ERROR] = np.ones([0])\n",
    "data[TRAIN+LINERROR] = np.ones([0])\n",
    "data[TEST+FEATURES] = np.ones([0,numFeatures])\n",
    "data[TEST+TRUTH] = np.ones([0])\n",
    "data[TEST+ERROR] = np.ones([0])\n",
    "data[TEST+LINERROR] = np.ones([0])\n",
    "\n",
    "\n",
    "data[ID] = ids\n",
    "\n",
    "\n",
    "curPreproc = PP_LOG1P+PP_NORMALIZE+PP_CROP+PP_HACKATON\n",
    "fileName = prefixThisRound + '-' + str(N) + 'allFeatures' + str(curPreproc) + '.npy'\n",
    "if reloadImagesAndPreprocess == 1 or not(os.path.isfile(fileName)):\n",
    "    for curTTA in range(numPreprocessing):\n",
    "        a, Xg3fNames = getFeatures(curTTA+curPreproc)\n",
    "\n",
    "        data[TRAIN+FEATURES] = np.vstack([data[TRAIN+FEATURES],a[:M]])\n",
    "        data[TRAIN+TRUTH] = np.hstack([data[TRAIN+TRUTH],Y[:M]])\n",
    "        data[TRAIN+ERROR] = np.hstack([data[TRAIN+ERROR],err[:M]])\n",
    "        data[TRAIN+LINERROR] = np.hstack([data[TRAIN+LINERROR], err_lin[:M]])\n",
    "\n",
    "        data[TEST+FEATURES] = np.vstack([data[TEST+FEATURES],a[M:]])\n",
    "        data[TEST+TRUTH] = np.hstack([data[TEST+TRUTH],Y[M:]])\n",
    "        data[TEST+ERROR] = np.hstack([data[TEST+ERROR],err[M:]])\n",
    "        data[TEST+LINERROR]  = np.hstack([data[TEST+LINERROR] , err_lin[M:]])\n",
    "\n",
    "    np.save(fileName, data)\n",
    "else:\n",
    "    data = np.load(fileName)\n",
    "\n",
    "\n",
    "print(\"loaded\")"
   ]
  },
  {
   "cell_type": "code",
   "execution_count": 25,
   "metadata": {
    "collapsed": true
   },
   "outputs": [],
   "source": [
    "data[TRAIN+LINERROR] = data[TRAIN+ERROR]"
   ]
  },
  {
   "cell_type": "code",
   "execution_count": 26,
   "metadata": {
    "collapsed": true
   },
   "outputs": [],
   "source": [
    "fileName = prefixThisRound + '-' + str(N) + 'allFeatures' + str(curPreproc) + '.npy'\n",
    "np.save(fileName, data)"
   ]
  },
  {
   "cell_type": "code",
   "execution_count": 27,
   "metadata": {
    "collapsed": true
   },
   "outputs": [],
   "source": [
    "# data.append(Xg3fNames)\n",
    "# print(len(data))\n",
    "# np.save(fileName, data)"
   ]
  },
  {
   "cell_type": "code",
   "execution_count": null,
   "metadata": {
    "collapsed": true
   },
   "outputs": [],
   "source": [
    "from keras.models import load_model"
   ]
  },
  {
   "cell_type": "code",
   "execution_count": null,
   "metadata": {
    "scrolled": false
   },
   "outputs": [
    {
     "name": "stdout",
     "output_type": "stream",
     "text": [
      "Training until validation scores don't improve for 100 rounds.\n",
      "[100]\ttraining's rmse: 0.855547\ttraining's Chi²: 71.8\tvalid_1's rmse: 0.9246\tvalid_1's Chi²: 87.1\n",
      "[200]\ttraining's rmse: 0.630055\ttraining's Chi²: 38.9\tvalid_1's rmse: 0.701639\tvalid_1's Chi²: 50.2\n",
      "[300]\ttraining's rmse: 0.569504\ttraining's Chi²: 31.8\tvalid_1's rmse: 0.633941\tvalid_1's Chi²: 41\n"
     ]
    }
   ],
   "source": [
    "models, cvtrainpreds = getLGBMModelsNoCV(data[TRAIN+FEATURES], data[TRAIN+TRUTH], data[TRAIN+ERROR], data[TRAIN+LINERROR])\n",
    "\n",
    "ppreds = np.zeros([len(models),data[TEST+FEATURES].shape[0]])\n",
    "for i, m in zip(range(len(models)),models):\n",
    "    mp = m.predict(data[TEST+FEATURES])\n",
    "    ppreds[i] = mp\n",
    "\n",
    "cvpred = ppreds.mean(axis=0)\n",
    "mpred = ppreds.reshape((numPreprocessing,-1)).mean(axis=0)\n",
    "print(\"Iteration : {}\".format(numPreprocessing))\n"
   ]
  },
  {
   "cell_type": "code",
   "execution_count": null,
   "metadata": {
    "collapsed": true
   },
   "outputs": [],
   "source": [
    "# print(M)\n",
    "# print(trainXg3fStacked.shape)\n",
    "# testXg3fStacked.shape\n",
    "# ttaPredictions.shape\n",
    "# ppreds.shape\n",
    "\n"
   ]
  },
  {
   "cell_type": "code",
   "execution_count": null,
   "metadata": {
    "scrolled": false
   },
   "outputs": [],
   "source": [
    "\n",
    "mpred = ppreds.reshape((numPreprocessing,-1)).mean(axis=0)\n",
    "print(\"Iteration : {}\".format(numPreprocessing))\n",
    "\n",
    "# cmap = sns.cubehelix_palette(as_cmap=True, dark=0, light=1, reverse=True)\n",
    "cmap = sns.cubehelix_palette(as_cmap=True, start=2.8, rot=.1, reverse=True)\n",
    "\n",
    "linChiSq = xi2(mpred, data[TEST+TRUTH], data[TEST+ERROR])\n",
    "\n",
    "plt.figure(figsize=(12,12))\n",
    "plt.title(prefixThisRound)\n",
    "sns.kdeplot(mpred, data[TEST+TRUTH], alpha=1, cmap=cmap, shade=True, bw=0.2, cut=0, n_levels=60, label='LGB chi² {:.2f}'.format(linChiSq) )\n",
    "plt.scatter(x=mpred, y=data[TEST+TRUTH], alpha=0.03, c='w', marker='x', label='LGB chi² {:.2f}'.format(linChiSq) )\n",
    "plt.plot([0.25,5],[0.25,5], c='w', label='target')\n",
    "plt.xlabel('prediction')\n",
    "plt.ylabel('truth')\n",
    "\n",
    "plt.legend()\n",
    "plt.show()\n",
    "\n",
    "plt.figure(figsize=(12,12))\n",
    "plt.title(prefixThisRound)\n",
    "sns.kdeplot(mpred, mpred-data[TEST+TRUTH], alpha=1, cmap=cmap, shade=True, bw=0.2, cut=0, n_levels=60, label='LGB chi² {:.2f}'.format(linChiSq) )\n",
    "plt.scatter(x=mpred, y=mpred-data[TEST+TRUTH], alpha=0.03, c='w', marker='x', label='LGB chi² {:.2f}'.format(linChiSq) )\n",
    "plt.plot([0.25,5],[0,0], c='w', label='target')\n",
    "plt.xlabel('prediction')\n",
    "plt.ylabel('prediction error')\n",
    "\n",
    "plt.legend()\n",
    "plt.show()"
   ]
  },
  {
   "cell_type": "code",
   "execution_count": null,
   "metadata": {},
   "outputs": [],
   "source": [
    "&é\"&éazeaze\""
   ]
  },
  {
   "cell_type": "code",
   "execution_count": null,
   "metadata": {
    "collapsed": true,
    "scrolled": true
   },
   "outputs": [],
   "source": [
    "import keras\n"
   ]
  },
  {
   "cell_type": "code",
   "execution_count": null,
   "metadata": {},
   "outputs": [],
   "source": [
    "from IPython.display import clear_output\n",
    "\n",
    "class PlotLosses(keras.callbacks.Callback):\n",
    "    epochsPerDraw = 10\n",
    "    referencePrediction = None\n",
    "    \n",
    "    def __init__(self):\n",
    "        self.initVars()\n",
    "    \n",
    "    def initVars(self):\n",
    "        self.i = 0\n",
    "        self.x = []\n",
    "        self.losses = []\n",
    "        self.val_losses = [] # self validation\n",
    "        self.test_losses = [] # external validation\n",
    "        self.fig = plt.figure()\n",
    "        self.logs = []\n",
    "        self.lr = []\n",
    "        self.lasttrainplot = None\n",
    "        self.lasttestplot = None\n",
    "        \n",
    "    def on_train_begin(self, logs={}):\n",
    "        self.initVars()\n",
    "        self.referenceLoss = xi2(self.referencePrediction, data[TEST+TRUTH], data[TEST+ERROR])\n",
    "\n",
    "    def on_epoch_end(self, epoch, logs={}):\n",
    "        \n",
    "        self.i += 1\n",
    "        \n",
    "        curloss = logs.get('loss')\n",
    "        self.losses.append(curloss)\n",
    "        self.val_losses.append(logs.get('val_loss'))\n",
    "        self.logs.append(logs)\n",
    "        self.x.append(self.i)\n",
    "        currentLearningRate = K.get_value(model.optimizer.lr)\n",
    "        self.lr.append(currentLearningRate)\n",
    "\n",
    "        if ( self.i %self.epochsPerDraw != 0 ):\n",
    "            return\n",
    "\n",
    "        clear_output(wait=True)\n",
    "        plt.figure(figsize=(16,8))\n",
    "        plt.suptitle(\"{}/{} {} {}\".format(self.i, numEpochs, curloss, prefixThisRound))\n",
    "        \n",
    "#         ax = plt.subplot(131) # self values\n",
    "#         if self.lasttrainplot == None or self.i %self.epochsPerDraw == 0:\n",
    "#             self.plotSelfTrain(ax)\n",
    "#         else:\n",
    "#             ax = self.lasttrainplot\n",
    "\n",
    "        ax = plt.subplot(121)\n",
    "        if self.lasttestplot == None or self.i %self.epochsPerDraw == 0:\n",
    "            self.plotSelfTest(ax)\n",
    "        else:\n",
    "            ax = self.lasttestplot\n",
    "    \n",
    "        ax = plt.subplot(122)\n",
    "        self.plotLosses(ax)\n",
    "        \n",
    "\n",
    "        plt.savefig(\"pltsave/\" + prefixThisRound + \"%05d.png\" % self.i)\n",
    "        plt.show();\n",
    "    \n",
    "    def plotSelfTrain(self, ax):\n",
    "\n",
    "        pred = model.predict(data[TRAIN+FEATURES])[:,0]\n",
    "#         r = rmse(pred,data[TRAIN+TRUTH])\n",
    "        r = xi2(pred,data[TRAIN+TRUTH], data[TRAIN+ERROR])\n",
    "        plt.scatter(x=data[TRAIN+TRUTH], y=pred, c='k', alpha=.1, label=\"NN train {:.2f}\".format(r))\n",
    "#         sns.kdeplot(data[TRAIN+TRUTH], pred,n_levels=10, shade=True, shade_lowest=False, cmap='rainbow', alpha=0.7)\n",
    "        plt.xlabel('ML_g truth')\n",
    "        plt.ylabel('prediction')\n",
    "#         plt.plot([7, 13], [0,0], 'k-', lw=2, label=\"target\")\n",
    "#         axes = plt.gca()\n",
    "#         axes.set_xlim([7,13])\n",
    "        plt.legend()\n",
    "        self.lasttrainplot = ax\n",
    "    \n",
    "    def plotSelfTest(self, ax):\n",
    "        \n",
    "        # lgbm values\n",
    "        plt.scatter(x=data[TEST+TRUTH], \n",
    "                    y=self.referencePrediction, \n",
    "                    c='b', alpha=.1, label=\"ref {:02f}\".format(self.referenceLoss))\n",
    "        \n",
    "        # test values\n",
    "        pred = model.predict(data[TEST+FEATURES])[:,0]\n",
    "        r = xi2(pred,data[TEST+TRUTH], data[TEST+ERROR])\n",
    "        plt.scatter(x=data[TEST+TRUTH], y=pred, c='g', alpha=.1, label=\"NN test {:.2f}\".format(r))\n",
    "        plt.xlabel('ML_g truth')\n",
    "        plt.ylabel('prediction')\n",
    "        plt.plot([0, 12], [0, 12], 'k-', lw=2, label=\"target\")\n",
    "#         axes = plt.gca()\n",
    "#         axes.set_xlim([7,13])\n",
    "        plt.legend()\n",
    "        self.lasttestplot = ax\n",
    "\n",
    "    def plotLosses(self, ax):\n",
    "        plt.plot(self.x, self.losses, label=\"train loss\")\n",
    "        plt.plot(self.x, self.val_losses, label=\"val loss\")\n",
    "        ax.set_yscale(\"log\", nonposy='clip')\n",
    "        ax.axhline(self.referenceLoss,linestyle='--')\n",
    "        plt.legend()\n",
    "        ax2 = ax.twinx()\n",
    "        ax2.set_yscale('log')\n",
    "        plt.plot(self.x,self.lr, c='r', label='learning rate', alpha=0.8)\n",
    "        \n",
    "#         plt.plot(self.x, self.testrmse, label=\"test rmse\", c='g')\n",
    "        plt.legend()\n",
    "\n",
    "        \n",
    "plot_losses = PlotLosses()"
   ]
  },
  {
   "cell_type": "code",
   "execution_count": null,
   "metadata": {
    "collapsed": true
   },
   "outputs": [],
   "source": [
    "import models\n"
   ]
  },
  {
   "cell_type": "code",
   "execution_count": null,
   "metadata": {},
   "outputs": [],
   "source": [
    "print(data[TRAIN+FEATURES].shape)\n",
    "print(data[TRAIN+TRUTH].shape)"
   ]
  },
  {
   "cell_type": "code",
   "execution_count": null,
   "metadata": {},
   "outputs": [],
   "source": [
    "print(set(np.argwhere(np.isnan(data[TRAIN+FEATURES]))[:,1]))\n",
    "print(set(np.argwhere(np.isnan(data[TEST+FEATURES]))[:,1]))"
   ]
  },
  {
   "cell_type": "code",
   "execution_count": null,
   "metadata": {
    "scrolled": false
   },
   "outputs": [],
   "source": [
    "# test keras model\n",
    "import keras\n",
    "from keras.models import Sequential\n",
    "from keras.layers import Dense, Activation, BatchNormalization\n",
    "from keras.layers import Dense, Activation, BatchNormalization, Dropout\n",
    "from keras.optimizers import *\n",
    "\n",
    "model = Sequential()\n",
    "\n",
    "model.add(Dense(1000, input_shape=(data[TRAIN+FEATURES].shape[1],), activation = 'relu', kernel_initializer='truncated_normal',))\n",
    "# model.add(Dropout(0.5))\n",
    "\n",
    "model.add(Dense(500, activation='relu',kernel_initializer='truncated_normal',))\n",
    "model.add(BatchNormalization())\n",
    "model.add(Dropout(0.5))\n",
    "model.add(Dense(300, activation='elu',kernel_initializer='truncated_normal',))\n",
    "model.add(BatchNormalization())\n",
    "model.add(Dropout(0.5))\n",
    "model.add(Dense(100, activation='elu',kernel_initializer='truncated_normal',))\n",
    "model.add(BatchNormalization())\n",
    "model.add(Dropout(0.5))\n",
    "model.add(Dense(1, activation='elu',kernel_initializer='truncated_normal'))\n",
    "\n",
    "model.compile(optimizer='nadam', loss='mse')\n",
    "\n",
    "\n",
    "reduceLRcallback = keras.callbacks.ReduceLROnPlateau(monitor='val_loss', factor=0.5, patience=300, verbose=0, mode='auto', epsilon=0.0001, cooldown=20, min_lr=1e-8)\n",
    "\n",
    "numEpochs = 30000\n",
    "plot_losses.epochsPerDraw = 20\n",
    "plot_losses.referencePrediction = mpred\n",
    "# num = 5000\n",
    "num = N\n",
    "\n",
    "model.fit(data[TRAIN+FEATURES][:num,:], \n",
    "          data[TRAIN+TRUTH][:num], \n",
    "          sample_weight=1/(data[TRAIN+ERROR][:num])**2,\n",
    "          batch_size=1000, \n",
    "          epochs=numEpochs, \n",
    "          validation_split = 0.1, \n",
    "          verbose = 1,\n",
    "          callbacks=[plot_losses,reduceLRcallback])"
   ]
  },
  {
   "cell_type": "code",
   "execution_count": null,
   "metadata": {
    "collapsed": true
   },
   "outputs": [],
   "source": [
    "%pastebin 1"
   ]
  },
  {
   "cell_type": "code",
   "execution_count": null,
   "metadata": {
    "collapsed": true
   },
   "outputs": [],
   "source": [
    "currentLearningRate = K.get_value(model.optimizer.lr)\n",
    "print(currentLearningRate)\n",
    "# K.set_value(model.optimizer.lr, currentLearningRate*.8)"
   ]
  },
  {
   "cell_type": "code",
   "execution_count": null,
   "metadata": {
    "collapsed": true
   },
   "outputs": [],
   "source": [
    "reduceLRcallback = keras.callbacks.ReduceLROnPlateau(monitor='val_loss', factor=0.8, patience=100, verbose=0, mode='auto', epsilon=0.0001, cooldown=20, min_lr=0)\n",
    "continueTraining=0"
   ]
  },
  {
   "cell_type": "code",
   "execution_count": null,
   "metadata": {
    "collapsed": true
   },
   "outputs": [],
   "source": [
    "# continueTraining = 1\n",
    "\n",
    "# add extra big ones\n",
    "# indexes = np.where(data[TRAIN+TRUTH] > 5)[0]\n",
    "# data[TRAIN+TRUTH] = np.hstack([data[TRAIN+TRUTH],data[TRAIN+TRUTH][indexes]])\n",
    "# data[TRAIN+FEATURES] = np.vstack([data[TRAIN+FEATURES],data[TRAIN+FEATURES][indexes]])"
   ]
  },
  {
   "cell_type": "code",
   "execution_count": null,
   "metadata": {
    "collapsed": true,
    "scrolled": false
   },
   "outputs": [],
   "source": [
    "if continueTraining == 1:\n",
    "    plot_losses.referencePrediction = mpred\n",
    "    numEpochs = 30000\n",
    "    # keep training\n",
    "    model.fit(data[TRAIN+FEATURES][:num,:], \n",
    "              data[TRAIN+TRUTH][:num], \n",
    "              sample_weight=1/(data[TRAIN+ERROR][:num])**2,\n",
    "              batch_size=1000, \n",
    "              epochs=numEpochs, \n",
    "              validation_split = 0.1, \n",
    "              verbose = 1,\n",
    "              callbacks=[plot_losses,reduceLRcallback])"
   ]
  },
  {
   "cell_type": "code",
   "execution_count": null,
   "metadata": {
    "scrolled": false
   },
   "outputs": [],
   "source": [
    "x = model.predict(data[TEST+FEATURES])[:,0]\n",
    "# print(x)\n",
    "\n",
    "linChiSq = xi2(data[TEST+TRUTH],x,data[TEST+ERROR])\n",
    "print(linChiSq)\n",
    "\n",
    "g = sns.jointplot(x=cvpred, y=data[TEST+TRUTH], alpha=.3)\n",
    "g.x = x\n",
    "g.y = data[TEST+TRUTH]\n",
    "g.plot_joint(plt.scatter, alpha=.3, c='r')\n",
    "plt.suptitle('dataSize:{} epochs:{}'.format(num,numEpochs))\n",
    "\n",
    "plt.legend(['lgbm', 'keras-rmsprop'])\n",
    "# sns.jointplot(x=x[:,0], y=cvpred)"
   ]
  },
  {
   "cell_type": "code",
   "execution_count": null,
   "metadata": {},
   "outputs": [],
   "source": [
    "# model.save(prefixThisRound + \".\" + str(numEpochs) + \".h5\" )\n",
    "\n",
    "\n",
    "\n",
    "x = model.predict(data[TEST+FEATURES])[:,0]\n",
    "print(rmse(x,data[TEST+TRUTH]))"
   ]
  },
  {
   "cell_type": "code",
   "execution_count": null,
   "metadata": {
    "collapsed": true
   },
   "outputs": [],
   "source": [
    "x.reshape(-1).shape"
   ]
  },
  {
   "cell_type": "code",
   "execution_count": null,
   "metadata": {
    "collapsed": true
   },
   "outputs": [],
   "source": [
    "plt.figure(figsize=(18,8))\n",
    "plt.subplot(121)\n",
    "plt.title('lgbm, error(logM) distribution')\n",
    "plt.scatter(x=mpred, y=mpred-data[TEST+TRUTH], alpha=0.1, c='k')\n",
    "sns.kdeplot(mpred, mpred-data[TEST+TRUTH],n_levels=30, shade=True, shade_lowest=False, cmap='rainbow', alpha=0.7)\n",
    "plt.plot([7,13],[0,0], 'k-')"
   ]
  },
  {
   "cell_type": "code",
   "execution_count": null,
   "metadata": {
    "collapsed": true
   },
   "outputs": [],
   "source": [
    "videoSaveCmd = \"ffmpeg -framerate 20 -i pltsave/\" + prefixThisRound + \"%05d.png -r \" + str(numEpochs) + \" -pix_fmt yuv420p pltsave/\" + prefixThisRound + str(numEpochs) +\"-\" +str(num) + \".mp4\"\n",
    "print(videoSaveCmd + \" && rm pltsave/*.png\")"
   ]
  },
  {
   "cell_type": "code",
   "execution_count": null,
   "metadata": {},
   "outputs": [],
   "source": [
    "\n",
    "print(x.shape)\n",
    "print(mpred.shape)\n",
    "print(data[TEST+TRUTH].shape)\n",
    "plt.figure(figsize=(18,8))\n",
    "plt.subplot(121)\n",
    "plt.title('lgbm, log(error) distribution')\n",
    "sns.kdeplot(mpred, mpred-data[TEST+TRUTH],n_levels=30, shade=True, shade_lowest=False, cmap='jet')\n",
    "plt.plot([7,13],[0,0], 'k-')\n",
    "plt.subplot(122)\n",
    "plt.scatter(x=mpred, y=mpred-data[TEST+TRUTH], alpha=0.2)\n",
    "plt.plot([7,13],[0,0], 'k-')\n",
    "\n",
    "plt.figure(figsize=(18,8))\n",
    "plt.subplot(121)\n",
    "plt.title('NN1, log(error) distribution')\n",
    "sns.kdeplot(x.clip(7,13)[:,0], x.clip(7,13)[:,0]-data[TEST+TRUTH],n_levels=30, shade=True, shade_lowest=False, cmap='jet')\n",
    "plt.plot([7,13],[0,0], 'k-')\n",
    "plt.subplot(122)\n",
    "plt.scatter(x=x.clip(7,13), y=x.clip(7,13)[:,0]-data[TEST+TRUTH], alpha=0.2)\n",
    "plt.plot([7,13],[0,0], 'k-')\n",
    "\n",
    "\n",
    "plt.figure(figsize=(18,8))\n",
    "plt.title('lgbm, log(error) distribution')\n",
    "plt.scatter(x=mpred, y=mpred-data[TEST+TRUTH], alpha=0.2)\n",
    "sns.kdeplot(mpred, mpred-data[TEST+TRUTH],n_levels=30, shade=True, shade_lowest=False, cmap='jet', alpha=0.6)\n",
    "plt.plot([7,13],[0,0], 'k-')\n",
    "plt.subplot(122)\n"
   ]
  },
  {
   "cell_type": "code",
   "execution_count": null,
   "metadata": {
    "collapsed": true
   },
   "outputs": [],
   "source": [
    "\n",
    "cmap = sns.cubehelix_palette(as_cmap=True, dark=0, light=1, reverse=True)\n",
    "# sns.kdeplot(df.x, df.y, cmap=cmap, n_levels=60, shade=True);\n",
    "\n",
    "sns.kdeplot(cvpred, data[TEST+TRUTH], cmap=cmap, shade=True, bw=0.2)\n"
   ]
  },
  {
   "cell_type": "code",
   "execution_count": null,
   "metadata": {
    "collapsed": true
   },
   "outputs": [],
   "source": [
    "\n",
    "# cmap = sns.cubehelix_palette(as_cmap=True, dark=0, light=1, reverse=True)\n",
    "# sns.kdeplot(df.x, df.y, cmap=cmap, n_levels=60, shade=True);\n",
    "\n",
    "sns.kdeplot(cvpred, data[TEST+TRUTH], cmap=cmap, shade=True, bw=0.1, cut=1)\n"
   ]
  },
  {
   "cell_type": "code",
   "execution_count": null,
   "metadata": {
    "collapsed": true
   },
   "outputs": [],
   "source": [
    "linChiSq = xi2(data[TEST+TRUTH],cvpred,data[TEST+ERROR])\n"
   ]
  },
  {
   "cell_type": "code",
   "execution_count": null,
   "metadata": {
    "collapsed": true
   },
   "outputs": [],
   "source": [
    "plt.figure(figsize=(16,16))\n",
    "cmap = sns.cubehelix_palette(as_cmap=True, dark=0, light=1, reverse=True)\n",
    "cmap = sns.cubehelix_palette(as_cmap=True, start=2.8, rot=.1, reverse=True)\n",
    "\n",
    "# sns.kdeplot(cvpred, data[TEST+TRUTH], cmap=cmap, shade=True, bw=0.2, cut=0, n_levels=60,shade_lowest=False, )\n",
    "sns.kdeplot(cvpred, data[TEST+TRUTH], alpha=0.99, cmap=cmap, shade=True, bw=0.2, cut=0, n_levels=60, label='LGB chi² {:.2f}'.format(linChiSq) )\n",
    "# sns.kdeplot(cvpred, data[TEST+TRUTH], cmap=cmap, bw=0.2, cut=0, n_levels=20, alpha=0.5)\n",
    "plt.plot([0.25,5],[0.25,5], c='w', label='target')\n",
    "plt.xlabel('prediction')\n",
    "plt.ylabel('truth')\n",
    "\n",
    "plt.legend()"
   ]
  },
  {
   "cell_type": "code",
   "execution_count": null,
   "metadata": {
    "collapsed": true,
    "scrolled": true
   },
   "outputs": [],
   "source": [
    "plt.figure(figsize=(12,12))\n",
    "# cmap = sns.cubehelix_palette(as_cmap=True, dark=0, light=1, reverse=True)\n",
    "cmap = sns.cubehelix_palette(as_cmap=True, start=2.8, rot=.1, reverse=True)\n",
    "\n",
    "plt.title(prefixThisRound)\n",
    "# sns.kdeplot(cvpred, data[TEST+TRUTH], cmap=cmap, shade=True, bw=0.2, cut=0, n_levels=60,shade_lowest=False, )\n",
    "sns.kdeplot(cvpred, data[TEST+TRUTH], alpha=0.99, cmap=cmap, shade=True, bw=0.2, cut=0, n_levels=60, label='LGB chi² {:.2f}'.format(linChiSq) )\n",
    "plt.scatter(x=cvpred, y=data[TEST+TRUTH], alpha=0.03, c='w', marker='x', label='LGB chi² {:.2f}'.format(linChiSq) )\n",
    "# sns.kdeplot(cvpred, data[TEST+TRUTH], cmap=cmap, bw=0.2, cut=0, n_levels=20, alpha=0.5)\n",
    "plt.plot([0.25,5],[0.25,5], c='w', label='target')\n",
    "plt.xlabel('prediction')\n",
    "plt.ylabel('truth')\n",
    "\n",
    "plt.legend()"
   ]
  },
  {
   "cell_type": "code",
   "execution_count": null,
   "metadata": {
    "collapsed": true
   },
   "outputs": [],
   "source": [
    "# Xg3fNames"
   ]
  },
  {
   "cell_type": "code",
   "execution_count": null,
   "metadata": {
    "collapsed": true,
    "scrolled": true
   },
   "outputs": [],
   "source": [
    "\n",
    "Xg3fNames.index(prefixThisRound+'.'+'norm.flux.sum')"
   ]
  },
  {
   "cell_type": "code",
   "execution_count": null,
   "metadata": {
    "collapsed": true
   },
   "outputs": [],
   "source": [
    "\n",
    "data[TRAIN+FEATURES][:,Xg3fNames.index(prefixThisRound+'.'+'norm.flux.sum')].shape"
   ]
  },
  {
   "cell_type": "code",
   "execution_count": null,
   "metadata": {
    "collapsed": true,
    "scrolled": true
   },
   "outputs": [],
   "source": [
    "data[TRAIN+TRUTH].shape\n",
    "\n",
    "plt.scatter(x=df.iloc[:69217].ML_g/df.iloc[:69217].logMstar, y=data[TRAIN+TRUTH])"
   ]
  },
  {
   "cell_type": "code",
   "execution_count": null,
   "metadata": {
    "collapsed": true,
    "scrolled": true
   },
   "outputs": [],
   "source": [
    "# list(data[ID][:69217])"
   ]
  },
  {
   "cell_type": "code",
   "execution_count": null,
   "metadata": {
    "collapsed": true,
    "scrolled": false
   },
   "outputs": [],
   "source": [
    "#df.iloc[list(data[ID][:69217])]\n"
   ]
  },
  {
   "cell_type": "code",
   "execution_count": null,
   "metadata": {
    "collapsed": true
   },
   "outputs": [],
   "source": []
  },
  {
   "cell_type": "code",
   "execution_count": null,
   "metadata": {
    "collapsed": true,
    "scrolled": false
   },
   "outputs": [],
   "source": [
    "nSplits = 10\n",
    "models, cvtrainpreds = getLGBMModelsWithCV(data[TRAIN+FEATURES], data[TRAIN+TRUTH], data[TRAIN+ERROR], data[TRAIN+LINERROR])\n",
    "\n",
    "ppreds = np.zeros([len(models),data[TEST+FEATURES].shape[0]])\n",
    "for i, m in zip(range(len(models)),models):\n",
    "    mp = m.predict(data[TEST+FEATURES])\n",
    "    ppreds[i] = mp\n",
    "\n",
    "cvpred = ppreds.mean(axis=0)"
   ]
  },
  {
   "cell_type": "code",
   "execution_count": null,
   "metadata": {
    "collapsed": true
   },
   "outputs": [],
   "source": [
    "for i in range(len(ppreds)):\n",
    "    linChiSq = xi2(ppreds[i], data[TEST+TRUTH], data[TEST+ERROR])\n",
    "    print(\"Iteration {}: {}\".format(i, linChiSq))\n",
    "\n",
    "mpred = ppreds.reshape((10,-1)).mean(axis=0)\n",
    "\n",
    "# cmap = sns.cubehelix_palette(as_cmap=True, dark=0, light=1, reverse=True)\n",
    "cmap = sns.cubehelix_palette(as_cmap=True, start=2.8, rot=.1, reverse=True)\n",
    "\n",
    "linChiSq = xi2(mpred, data[TEST+TRUTH], data[TEST+ERROR])\n",
    "\n",
    "plt.figure(figsize=(12,12))\n",
    "plt.title(prefixThisRound)\n",
    "sns.kdeplot(mpred, data[TEST+TRUTH], alpha=1, cmap=cmap, shade=True, bw=0.2, cut=0, n_levels=60, label='LGB chi² {:.2f}'.format(linChiSq) )\n",
    "plt.scatter(x=mpred, y=data[TEST+TRUTH], alpha=0.03, c='w', marker='x', label='LGB chi² {:.2f}'.format(linChiSq) )\n",
    "plt.plot([0.25,5],[0.25,5], c='w', label='target')\n",
    "plt.xlabel('prediction')\n",
    "plt.ylabel('truth')\n",
    "\n",
    "plt.legend()\n",
    "plt.show()\n",
    "\n",
    "plt.figure(figsize=(12,12))\n",
    "plt.title(prefixThisRound)\n",
    "sns.kdeplot(mpred, mpred-data[TEST+TRUTH], alpha=1, cmap=cmap, shade=True, bw=0.2, cut=0, n_levels=60, label='LGB chi² {:.2f}'.format(linChiSq) )\n",
    "plt.scatter(x=mpred, y=mpred-data[TEST+TRUTH], alpha=0.03, c='w', marker='x', label='LGB chi² {:.2f}'.format(linChiSq) )\n",
    "plt.plot([0.25,5],[0,0], c='w', label='target')\n",
    "plt.xlabel('prediction')\n",
    "plt.ylabel('prediction error')\n",
    "\n",
    "plt.legend()\n",
    "plt.show()"
   ]
  }
 ],
 "metadata": {
  "kernelspec": {
   "display_name": "Python [conda env:astrohack]",
   "language": "python",
   "name": "conda-env-astrohack-py"
  },
  "language_info": {
   "codemirror_mode": {
    "name": "ipython",
    "version": 3
   },
   "file_extension": ".py",
   "mimetype": "text/x-python",
   "name": "python",
   "nbconvert_exporter": "python",
   "pygments_lexer": "ipython3",
   "version": "3.6.1"
  }
 },
 "nbformat": 4,
 "nbformat_minor": 2
}
