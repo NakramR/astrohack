{
 "cells": [
  {
   "cell_type": "code",
   "execution_count": 1,
   "metadata": {
    "collapsed": true
   },
   "outputs": [],
   "source": [
    "import pandas as pd\n",
    "import numpy as np\n",
    "from numpy import newaxis\n",
    "import matplotlib.pyplot as plt\n",
    "import random\n",
    "import seaborn as sns\n",
    "import itertools\n",
    "import os\n",
    "from PIL import Image\n",
    "import math\n",
    "from matplotlib import gridspec\n",
    "import matplotlib.collections\n",
    "\n",
    "from matplotlib.transforms import Affine2D\n",
    "import mpl_toolkits.axisartist.floating_axes as floating_axes\n",
    "import matplotlib.collections\n",
    "\n",
    "from sklearn.model_selection import *\n",
    "\n",
    "from tqdm import *\n",
    "# nice progress bars otherwise\n",
    "# def tqdm(x):\n",
    "#     yield x"
   ]
  },
  {
   "cell_type": "code",
   "execution_count": 2,
   "metadata": {
    "collapsed": true
   },
   "outputs": [],
   "source": [
    "# TODO, improvement ideas\n",
    "\n",
    "# TPOT python auto ml\n",
    "# use log(flux) as input\n",
    "# investigate highest errors (argmax(xi²))\n",
    "\n",
    "# kfold integration in place of CV\n",
    "# TTA\n",
    "# CNN segmentation cleanup \n",
    "# resnet v2 ( https://github.com/myutwo150/keras-inception-resnet-v2/blob/master/inception_resnet_v2.py )\n",
    "# custom CNN features\n",
    "# CV2 resize cubic interpolation \n",
    "\n",
    "# Serge:\n",
    "# essayer de remplacer lgb par un Deep NN keras (vu la quantité de donnée)\n",
    "\n",
    "\n",
    "#done\n",
    "# lgbm eval rmsle instead of rmse\n",
    "# add image size as feature\n",
    "\n"
   ]
  },
  {
   "cell_type": "code",
   "execution_count": 3,
   "metadata": {
    "collapsed": true
   },
   "outputs": [],
   "source": [
    "# memory debug function\n",
    "\n",
    "import sys\n",
    "# These are the usual ipython objects, including this one you are creating\n",
    "ipython_vars = ['In', 'Out', 'exit', 'quit', 'get_ipython', 'ipython_vars']\n",
    "\n",
    "# Get a sorted list of the objects and their sizes\n",
    "mm = sorted([(x, sys.getsizeof(globals().get(x)),\"{:,}\".format(sys.getsizeof(globals().get(x)))) \n",
    "        for x in dir() \n",
    "           if not x.startswith('_') \n",
    "#         and x not in sys.modules\n",
    "        and x not in ipython_vars], key=lambda x: x[1], reverse=True)\n",
    "\n",
    "\n"
   ]
  },
  {
   "cell_type": "markdown",
   "metadata": {},
   "source": [
    "## data folder set up and test"
   ]
  },
  {
   "cell_type": "code",
   "execution_count": 4,
   "metadata": {
    "collapsed": true
   },
   "outputs": [],
   "source": [
    "dataFolder = 'data/mainData/'\n",
    "plt.ion()\n",
    "\n",
    "runNameParams = []\n",
    "runNameParams.append('newSource')\n",
    "# print(runNameParams)"
   ]
  },
  {
   "cell_type": "code",
   "execution_count": 5,
   "metadata": {
    "collapsed": true
   },
   "outputs": [],
   "source": [
    "def read_image(id):\n",
    "    if id[-4:] == '.npy':\n",
    "        X = np.load(dataFolder+id)\n",
    "    elif os.path.isfile(dataFolder+id+'.npy'):\n",
    "        X = np.load(dataFolder+id + '.npy')\n",
    "    elif os.path.isfile(dataFolder+id+'-g.csv'):\n",
    "        X = np.genfromtxt(dataFolder+id+'-g.csv', delimiter=\",\")\n",
    "    else:\n",
    "        X = None\n",
    "\n",
    "    X = np.float32(X)\n",
    "    return X\n"
   ]
  },
  {
   "cell_type": "code",
   "execution_count": 6,
   "metadata": {},
   "outputs": [
    {
     "name": "stdout",
     "output_type": "stream",
     "text": [
      "80306\n"
     ]
    }
   ],
   "source": [
    "dataFileList = []\n",
    "\n",
    "directory = os.fsencode(dataFolder)\n",
    "\n",
    "for file in os.listdir(directory):\n",
    "    filename = os.fsdecode(file)\n",
    "    if filename.endswith(\".npy\") or filename.endswith(\".py\"): \n",
    "        dataFileList.append(filename)\n",
    "        \n",
    "print(len(dataFileList))"
   ]
  },
  {
   "cell_type": "code",
   "execution_count": null,
   "metadata": {
    "collapsed": true
   },
   "outputs": [],
   "source": []
  },
  {
   "cell_type": "code",
   "execution_count": null,
   "metadata": {
    "collapsed": true
   },
   "outputs": [],
   "source": []
  },
  {
   "cell_type": "markdown",
   "metadata": {
    "collapsed": true
   },
   "source": [
    "# Check a few random images \n"
   ]
  },
  {
   "cell_type": "code",
   "execution_count": 7,
   "metadata": {
    "collapsed": true,
    "scrolled": false
   },
   "outputs": [],
   "source": [
    "def drawOneGalaxy(galaxyID):\n",
    "    oneImageData = read_image(galaxyID)\n",
    "    print(galaxyID)\n",
    "\n",
    "    # new image\n",
    "    fig = plt.figure(figsize=(15,15))\n",
    "    #set grid spec for the 4 graphs\n",
    "    gs = gridspec.GridSpec(2, 2, width_ratios=[5, 1], height_ratios=[1,5]) \n",
    "\n",
    "    #draw image\n",
    "    plt.title(\"raw\")\n",
    "    plt.subplot(gs[2])\n",
    "    plt.imshow(oneImageData)\n",
    "    \n",
    "    # horizontal (top) sum\n",
    "    plt.subplot(gs[0])\n",
    "    plt.title(galaxyID)\n",
    "    plt.plot(oneImageData.sum(axis=0))\n",
    "\n",
    "    # vertical (bottom-right) sum\n",
    "    ax = plt.subplot(gs[3])\n",
    "    ss = np.flip(oneImageData.sum(axis=1),axis=0)\n",
    "    plt.scatter(x=ss, y=list(range(oneImageData.shape[1])), s=1)\n",
    "    lines = [[(ss[i-1],i-1),(ss[i],i)] for i in range(1,len(ss))]\n",
    "    lc = matplotlib.collections.LineCollection(lines)\n",
    "    ax.add_collection(lc)\n",
    "    \n",
    "    #value histogram\n",
    "    plt.subplot(gs[1])\n",
    "    plt.hist(oneImageData.reshape(-1), bins=100)\n",
    "    plt.yscale('log')    \n",
    "    sns.despine()\n",
    "    plt.tight_layout()\n",
    "\n",
    "    #add small log of image\n",
    "    ax = fig.add_axes([0.02,0.6,.2,.2])\n",
    "    plt.imshow(np.log(oneImageData-oneImageData.min()+0.00001))\n",
    "\n",
    "for _ in range(5):\n",
    "    i = random.randint(0,len(dataFileList))\n",
    "#     oneImageData = np.load(dataFolder+'1237648704067273096.npy')\n",
    "#     drawOneGalaxy(dataFileList[i])\n",
    "    \n"
   ]
  },
  {
   "cell_type": "code",
   "execution_count": 8,
   "metadata": {
    "collapsed": true
   },
   "outputs": [],
   "source": [
    "\n",
    "issuesImages = ['1237658298983055529.npy','1237660634917634181.npy','1237654879654772871.npy','1237654953205170487.npy','1237651249884627014.npy','1237651754022207627.npy',\n",
    " '1237654669736018114.npy','1237655471824568727.npy','1237665530643808416.npy','1237658611444088911.npy','1237667255070490937.npy',\n",
    " '1237665531177795774.npy','1237645943975837722.npy','1237658425161220139.npy', '1237665129087435003.npy','1237657873792172224.npy',\n",
    " '1237660240313778264.npy','1237668298201432152.npy', '1237662264316264518.npy','1237657630042227294.npy','1237651754550624376.npy',\n",
    " '1237667211059986578.npy','1237655470208582145.npy']\n",
    "\n",
    "# for image in issuesImages:\n",
    "#     drawOneGalaxy(image)"
   ]
  },
  {
   "cell_type": "code",
   "execution_count": 9,
   "metadata": {},
   "outputs": [
    {
     "name": "stdout",
     "output_type": "stream",
     "text": [
      "test\n"
     ]
    }
   ],
   "source": [
    "print('test')"
   ]
  },
  {
   "cell_type": "markdown",
   "metadata": {
    "scrolled": false
   },
   "source": [
    "# ML part"
   ]
  },
  {
   "cell_type": "code",
   "execution_count": 10,
   "metadata": {},
   "outputs": [
    {
     "name": "stderr",
     "output_type": "stream",
     "text": [
      "/opt/anaconda3/envs/astrohack/lib/python3.6/site-packages/sklearn/cross_validation.py:44: DeprecationWarning: This module was deprecated in version 0.18 in favor of the model_selection module into which all the refactored classes and functions are moved. Also note that the interface of the new CV iterators are different from that of this module. This module will be removed in 0.20.\n",
      "  \"This module will be removed in 0.20.\", DeprecationWarning)\n",
      "Using TensorFlow backend.\n"
     ]
    }
   ],
   "source": [
    "import pandas as pd\n",
    "import numpy as np\n",
    "import cv2\n",
    "from glob import glob\n",
    "import xgboost as xgb\n",
    "from keras.applications import *\n",
    "import lightgbm as lgbm\n",
    "import scipy\n",
    "import tensorflow"
   ]
  },
  {
   "cell_type": "code",
   "execution_count": 11,
   "metadata": {
    "collapsed": true
   },
   "outputs": [],
   "source": [
    "def xi2(true,pred,error):\n",
    "    s=np.mean((true-pred)**2/error**2)\n",
    "    return s\n",
    "\n",
    "def normalize_image(Xg):\n",
    "    Xg -= np.mean(Xg)\n",
    "    Xg /= np.std(Xg)\n",
    "    \n",
    "    return Xg\n",
    "\n",
    "def crop_image(Xg):\n",
    "    h,w = Xg.shape\n",
    "    cy, cx = h//2, w//2\n",
    "    dy, dx = int(cy*0.75), int(cx*0.75) # crop a bit around center\n",
    "    Xg = Xg[cy-dy:cy+dy,cx-dx:cx+dx]\n",
    "    \n",
    "    return Xg\n",
    "\n",
    "def img_preprocnoread(Xg, preProcNum = 0):\n",
    "#    Xg = cleanupImage(id)\n",
    "\n",
    "    if ( preProcNum != 0):\n",
    "        if preProcNum & 4: # rotate\n",
    "            Xg = np.rot90(Xg)\n",
    "            \n",
    "        if preProcNum %4 == 1: # vflip\n",
    "            Xg = np.flip(Xg,0)\n",
    "        elif preProcNum %4 == 2: # hflip\n",
    "            Xg = np.flip(Xg,1)\n",
    "        elif preProcNum %4 == 3: # hflip+vflip\n",
    "            Xg = np.flip(np.flip(Xg,1),0)\n",
    "\n",
    "    Xg = np.log1p(Xg - Xg.min())\n",
    "    Xg = normalize_image(Xg)\n",
    "    Xg = crop_image(Xg)\n",
    "\n",
    "    \n",
    "    if Xg.shape[0] >= 224:\n",
    "        Xgr = cv2.resize(Xg,(224,224), cv2.INTER_AREA)\n",
    "    else:\n",
    "        Xgr = cv2.resize(Xg,(224,224), cv2.INTER_CUBIC)\n",
    "    \n",
    "    return Xgr\n",
    "    \n",
    "def img_preproc(id, preProcNum = 0):\n",
    "    Xg = read_image(id)\n",
    "    return img_preprocnoread(Xg,preProcNum)\n",
    "\n",
    "runNameParams.append('ReadLog1pNormCrop.75')\n",
    "# preprocName = \"ReadNormCrop.5\"\n",
    "# x = img_preproc('1237662637444694216')\n",
    "x = img_preproc(dataFileList[random.randint(0,len(dataFileList))])\n"
   ]
  },
  {
   "cell_type": "code",
   "execution_count": 12,
   "metadata": {
    "collapsed": true
   },
   "outputs": [],
   "source": [
    "# plt.imshow(img_preproc('1237662637444694216',0))\n",
    "# plt.figure()\n",
    "# plt.imshow(img_preproc('1237662637444694216',1))\n",
    "# plt.figure()\n",
    "# plt.imshow(img_preproc('1237662637444694216',2))\n",
    "# plt.figure()\n",
    "# plt.imshow(img_preproc('1237662637444694216',5))\n",
    "# plt.figure()\n"
   ]
  },
  {
   "cell_type": "code",
   "execution_count": 13,
   "metadata": {},
   "outputs": [
    {
     "name": "stdout",
     "output_type": "stream",
     "text": [
      "-0.648829 20.7019\n",
      "[[-0.14345402 -0.18380356 -0.28998658 -0.37788054 -0.3534275 ]\n",
      " [-0.13722998 -0.17829978 -0.28637823 -0.37721148 -0.36211023]\n",
      " [-0.12085097 -0.16381618 -0.27688253 -0.37545082 -0.38495949]\n",
      " [-0.11069985 -0.15261583 -0.26292104 -0.36172083 -0.38984454]\n",
      " [-0.13880593 -0.16158412 -0.22152676 -0.27446523 -0.28437799]]\n"
     ]
    },
    {
     "data": {
      "text/plain": [
       "1"
      ]
     },
     "execution_count": 13,
     "metadata": {},
     "output_type": "execute_result"
    },
    {
     "data": {
      "image/png": "[encoded data removed]",
      "text/plain": [
       "<matplotlib.figure.Figure at 0x7fac6aa72240>"
      ]
     },
     "metadata": {},
     "output_type": "display_data"
    }
   ],
   "source": [
    "print(x.min(), x.max())\n",
    "print(x[0:5,0:5])\n",
    "\n",
    "plt.figure(figsize=(8,4))\n",
    "plt.title('histogram of values after image preprocessing')\n",
    "plt.hist(x.reshape(-1), bins=100)\n",
    "\n",
    "1"
   ]
  },
  {
   "cell_type": "markdown",
   "metadata": {},
   "source": [
    "### Load pretrained networks"
   ]
  },
  {
   "cell_type": "code",
   "execution_count": 14,
   "metadata": {
    "collapsed": true
   },
   "outputs": [],
   "source": [
    "vgg16 = VGG16(weights='imagenet',include_top=True,input_shape=(224,224,3))\n",
    "r50 = ResNet50(weights='imagenet',include_top=False,input_shape=(224,224,3))"
   ]
  },
  {
   "cell_type": "markdown",
   "metadata": {},
   "source": [
    "### Read metadata file"
   ]
  },
  {
   "cell_type": "code",
   "execution_count": 15,
   "metadata": {},
   "outputs": [
    {
     "data": {
      "text/html": [
       "<div>\n",
       "<style>\n",
       "    .dataframe thead tr:only-child th {\n",
       "        text-align: right;\n",
       "    }\n",
       "\n",
       "    .dataframe thead th {\n",
       "        text-align: left;\n",
       "    }\n",
       "\n",
       "    .dataframe tbody tr th {\n",
       "        vertical-align: top;\n",
       "    }\n",
       "</style>\n",
       "<table border=\"1\" class=\"dataframe\">\n",
       "  <thead>\n",
       "    <tr style=\"text-align: right;\">\n",
       "      <th></th>\n",
       "      <th>SDSS_ID</th>\n",
       "      <th>RA</th>\n",
       "      <th>DEC</th>\n",
       "      <th>D25</th>\n",
       "      <th>redshi</th>\n",
       "      <th>logMst</th>\n",
       "      <th>err_l</th>\n",
       "      <th>GalSize_kpc</th>\n",
       "      <th>D_Mpc</th>\n",
       "      <th>d_pix_kpc</th>\n",
       "    </tr>\n",
       "  </thead>\n",
       "  <tbody>\n",
       "    <tr>\n",
       "      <th>10</th>\n",
       "      <td>1237662635825954925</td>\n",
       "      <td>210.95489999999998</td>\n",
       "      <td>12.64455</td>\n",
       "      <td>0.33113110693986714</td>\n",
       "      <td>0.1029</td>\n",
       "      <td>-99.0</td>\n",
       "      <td>-99.0</td>\n",
       "      <td>42.47806067869379</td>\n",
       "      <td>440.99999325616017</td>\n",
       "      <td>0.8552113203991983</td>\n",
       "    </tr>\n",
       "    <tr>\n",
       "      <th>11</th>\n",
       "      <td>1237652947452297303</td>\n",
       "      <td>0.84015</td>\n",
       "      <td>-9.98328</td>\n",
       "      <td>0.5248074948227709</td>\n",
       "      <td>0.0767</td>\n",
       "      <td>11.312</td>\n",
       "      <td>0.016</td>\n",
       "      <td>50.181626715917524</td>\n",
       "      <td>328.7142940929958</td>\n",
       "      <td>0.6374607478101917</td>\n",
       "    </tr>\n",
       "    <tr>\n",
       "      <th>12</th>\n",
       "      <td>1237652899137912944</td>\n",
       "      <td>1.0026</td>\n",
       "      <td>-11.17802</td>\n",
       "      <td>0.6165950323262803</td>\n",
       "      <td>0.0383</td>\n",
       "      <td>9.708</td>\n",
       "      <td>0.071</td>\n",
       "      <td>29.440699795795908</td>\n",
       "      <td>164.1428577048438</td>\n",
       "      <td>0.3183148122868964</td>\n",
       "    </tr>\n",
       "    <tr>\n",
       "      <th>13</th>\n",
       "      <td>1237661433779716229</td>\n",
       "      <td>211.48905000000002</td>\n",
       "      <td>43.88251</td>\n",
       "      <td>0.7585775667003197</td>\n",
       "      <td>0.0337</td>\n",
       "      <td>9.26</td>\n",
       "      <td>0.062</td>\n",
       "      <td>31.869792393005813</td>\n",
       "      <td>144.4285735487938</td>\n",
       "      <td>0.28008379359836033</td>\n",
       "    </tr>\n",
       "    <tr>\n",
       "      <th>14</th>\n",
       "      <td>1237652944786555077</td>\n",
       "      <td>1.48395</td>\n",
       "      <td>16.13445</td>\n",
       "      <td>0.3388441338170015</td>\n",
       "      <td>0.0909</td>\n",
       "      <td>10.7</td>\n",
       "      <td>0.04</td>\n",
       "      <td>38.39840364463448</td>\n",
       "      <td>389.571413397789</td>\n",
       "      <td>0.7554782039377076</td>\n",
       "    </tr>\n",
       "  </tbody>\n",
       "</table>\n",
       "</div>"
      ],
      "text/plain": [
       "                SDSS_ID                  RA        DEC                  D25  \\\n",
       "10  1237662635825954925  210.95489999999998   12.64455  0.33113110693986714   \n",
       "11  1237652947452297303             0.84015   -9.98328   0.5248074948227709   \n",
       "12  1237652899137912944              1.0026  -11.17802   0.6165950323262803   \n",
       "13  1237661433779716229  211.48905000000002   43.88251   0.7585775667003197   \n",
       "14  1237652944786555077             1.48395   16.13445   0.3388441338170015   \n",
       "\n",
       "    redshi  logMst  err_l         GalSize_kpc               D_Mpc  \\\n",
       "10  0.1029   -99.0  -99.0   42.47806067869379  440.99999325616017   \n",
       "11  0.0767  11.312  0.016  50.181626715917524   328.7142940929958   \n",
       "12  0.0383   9.708  0.071  29.440699795795908   164.1428577048438   \n",
       "13  0.0337    9.26  0.062  31.869792393005813   144.4285735487938   \n",
       "14  0.0909    10.7   0.04   38.39840364463448    389.571413397789   \n",
       "\n",
       "              d_pix_kpc  \n",
       "10   0.8552113203991983  \n",
       "11   0.6374607478101917  \n",
       "12   0.3183148122868964  \n",
       "13  0.28008379359836033  \n",
       "14   0.7554782039377076  "
      ]
     },
     "execution_count": 15,
     "metadata": {},
     "output_type": "execute_result"
    }
   ],
   "source": [
    "df =  pd.read_fwf('metaData.dat', comment = '#')\n",
    "df.columns = df.iloc[9,:].values\n",
    "df = df[10:]\n",
    "df.head()"
   ]
  },
  {
   "cell_type": "code",
   "execution_count": 16,
   "metadata": {},
   "outputs": [
    {
     "data": {
      "text/html": [
       "<div>\n",
       "<style>\n",
       "    .dataframe thead tr:only-child th {\n",
       "        text-align: right;\n",
       "    }\n",
       "\n",
       "    .dataframe thead th {\n",
       "        text-align: left;\n",
       "    }\n",
       "\n",
       "    .dataframe tbody tr th {\n",
       "        vertical-align: top;\n",
       "    }\n",
       "</style>\n",
       "<table border=\"1\" class=\"dataframe\">\n",
       "  <thead>\n",
       "    <tr style=\"text-align: right;\">\n",
       "      <th></th>\n",
       "      <th>RA</th>\n",
       "      <th>DEC</th>\n",
       "      <th>D25</th>\n",
       "      <th>redshi</th>\n",
       "      <th>GalSize_kpc</th>\n",
       "      <th>d_pix_kpc</th>\n",
       "      <th>logMstar</th>\n",
       "      <th>err_logMstar</th>\n",
       "      <th>Distance</th>\n",
       "      <th>lin_mass</th>\n",
       "      <th>lin_err</th>\n",
       "    </tr>\n",
       "  </thead>\n",
       "  <tbody>\n",
       "    <tr>\n",
       "      <th>count</th>\n",
       "      <td>187742.000000</td>\n",
       "      <td>187742.000000</td>\n",
       "      <td>187742.000000</td>\n",
       "      <td>187742.000000</td>\n",
       "      <td>187742.000000</td>\n",
       "      <td>187742.000000</td>\n",
       "      <td>187742.000000</td>\n",
       "      <td>187742.000000</td>\n",
       "      <td>187742.000000</td>\n",
       "      <td>1.877420e+05</td>\n",
       "      <td>1.877420e+05</td>\n",
       "    </tr>\n",
       "    <tr>\n",
       "      <th>mean</th>\n",
       "      <td>184.527190</td>\n",
       "      <td>24.898677</td>\n",
       "      <td>0.445798</td>\n",
       "      <td>0.074652</td>\n",
       "      <td>38.318105</td>\n",
       "      <td>0.620438</td>\n",
       "      <td>9.081941</td>\n",
       "      <td>-1.313631</td>\n",
       "      <td>319.936358</td>\n",
       "      <td>7.877701e+10</td>\n",
       "      <td>4.648110e+09</td>\n",
       "    </tr>\n",
       "    <tr>\n",
       "      <th>std</th>\n",
       "      <td>61.620064</td>\n",
       "      <td>19.374103</td>\n",
       "      <td>0.168006</td>\n",
       "      <td>0.040143</td>\n",
       "      <td>18.942158</td>\n",
       "      <td>0.333632</td>\n",
       "      <td>12.706553</td>\n",
       "      <td>11.469736</td>\n",
       "      <td>172.041273</td>\n",
       "      <td>9.461819e+10</td>\n",
       "      <td>5.529011e+09</td>\n",
       "    </tr>\n",
       "    <tr>\n",
       "      <th>min</th>\n",
       "      <td>0.008250</td>\n",
       "      <td>-11.252830</td>\n",
       "      <td>0.316228</td>\n",
       "      <td>0.010000</td>\n",
       "      <td>4.034125</td>\n",
       "      <td>0.083111</td>\n",
       "      <td>-99.000000</td>\n",
       "      <td>-99.000000</td>\n",
       "      <td>42.857142</td>\n",
       "      <td>1.000000e-99</td>\n",
       "      <td>-2.279559e-97</td>\n",
       "    </tr>\n",
       "    <tr>\n",
       "      <th>25%</th>\n",
       "      <td>152.349938</td>\n",
       "      <td>8.662358</td>\n",
       "      <td>0.346737</td>\n",
       "      <td>0.044100</td>\n",
       "      <td>25.157782</td>\n",
       "      <td>0.366519</td>\n",
       "      <td>10.191000</td>\n",
       "      <td>0.021000</td>\n",
       "      <td>189.000006</td>\n",
       "      <td>1.552387e+10</td>\n",
       "      <td>1.144774e+09</td>\n",
       "    </tr>\n",
       "    <tr>\n",
       "      <th>50%</th>\n",
       "      <td>185.824575</td>\n",
       "      <td>23.197910</td>\n",
       "      <td>0.389045</td>\n",
       "      <td>0.069000</td>\n",
       "      <td>35.525868</td>\n",
       "      <td>0.573465</td>\n",
       "      <td>10.693000</td>\n",
       "      <td>0.029000</td>\n",
       "      <td>295.714278</td>\n",
       "      <td>4.931738e+10</td>\n",
       "      <td>2.906879e+09</td>\n",
       "    </tr>\n",
       "    <tr>\n",
       "      <th>75%</th>\n",
       "      <td>222.151537</td>\n",
       "      <td>39.835143</td>\n",
       "      <td>0.478630</td>\n",
       "      <td>0.096400</td>\n",
       "      <td>48.283920</td>\n",
       "      <td>0.801189</td>\n",
       "      <td>11.032000</td>\n",
       "      <td>0.041000</td>\n",
       "      <td>413.142858</td>\n",
       "      <td>1.076465e+11</td>\n",
       "      <td>6.027530e+09</td>\n",
       "    </tr>\n",
       "    <tr>\n",
       "      <th>max</th>\n",
       "      <td>359.994900</td>\n",
       "      <td>70.133250</td>\n",
       "      <td>10.964781</td>\n",
       "      <td>0.299600</td>\n",
       "      <td>1373.931687</td>\n",
       "      <td>2.490003</td>\n",
       "      <td>12.326000</td>\n",
       "      <td>0.800000</td>\n",
       "      <td>1284.000022</td>\n",
       "      <td>2.118361e+12</td>\n",
       "      <td>1.727792e+11</td>\n",
       "    </tr>\n",
       "  </tbody>\n",
       "</table>\n",
       "</div>"
      ],
      "text/plain": [
       "                  RA            DEC            D25         redshi  \\\n",
       "count  187742.000000  187742.000000  187742.000000  187742.000000   \n",
       "mean      184.527190      24.898677       0.445798       0.074652   \n",
       "std        61.620064      19.374103       0.168006       0.040143   \n",
       "min         0.008250     -11.252830       0.316228       0.010000   \n",
       "25%       152.349938       8.662358       0.346737       0.044100   \n",
       "50%       185.824575      23.197910       0.389045       0.069000   \n",
       "75%       222.151537      39.835143       0.478630       0.096400   \n",
       "max       359.994900      70.133250      10.964781       0.299600   \n",
       "\n",
       "         GalSize_kpc      d_pix_kpc       logMstar   err_logMstar  \\\n",
       "count  187742.000000  187742.000000  187742.000000  187742.000000   \n",
       "mean       38.318105       0.620438       9.081941      -1.313631   \n",
       "std        18.942158       0.333632      12.706553      11.469736   \n",
       "min         4.034125       0.083111     -99.000000     -99.000000   \n",
       "25%        25.157782       0.366519      10.191000       0.021000   \n",
       "50%        35.525868       0.573465      10.693000       0.029000   \n",
       "75%        48.283920       0.801189      11.032000       0.041000   \n",
       "max      1373.931687       2.490003      12.326000       0.800000   \n",
       "\n",
       "            Distance      lin_mass       lin_err  \n",
       "count  187742.000000  1.877420e+05  1.877420e+05  \n",
       "mean      319.936358  7.877701e+10  4.648110e+09  \n",
       "std       172.041273  9.461819e+10  5.529011e+09  \n",
       "min        42.857142  1.000000e-99 -2.279559e-97  \n",
       "25%       189.000006  1.552387e+10  1.144774e+09  \n",
       "50%       295.714278  4.931738e+10  2.906879e+09  \n",
       "75%       413.142858  1.076465e+11  6.027530e+09  \n",
       "max      1284.000022  2.118361e+12  1.727792e+11  "
      ]
     },
     "execution_count": 16,
     "metadata": {},
     "output_type": "execute_result"
    }
   ],
   "source": [
    "df['RA'] = df['RA'].apply(np.float64)\n",
    "df['DEC'] = df['DEC'].apply(np.float64)\n",
    "df['D25'] = df['D25'].apply(np.float64)\n",
    "df['redshi'] = df['redshi'].apply(np.float64)\n",
    "df['logMstar'] = df['logMst'].apply(np.float64) #renamed\n",
    "df['err_logMstar'] = df['err_l'].apply(np.float64) #renamed\n",
    "df['GalSize_kpc'] = df['GalSize_kpc'].apply(np.float64)\n",
    "df['Distance'] = df['D_Mpc'].apply(np.float64) #renamed\n",
    "df['d_pix_kpc'] = df['d_pix_kpc'].apply(np.float64)\n",
    "\n",
    "df['lin_mass'] = np.power(10, df.logMstar)\n",
    "df['lin_err'] = df['lin_mass'] * np.log(10) * df.err_logMstar\n",
    "\n",
    "df = df.drop(['logMst','err_l'], axis=1)\n",
    "df.describe()"
   ]
  },
  {
   "cell_type": "code",
   "execution_count": 17,
   "metadata": {},
   "outputs": [
    {
     "name": "stdout",
     "output_type": "stream",
     "text": [
      "data file present: 80306\n",
      "data file missing: 107436\n"
     ]
    }
   ],
   "source": [
    "# df.SDSS_ID[:20].apply(lambda x: x)\n",
    "df['hasFile'] = df.SDSS_ID.apply(lambda x: os.path.isfile(dataFolder+x+'.npy'))\n",
    "\n",
    "print(\"data file present:\", len(df[df['hasFile']==True]))\n",
    "print(\"data file missing:\", len(df[df['hasFile']==False]))"
   ]
  },
  {
   "cell_type": "markdown",
   "metadata": {},
   "source": [
    "### Filter images that have no known mass, no actual image, or with an unknown error"
   ]
  },
  {
   "cell_type": "code",
   "execution_count": 18,
   "metadata": {},
   "outputs": [
    {
     "data": {
      "text/html": [
       "<div>\n",
       "<style>\n",
       "    .dataframe thead tr:only-child th {\n",
       "        text-align: right;\n",
       "    }\n",
       "\n",
       "    .dataframe thead th {\n",
       "        text-align: left;\n",
       "    }\n",
       "\n",
       "    .dataframe tbody tr th {\n",
       "        vertical-align: top;\n",
       "    }\n",
       "</style>\n",
       "<table border=\"1\" class=\"dataframe\">\n",
       "  <thead>\n",
       "    <tr style=\"text-align: right;\">\n",
       "      <th></th>\n",
       "      <th>RA</th>\n",
       "      <th>DEC</th>\n",
       "      <th>D25</th>\n",
       "      <th>redshi</th>\n",
       "      <th>GalSize_kpc</th>\n",
       "      <th>d_pix_kpc</th>\n",
       "      <th>logMstar</th>\n",
       "      <th>err_logMstar</th>\n",
       "      <th>Distance</th>\n",
       "      <th>lin_mass</th>\n",
       "      <th>lin_err</th>\n",
       "    </tr>\n",
       "  </thead>\n",
       "  <tbody>\n",
       "    <tr>\n",
       "      <th>count</th>\n",
       "      <td>78851.000000</td>\n",
       "      <td>78851.000000</td>\n",
       "      <td>78851.000000</td>\n",
       "      <td>78851.000000</td>\n",
       "      <td>78851.000000</td>\n",
       "      <td>78851.000000</td>\n",
       "      <td>78851.000000</td>\n",
       "      <td>78851.000000</td>\n",
       "      <td>78851.000000</td>\n",
       "      <td>7.885100e+04</td>\n",
       "      <td>7.885100e+04</td>\n",
       "    </tr>\n",
       "    <tr>\n",
       "      <th>mean</th>\n",
       "      <td>185.303775</td>\n",
       "      <td>25.672447</td>\n",
       "      <td>0.557644</td>\n",
       "      <td>0.058701</td>\n",
       "      <td>38.101843</td>\n",
       "      <td>0.487867</td>\n",
       "      <td>10.558197</td>\n",
       "      <td>0.031070</td>\n",
       "      <td>251.574576</td>\n",
       "      <td>7.898269e+10</td>\n",
       "      <td>4.398954e+09</td>\n",
       "    </tr>\n",
       "    <tr>\n",
       "      <th>std</th>\n",
       "      <td>57.111612</td>\n",
       "      <td>18.944782</td>\n",
       "      <td>0.194465</td>\n",
       "      <td>0.032567</td>\n",
       "      <td>19.838329</td>\n",
       "      <td>0.270663</td>\n",
       "      <td>0.654456</td>\n",
       "      <td>0.016953</td>\n",
       "      <td>139.570856</td>\n",
       "      <td>9.624108e+10</td>\n",
       "      <td>5.552716e+09</td>\n",
       "    </tr>\n",
       "    <tr>\n",
       "      <th>min</th>\n",
       "      <td>0.009450</td>\n",
       "      <td>-11.238420</td>\n",
       "      <td>0.407380</td>\n",
       "      <td>0.010000</td>\n",
       "      <td>5.248929</td>\n",
       "      <td>0.083111</td>\n",
       "      <td>7.376000</td>\n",
       "      <td>0.001000</td>\n",
       "      <td>42.857142</td>\n",
       "      <td>2.376840e+07</td>\n",
       "      <td>4.756699e+05</td>\n",
       "    </tr>\n",
       "    <tr>\n",
       "      <th>25%</th>\n",
       "      <td>154.486425</td>\n",
       "      <td>9.795145</td>\n",
       "      <td>0.436516</td>\n",
       "      <td>0.033800</td>\n",
       "      <td>24.390653</td>\n",
       "      <td>0.280915</td>\n",
       "      <td>10.200000</td>\n",
       "      <td>0.019000</td>\n",
       "      <td>144.857136</td>\n",
       "      <td>1.584893e+10</td>\n",
       "      <td>1.023221e+09</td>\n",
       "    </tr>\n",
       "    <tr>\n",
       "      <th>50%</th>\n",
       "      <td>186.753000</td>\n",
       "      <td>24.400580</td>\n",
       "      <td>0.489779</td>\n",
       "      <td>0.052300</td>\n",
       "      <td>35.043089</td>\n",
       "      <td>0.434670</td>\n",
       "      <td>10.692000</td>\n",
       "      <td>0.028000</td>\n",
       "      <td>224.142852</td>\n",
       "      <td>4.920395e+10</td>\n",
       "      <td>2.693666e+09</td>\n",
       "    </tr>\n",
       "    <tr>\n",
       "      <th>75%</th>\n",
       "      <td>221.979375</td>\n",
       "      <td>40.093400</td>\n",
       "      <td>0.602560</td>\n",
       "      <td>0.075600</td>\n",
       "      <td>47.500516</td>\n",
       "      <td>0.628319</td>\n",
       "      <td>11.030000</td>\n",
       "      <td>0.039000</td>\n",
       "      <td>323.999992</td>\n",
       "      <td>1.071519e+11</td>\n",
       "      <td>5.603185e+09</td>\n",
       "    </tr>\n",
       "    <tr>\n",
       "      <th>max</th>\n",
       "      <td>359.994900</td>\n",
       "      <td>70.133250</td>\n",
       "      <td>10.964781</td>\n",
       "      <td>0.294800</td>\n",
       "      <td>1373.931687</td>\n",
       "      <td>2.450110</td>\n",
       "      <td>12.326000</td>\n",
       "      <td>0.778000</td>\n",
       "      <td>1263.428628</td>\n",
       "      <td>2.118361e+12</td>\n",
       "      <td>1.414535e+11</td>\n",
       "    </tr>\n",
       "  </tbody>\n",
       "</table>\n",
       "</div>"
      ],
      "text/plain": [
       "                 RA           DEC           D25        redshi   GalSize_kpc  \\\n",
       "count  78851.000000  78851.000000  78851.000000  78851.000000  78851.000000   \n",
       "mean     185.303775     25.672447      0.557644      0.058701     38.101843   \n",
       "std       57.111612     18.944782      0.194465      0.032567     19.838329   \n",
       "min        0.009450    -11.238420      0.407380      0.010000      5.248929   \n",
       "25%      154.486425      9.795145      0.436516      0.033800     24.390653   \n",
       "50%      186.753000     24.400580      0.489779      0.052300     35.043089   \n",
       "75%      221.979375     40.093400      0.602560      0.075600     47.500516   \n",
       "max      359.994900     70.133250     10.964781      0.294800   1373.931687   \n",
       "\n",
       "          d_pix_kpc      logMstar  err_logMstar      Distance      lin_mass  \\\n",
       "count  78851.000000  78851.000000  78851.000000  78851.000000  7.885100e+04   \n",
       "mean       0.487867     10.558197      0.031070    251.574576  7.898269e+10   \n",
       "std        0.270663      0.654456      0.016953    139.570856  9.624108e+10   \n",
       "min        0.083111      7.376000      0.001000     42.857142  2.376840e+07   \n",
       "25%        0.280915     10.200000      0.019000    144.857136  1.584893e+10   \n",
       "50%        0.434670     10.692000      0.028000    224.142852  4.920395e+10   \n",
       "75%        0.628319     11.030000      0.039000    323.999992  1.071519e+11   \n",
       "max        2.450110     12.326000      0.778000   1263.428628  2.118361e+12   \n",
       "\n",
       "            lin_err  \n",
       "count  7.885100e+04  \n",
       "mean   4.398954e+09  \n",
       "std    5.552716e+09  \n",
       "min    4.756699e+05  \n",
       "25%    1.023221e+09  \n",
       "50%    2.693666e+09  \n",
       "75%    5.603185e+09  \n",
       "max    1.414535e+11  "
      ]
     },
     "execution_count": 18,
     "metadata": {},
     "output_type": "execute_result"
    }
   ],
   "source": [
    "df = df[df.logMstar != -99]\n",
    "df = df[df.hasFile == True]\n",
    "df = df[df['lin_err']!=0]\n",
    "df.describe()"
   ]
  },
  {
   "cell_type": "code",
   "execution_count": 19,
   "metadata": {
    "collapsed": true
   },
   "outputs": [],
   "source": [
    "random.seed(42)\n",
    "\n",
    "df = df.sample(frac=1).reset_index(drop=True)"
   ]
  },
  {
   "cell_type": "code",
   "execution_count": 20,
   "metadata": {},
   "outputs": [
    {
     "data": {
      "text/html": [
       "<div>\n",
       "<style>\n",
       "    .dataframe thead tr:only-child th {\n",
       "        text-align: right;\n",
       "    }\n",
       "\n",
       "    .dataframe thead th {\n",
       "        text-align: left;\n",
       "    }\n",
       "\n",
       "    .dataframe tbody tr th {\n",
       "        vertical-align: top;\n",
       "    }\n",
       "</style>\n",
       "<table border=\"1\" class=\"dataframe\">\n",
       "  <thead>\n",
       "    <tr style=\"text-align: right;\">\n",
       "      <th></th>\n",
       "      <th>SDSS_ID</th>\n",
       "      <th>RA</th>\n",
       "      <th>DEC</th>\n",
       "      <th>D25</th>\n",
       "      <th>redshi</th>\n",
       "      <th>GalSize_kpc</th>\n",
       "      <th>D_Mpc</th>\n",
       "      <th>d_pix_kpc</th>\n",
       "      <th>logMstar</th>\n",
       "      <th>err_logMstar</th>\n",
       "      <th>Distance</th>\n",
       "      <th>lin_mass</th>\n",
       "      <th>lin_err</th>\n",
       "      <th>hasFile</th>\n",
       "    </tr>\n",
       "  </thead>\n",
       "  <tbody>\n",
       "    <tr>\n",
       "      <th>0</th>\n",
       "      <td>1237665226239836324</td>\n",
       "      <td>206.63055</td>\n",
       "      <td>30.02008</td>\n",
       "      <td>0.407380</td>\n",
       "      <td>0.1046</td>\n",
       "      <td>53.122808</td>\n",
       "      <td>448.2857031481607</td>\n",
       "      <td>0.869340</td>\n",
       "      <td>11.025</td>\n",
       "      <td>0.012</td>\n",
       "      <td>448.285703</td>\n",
       "      <td>1.059254e+11</td>\n",
       "      <td>2.926826e+09</td>\n",
       "      <td>True</td>\n",
       "    </tr>\n",
       "    <tr>\n",
       "      <th>1</th>\n",
       "      <td>1237671992951767159</td>\n",
       "      <td>206.07855</td>\n",
       "      <td>2.54089</td>\n",
       "      <td>0.436516</td>\n",
       "      <td>0.0725</td>\n",
       "      <td>39.453661</td>\n",
       "      <td>310.714276773589</td>\n",
       "      <td>0.602554</td>\n",
       "      <td>11.000</td>\n",
       "      <td>0.026</td>\n",
       "      <td>310.714277</td>\n",
       "      <td>1.000000e+11</td>\n",
       "      <td>5.986721e+09</td>\n",
       "      <td>True</td>\n",
       "    </tr>\n",
       "    <tr>\n",
       "      <th>2</th>\n",
       "      <td>1237666339190014232</td>\n",
       "      <td>19.02330</td>\n",
       "      <td>-0.01491</td>\n",
       "      <td>0.977237</td>\n",
       "      <td>0.0446</td>\n",
       "      <td>54.335565</td>\n",
       "      <td>191.14285175289427</td>\n",
       "      <td>0.370675</td>\n",
       "      <td>11.124</td>\n",
       "      <td>0.019</td>\n",
       "      <td>191.142852</td>\n",
       "      <td>1.330454e+11</td>\n",
       "      <td>5.820621e+09</td>\n",
       "      <td>True</td>\n",
       "    </tr>\n",
       "    <tr>\n",
       "      <th>3</th>\n",
       "      <td>1237653502044668058</td>\n",
       "      <td>40.20855</td>\n",
       "      <td>-7.97571</td>\n",
       "      <td>0.602560</td>\n",
       "      <td>0.0268</td>\n",
       "      <td>20.131868</td>\n",
       "      <td>114.85713933195386</td>\n",
       "      <td>0.222737</td>\n",
       "      <td>10.221</td>\n",
       "      <td>0.033</td>\n",
       "      <td>114.857139</td>\n",
       "      <td>1.663413e+10</td>\n",
       "      <td>1.263949e+09</td>\n",
       "      <td>True</td>\n",
       "    </tr>\n",
       "    <tr>\n",
       "      <th>4</th>\n",
       "      <td>1237662637986480160</td>\n",
       "      <td>241.07910</td>\n",
       "      <td>9.26749</td>\n",
       "      <td>0.758578</td>\n",
       "      <td>0.0476</td>\n",
       "      <td>45.014900</td>\n",
       "      <td>204.000004700252</td>\n",
       "      <td>0.395608</td>\n",
       "      <td>10.775</td>\n",
       "      <td>0.041</td>\n",
       "      <td>204.000005</td>\n",
       "      <td>5.956621e+10</td>\n",
       "      <td>5.623407e+09</td>\n",
       "      <td>True</td>\n",
       "    </tr>\n",
       "  </tbody>\n",
       "</table>\n",
       "</div>"
      ],
      "text/plain": [
       "               SDSS_ID         RA       DEC       D25  redshi  GalSize_kpc  \\\n",
       "0  1237665226239836324  206.63055  30.02008  0.407380  0.1046    53.122808   \n",
       "1  1237671992951767159  206.07855   2.54089  0.436516  0.0725    39.453661   \n",
       "2  1237666339190014232   19.02330  -0.01491  0.977237  0.0446    54.335565   \n",
       "3  1237653502044668058   40.20855  -7.97571  0.602560  0.0268    20.131868   \n",
       "4  1237662637986480160  241.07910   9.26749  0.758578  0.0476    45.014900   \n",
       "\n",
       "                D_Mpc  d_pix_kpc  logMstar  err_logMstar    Distance  \\\n",
       "0   448.2857031481607   0.869340    11.025         0.012  448.285703   \n",
       "1    310.714276773589   0.602554    11.000         0.026  310.714277   \n",
       "2  191.14285175289427   0.370675    11.124         0.019  191.142852   \n",
       "3  114.85713933195386   0.222737    10.221         0.033  114.857139   \n",
       "4    204.000004700252   0.395608    10.775         0.041  204.000005   \n",
       "\n",
       "       lin_mass       lin_err  hasFile  \n",
       "0  1.059254e+11  2.926826e+09     True  \n",
       "1  1.000000e+11  5.986721e+09     True  \n",
       "2  1.330454e+11  5.820621e+09     True  \n",
       "3  1.663413e+10  1.263949e+09     True  \n",
       "4  5.956621e+10  5.623407e+09     True  "
      ]
     },
     "execution_count": 20,
     "metadata": {},
     "output_type": "execute_result"
    }
   ],
   "source": [
    "df.head()"
   ]
  },
  {
   "cell_type": "code",
   "execution_count": 21,
   "metadata": {},
   "outputs": [
    {
     "data": {
      "text/plain": [
       "<matplotlib.axes._subplots.AxesSubplot at 0x7fac62bc8cc0>"
      ]
     },
     "execution_count": 21,
     "metadata": {},
     "output_type": "execute_result"
    },
    {
     "data": {
      "image/png": "[encoded data removed]",
      "text/plain": [
       "<matplotlib.figure.Figure at 0x7fac62bd8a20>"
      ]
     },
     "metadata": {},
     "output_type": "display_data"
    }
   ],
   "source": [
    "df.logMstar.plot()"
   ]
  },
  {
   "cell_type": "code",
   "execution_count": 22,
   "metadata": {},
   "outputs": [
    {
     "name": "stdout",
     "output_type": "stream",
     "text": [
      "78851\n"
     ]
    }
   ],
   "source": [
    "print(len(df.SDSS_ID.values))"
   ]
  },
  {
   "cell_type": "markdown",
   "metadata": {},
   "source": [
    "# Iteration parameters defined here:\n",
    "\n",
    "- N is the number of galaxies to use for this run\n",
    "- M is the number of galaxies to train set (rest is holdout)\n",
    "- chunkSize is the number of galaxies to evaluate at once\n",
    "- prefixThisRound is the model name, for serialization purposes"
   ]
  },
  {
   "cell_type": "code",
   "execution_count": 23,
   "metadata": {
    "collapsed": true
   },
   "outputs": [],
   "source": [
    "N = int(len(df.SDSS_ID.values))\n",
    "M = int(N*.9)\n",
    "prefixThisRound = 'sp'\n",
    "for i in runNameParams:\n",
    "    prefixThisRound = prefixThisRound + '-' + i\n",
    "\n",
    "chunkSize = 200\n",
    "nSplits = 3\n",
    "\n",
    "# N = 3000 # number of galaxies to take into consideration\n",
    "# M = 2000 # train vs holdout\n",
    "\n",
    "\n",
    "# N = int(N*0.01)\n",
    "# M = int(M*0.01)\n"
   ]
  },
  {
   "cell_type": "code",
   "execution_count": 24,
   "metadata": {
    "collapsed": true
   },
   "outputs": [],
   "source": [
    "ids = df.SDSS_ID.values[:N]\n",
    "Y = df.logMstar.values[:N]\n",
    "err = df.err_logMstar.values[:N]\n",
    "Y_lin = df.lin_mass.values[:N]\n",
    "err_lin = df.lin_err.values[:N]"
   ]
  },
  {
   "cell_type": "code",
   "execution_count": null,
   "metadata": {
    "collapsed": true
   },
   "outputs": [],
   "source": []
  },
  {
   "cell_type": "code",
   "execution_count": 25,
   "metadata": {},
   "outputs": [
    {
     "name": "stdout",
     "output_type": "stream",
     "text": [
      "78851\n",
      "70965\n",
      "200\n",
      "sp-newSource-ReadLog1pNormCrop.75\n"
     ]
    }
   ],
   "source": [
    "print(N)\n",
    "print(M)\n",
    "print(chunkSize)\n",
    "print(prefixThisRound)"
   ]
  },
  {
   "cell_type": "code",
   "execution_count": 26,
   "metadata": {
    "collapsed": true
   },
   "outputs": [],
   "source": [
    "# crap instruction to make the auto execution stop here :p"
   ]
  },
  {
   "cell_type": "markdown",
   "metadata": {},
   "source": [
    "### call img_preproc on all images, per batches of \"chunkSize\"\n",
    "### Generate features based on the preprocessed images, pretrained networks and flux densities"
   ]
  },
  {
   "cell_type": "code",
   "execution_count": 27,
   "metadata": {
    "collapsed": true
   },
   "outputs": [],
   "source": [
    "def chunkFileName(chunkSize, prefix, chunkNumber):\n",
    "    fileName = 'Xg3-'+str(chunkSize)+'-'+prefix+'-chunk-' + str(chunkNumber) + '.npy'\n",
    "    return fileName"
   ]
  },
  {
   "cell_type": "code",
   "execution_count": 28,
   "metadata": {
    "collapsed": true
   },
   "outputs": [],
   "source": [
    "prefixThisRound = prefixThisRound + '-model6'"
   ]
  },
  {
   "cell_type": "code",
   "execution_count": 29,
   "metadata": {
    "collapsed": true
   },
   "outputs": [],
   "source": [
    "lgbm_params = {\n",
    "    'boosting_type': 'gbdt',\n",
    "    'objective': 'regression_l2',\n",
    "    'nthread': 4,\n",
    "    #'silent': True,\n",
    "    'num_leaves': 2**4,\n",
    "    'learning_rate': 0.01,\n",
    "    'max_depth': 10,\n",
    "    'max_bin': 255,\n",
    "    #'subsample_for_bin': 50000,\n",
    "    #'subsample': 0.8,\n",
    "    #'subsample_freq': 1,\n",
    "    #'colsample_bytree': 0.8,\n",
    "    #'reg_alpha': 1,\n",
    "    #'reg_lambda': 0,\n",
    "    #'min_split_gain': 0.5,\n",
    "    #'min_child_weight': 1,\n",
    "    #'min_child_samples': 60,\n",
    "    #'scale_pos_weight': 1,\n",
    "    'device' : 'gpu',\n",
    "    'metric' : 'rmse',\n",
    "    #'metric' : 'multi_error',\n",
    "    'verbose':0,          \n",
    "}"
   ]
  },
  {
   "cell_type": "code",
   "execution_count": 30,
   "metadata": {
    "collapsed": true
   },
   "outputs": [],
   "source": [
    "def getFeatures(preProcessingNum):\n",
    "    Xg3r50 = []\n",
    "    Xg3vgg16 = []\n",
    "    postImgFeatures = []\n",
    "    csize=2\n",
    "    preImgFeatures = []\n",
    "\n",
    "    maxChunkNumber = math.ceil(len(ids)/chunkSize)\n",
    "    chunkStart = 0\n",
    "    # for chunkStart in tqdm(range(0, 3)):\n",
    "    for chunkStart in tqdm(range(0, len(ids), chunkSize)):\n",
    "        curChunk = int((chunkStart//chunkSize))\n",
    "        valuesInThisChunk = min(chunkStart+chunkSize,len(ids))-chunkStart\n",
    "\n",
    "        Xg_ = []\n",
    "        pre_ex_ = []\n",
    "\n",
    "        # preprocess the image and collect some raw image stats\n",
    "        for i in range(chunkStart, chunkStart+valuesInThisChunk):\n",
    "            X = read_image(ids[i])\n",
    "            Xg_.append(img_preprocnoread(X, preProcessingNum))\n",
    "            pre_ex_.append([\n",
    "                X.sum(),\n",
    "                X.min(),\n",
    "                X.max(),\n",
    "                X.mean(),\n",
    "                X.std(),\n",
    "                X[X.shape[0]//2,X.shape[1]//2],\n",
    "                np.mean(X[X.shape[0]//2-csize:X.shape[0]//2+csize,X.shape[1]//2-csize:X.shape[1]//2+csize]), # mean center\n",
    "                X.shape[0], \n",
    "            ])\n",
    "\n",
    "        # reformat the postprocessing\n",
    "        pre_ex = np.stack(pre_ex_)\n",
    "        Xg = np.stack(Xg_)\n",
    "\n",
    "        # collect some post processing stats\n",
    "        post_ex = np.hstack([\n",
    "            np.sum(Xg.reshape(valuesInThisChunk,-1),axis=1).reshape(valuesInThisChunk,1),\n",
    "            np.min(Xg.reshape(valuesInThisChunk,-1),axis=1).reshape(valuesInThisChunk,1),\n",
    "            np.max(Xg.reshape(valuesInThisChunk,-1),axis=1).reshape(valuesInThisChunk,1),\n",
    "            np.mean(Xg.reshape(valuesInThisChunk,-1),axis=1).reshape(valuesInThisChunk,1),\n",
    "            np.std(Xg.reshape(valuesInThisChunk,-1),axis=1).reshape(valuesInThisChunk,1),\n",
    "            Xg[:,112,112].reshape(valuesInThisChunk,1),       # center\n",
    "            np.mean(Xg[:,112-csize:112+csize,112-csize:112+csize].reshape(valuesInThisChunk,-1),axis=1).reshape(valuesInThisChunk,-1) # mean center\n",
    "            ])\n",
    "\n",
    "        Xg3 = np.zeros((valuesInThisChunk,224,224,3))\n",
    "        Xg3[:,:,:,:] = Xg.reshape(valuesInThisChunk,224,224,1)\n",
    "\n",
    "        # do r50 prediction\n",
    "        Xg3r50_ = r50.predict(Xg3).reshape(valuesInThisChunk, 2048)\n",
    "        Xg3vgg16_ = vgg16.predict(Xg3)\n",
    "\n",
    "\n",
    "        if chunkStart == 0:\n",
    "            Xg3r50 = Xg3r50_\n",
    "            Xg3vgg16 = Xg3vgg16_\n",
    "            preImgFeatures = pre_ex\n",
    "            postImgFeatures = post_ex\n",
    "        else:\n",
    "            Xg3r50 = np.concatenate([Xg3r50,Xg3r50_], axis=0)\n",
    "            Xg3vgg16 = np.concatenate([Xg3vgg16,Xg3vgg16_], axis=0)\n",
    "            preImgFeatures = np.concatenate([preImgFeatures,pre_ex], axis=0)\n",
    "            postImgFeatures = np.concatenate([postImgFeatures,post_ex], axis=0)\n",
    "\n",
    "    postImgFeatureNames = ['norm.flux.sum', 'norm.flux.min',\n",
    "                           'norm.flux.max', 'norm.flux.mean', \n",
    "                           'norm.flux.std', 'center.flux', \n",
    "                           'aroundCenter.flux']\n",
    "    preImgFeatureNames = ['pre.flux.sum', 'pre.flux.min', \n",
    "                          'pre.flux.max', 'pre.flux.mean',\n",
    "                          'pre.flux.std', 'pre.center.flux',\n",
    "                          'pre.aroundCenter.flux', 'width']\n",
    "\n",
    "\n",
    "    Xg3 = None\n",
    "    Xg = None\n",
    "    X = None\n",
    "\n",
    "    Distance = df.Distance.values[:N].reshape(N,1)\n",
    "\n",
    "    Xg3f = np.hstack ( ( \n",
    "            Xg3r50, \n",
    "            Xg3vgg16, \n",
    "            Distance,\n",
    "            1/Distance,\n",
    "            Distance**2,\n",
    "            1/(Distance**2),\n",
    "            Distance**3,\n",
    "            1/(Distance**3),\n",
    "            np.log(Distance),\n",
    "            1/np.log(Distance),\n",
    "            np.log(Distance**2),\n",
    "            1/np.log(Distance**2),\n",
    "            np.log(Distance)**2,\n",
    "            1/np.log(Distance)**2,\n",
    "            preImgFeatures,\n",
    "            postImgFeatures\n",
    "            ) )\n",
    "\n",
    "    distanceNames = ['D', '1/D', 'D**2', '1/D**2', 'D**3', '1/D**3', 'log(D)', '1/log(D)', 'log(D**2)', 'log(1/D**2)', 'log(D)**2', '1/log(D)**2' ]\n",
    "\n",
    "    # extraImgFeatureNames = ['norm.flux.sum', 'norm.flux.min', 'norm.flux.max', 'norm.flux.mean', 'norm.flux.std', 'center.flux', 'aroundCenter.flux']\n",
    "\n",
    "    Xg3fNames = ( [prefixThisRound+'.r50.' + str(i) for i in range(Xg3r50.shape[1])]\n",
    "                + [prefixThisRound+'.vgg16.' + str(i) for i in range(Xg3vgg16.shape[1])] \n",
    "                + [prefixThisRound+'.'+ n for n in distanceNames]\n",
    "                + [prefixThisRound+'.'+ n for n in preImgFeatureNames]\n",
    "                + [prefixThisRound+'.'+ n for n in postImgFeatureNames])\n",
    "\n",
    "    print(len(Xg3fNames), Xg3f.shape)\n",
    "    \n",
    "    return Xg3f, Xg3fNames\n",
    "    "
   ]
  },
  {
   "cell_type": "code",
   "execution_count": 31,
   "metadata": {
    "collapsed": true,
    "scrolled": true
   },
   "outputs": [],
   "source": [
    "def getModelsWithCV(trainSet, YSet):\n",
    "    kf = KFold(n_splits=nSplits,shuffle=True, random_state=220477)\n",
    "\n",
    "    cvtrainpreds = np.zeros([len(Xg3f),nSplits])\n",
    "    models = []\n",
    "    xis, linxis = [],[]\n",
    "    counter = 0\n",
    "    for tix, vix in kf.split(trainSet):\n",
    "        X_train, X_test = trainSet[tix], trainSet[vix]\n",
    "        Y_train, Y_test = YSet[tix], YSet[vix]\n",
    "\n",
    "        lgb_train = lgbm.Dataset(X_train, Y_train)\n",
    "        lgb_eval = lgbm.Dataset(X_test, Y_test)\n",
    "\n",
    "        gbm = lgbm.train(lgbm_params,\n",
    "                           lgb_train,\n",
    "                           num_boost_round=20000,\n",
    "                           valid_sets=[lgb_train,lgb_eval],  # eval training data\n",
    "                           verbose_eval=100,\n",
    "                           early_stopping_rounds=100\n",
    "                        )\n",
    "        models.append(gbm)\n",
    "\n",
    "        p = gbm.predict(X_test)\n",
    "        chiSq = xi2(Y_test,p,err[vix])\n",
    "        linChiSq = xi2(10**Y_test,10**p,err_lin[vix])\n",
    "        xis.append(chiSq)\n",
    "        linxis.append(linChiSq)\n",
    "        print(counter,chiSq,linChiSq)    \n",
    "\n",
    "        cvtrainpreds[vix,counter] = p\n",
    "        counter = counter+1\n",
    "        \n",
    "    return models, cvtrainpreds, xis, linxis\n",
    "\n",
    "# models, cvtrainpreds, xis, linxis = getModels(Xg3f[:M], Y[:M])\n",
    "\n",
    "# print(models, cvtrainpreds)\n",
    "\n",
    "# print(xis, linxis)\n"
   ]
  },
  {
   "cell_type": "code",
   "execution_count": 32,
   "metadata": {
    "collapsed": true
   },
   "outputs": [],
   "source": [
    "def getModelsNoCV(trainSet, YSet, errSet, errlinSet):\n",
    "    cvtrainpreds = np.zeros([len(trainSet),1])\n",
    "    models = []\n",
    "    xis, linxis = [],[]\n",
    "    counter = 0\n",
    "\n",
    "    tix, vix = list(range(0,int(len(trainSet)*0.9))), list(range(int(len(trainSet)*0.9),len(trainSet)))\n",
    "    \n",
    "    X_train, X_test = trainSet[tix], trainSet[vix]\n",
    "    Y_train, Y_test = YSet[tix], YSet[vix]\n",
    "\n",
    "    lgb_train = lgbm.Dataset(X_train, Y_train)\n",
    "    lgb_eval = lgbm.Dataset(X_test, Y_test)\n",
    "\n",
    "    gbm = lgbm.train(lgbm_params,\n",
    "                       lgb_train,\n",
    "                       num_boost_round=20000,\n",
    "                       valid_sets=[lgb_train,lgb_eval],  # eval training data\n",
    "                       verbose_eval=100,\n",
    "                       early_stopping_rounds=100\n",
    "                    )\n",
    "    models.append(gbm)\n",
    "\n",
    "    p = gbm.predict(X_test)\n",
    "    chiSq = xi2(Y_test,p,errSet[vix])\n",
    "    linChiSq = xi2(10**Y_test,10**p,errlinSet[vix])\n",
    "    xis.append(chiSq)\n",
    "    linxis.append(linChiSq)\n",
    "    print(counter,chiSq,linChiSq)    \n",
    "\n",
    "    cvtrainpreds[vix,counter] = p\n",
    "    counter = counter+1\n",
    "        \n",
    "    return models, cvtrainpreds, xis, linxis\n"
   ]
  },
  {
   "cell_type": "code",
   "execution_count": 33,
   "metadata": {},
   "outputs": [
    {
     "name": "stderr",
     "output_type": "stream",
     "text": [
      "100%|██████████| 395/395 [11:09<00:00,  1.51s/it]\n",
      "  0%|          | 0/395 [00:00<?, ?it/s]"
     ]
    },
    {
     "name": "stdout",
     "output_type": "stream",
     "text": [
      "3075 (78851, 3075)\n"
     ]
    },
    {
     "name": "stderr",
     "output_type": "stream",
     "text": [
      "100%|██████████| 395/395 [11:08<00:00,  1.39s/it]\n"
     ]
    },
    {
     "name": "stdout",
     "output_type": "stream",
     "text": [
      "3075 (78851, 3075)\n"
     ]
    },
    {
     "name": "stderr",
     "output_type": "stream",
     "text": [
      "100%|██████████| 395/395 [11:10<00:00,  1.38s/it]\n"
     ]
    },
    {
     "name": "stdout",
     "output_type": "stream",
     "text": [
      "3075 (78851, 3075)\n"
     ]
    },
    {
     "name": "stderr",
     "output_type": "stream",
     "text": [
      "100%|██████████| 395/395 [11:09<00:00,  1.39s/it]\n"
     ]
    },
    {
     "name": "stdout",
     "output_type": "stream",
     "text": [
      "3075 (78851, 3075)\n"
     ]
    },
    {
     "name": "stderr",
     "output_type": "stream",
     "text": [
      "100%|██████████| 395/395 [11:10<00:00,  1.39s/it]\n"
     ]
    },
    {
     "name": "stdout",
     "output_type": "stream",
     "text": [
      "3075 (78851, 3075)\n"
     ]
    },
    {
     "name": "stderr",
     "output_type": "stream",
     "text": [
      "100%|██████████| 395/395 [11:09<00:00,  1.38s/it]\n"
     ]
    },
    {
     "name": "stdout",
     "output_type": "stream",
     "text": [
      "3075 (78851, 3075)\n"
     ]
    },
    {
     "name": "stderr",
     "output_type": "stream",
     "text": [
      "100%|██████████| 395/395 [11:10<00:00,  1.40s/it]\n"
     ]
    },
    {
     "name": "stdout",
     "output_type": "stream",
     "text": [
      "3075 (78851, 3075)\n"
     ]
    },
    {
     "name": "stderr",
     "output_type": "stream",
     "text": [
      "100%|██████████| 395/395 [11:10<00:00,  1.39s/it]\n"
     ]
    },
    {
     "name": "stdout",
     "output_type": "stream",
     "text": [
      "3075 (78851, 3075)\n"
     ]
    }
   ],
   "source": [
    "reloadImagesAndPreprocess = 0\n",
    "\n",
    "numPreprocessing = 8\n",
    "nSplits = 1\n",
    "ttaPredictions = np.zeros([numPreprocessing,nSplits,N-M])\n",
    "\n",
    "\n",
    "if reloadImagesAndPreprocess == 1:\n",
    "    for curTTA in range(numPreprocessing):\n",
    "        a, Xg3fNames = getFeatures(curTTA)\n",
    "\n",
    "        if curTTA == 0:\n",
    "            trainXg3fStacked = a[:M]\n",
    "            trainYStacked = Y[:M]\n",
    "            testXg3fStacked = a[M:]\n",
    "            testYStacked = Y[M:]\n",
    "            trainErrStacked = err[:M]\n",
    "            trainErrlinStacked = err_lin[:M]\n",
    "            testErrStacked = err[M:]\n",
    "            testErrlinStacked = err_lin[M:]\n",
    "        else:\n",
    "            trainXg3fStacked = np.vstack([trainXg3fStacked,a[:M]])\n",
    "            trainYStacked = np.hstack([trainYStacked,Y[:M]])\n",
    "            testXg3fStacked = np.vstack([testXg3fStacked,a[M:]])\n",
    "            testYStacked = np.hstack([testYStacked,Y[M:]])\n",
    "            trainErrStacked = np.hstack([trainErrStacked,err[:M]])\n",
    "            trainErrlinStacked = np.hstack([trainErrlinStacked, err_lin[:M]])\n",
    "            testErrStacked = np.hstack([testErrStacked,err[M:]])\n",
    "            testErrlinStacked = np.hstack([testErrlinStacked, err_lin[M:]])\n",
    "\n",
    "    np.save(prefixThisRound + 'tr' + str(numPreprocessing) + '.npy', trainXg3fStacked)\n",
    "    np.save(prefixThisRound + 'try' + str(numPreprocessing) + '.npy', trainYStacked)\n",
    "    np.save(prefixThisRound + 'te' + str(numPreprocessing) + '.npy', testXg3fStacked)\n",
    "    np.save(prefixThisRound + 'tey' + str(numPreprocessing) + '.npy', testYStacked)\n",
    "    np.save(prefixThisRound + 'tre' + str(numPreprocessing) + '.npy', trainErrStacked)\n",
    "    np.save(prefixThisRound + 'trle' + str(numPreprocessing) + '.npy', trainErrlinStacked)\n",
    "    np.save(prefixThisRound + 'tee' + str(numPreprocessing) + '.npy', testErrStacked)\n",
    "    np.save(prefixThisRound + 'tele' + str(numPreprocessing) + '.npy', testErrlinStacked)\n",
    "else:\n",
    "    trainXg3fStacked = np.save(prefixThisRound + 'tr' + str(numPreprocessing) + '.npy')\n",
    "    trainYStacked = np.save(prefixThisRound + 'try' + str(numPreprocessing) + '.npy')\n",
    "    testXg3fStacked = np.save(prefixThisRound + 'te' + str(numPreprocessing) + '.npy')\n",
    "    testYStacked = np.save(prefixThisRound + 'tey' + str(numPreprocessing) + '.npy')\n",
    "    trainErrStacked = np.save(prefixThisRound + 'tre' + str(numPreprocessing) + '.npy')\n",
    "    trainErrlinStacked = np.save(prefixThisRound + 'trle' + str(numPreprocessing) + '.npy')\n",
    "    testErrStacked = np.save(prefixThisRound + 'tee' + str(numPreprocessing) + '.npy')\n",
    "    testErrlinStacked = np.save(prefixThisRound + 'tele' + str(numPreprocessing) + '.npy')\n",
    "\n",
    "\n"
   ]
  },
  {
   "cell_type": "code",
   "execution_count": 34,
   "metadata": {},
   "outputs": [
    {
     "ename": "NameError",
     "evalue": "name 'ezerzer' is not defined",
     "output_type": "error",
     "traceback": [
      "\u001b[0;31m----------------------------------------------------------------------\u001b[0m",
      "\u001b[0;31mNameError\u001b[0m                            Traceback (most recent call last)",
      "\u001b[0;32m<ipython-input-34-7c58eb0dfeb0>\u001b[0m in \u001b[0;36m<module>\u001b[0;34m()\u001b[0m\n\u001b[0;32m----> 1\u001b[0;31m \u001b[0mezerzer\u001b[0m\u001b[0;34m\u001b[0m\u001b[0m\n\u001b[0m",
      "\u001b[0;31mNameError\u001b[0m: name 'ezerzer' is not defined"
     ]
    }
   ],
   "source": [
    "ezerzer"
   ]
  },
  {
   "cell_type": "code",
   "execution_count": null,
   "metadata": {
    "scrolled": false
   },
   "outputs": [],
   "source": [
    "models, cvtrainpreds, xis, linxis = getModelsNoCV(trainXg3fStacked, trainYStacked, trainErrStacked, trainErrlinStacked)\n",
    "\n",
    "ppreds = np.zeros([len(models),testXg3fStacked.shape[0]])\n",
    "for i, m in zip(range(len(models)),models):\n",
    "    mp = m.predict(testXg3fStacked)\n",
    "    ppreds[i] = mp\n",
    "\n",
    "cvpred = ppreds.mean(axis=0)\n",
    "\n",
    "print(\"Iteration : {}\".format(curTTA))\n",
    "chiSq = xi2(testYStacked,cvpred,testErrStacked)\n",
    "linChiSq = xi2(10**testYStacked,10**cvpred,testErrlinStacked)\n",
    "print(chiSq)\n",
    "print(linChiSq)\n",
    "\n",
    "# ttaPredictions[curTTA] = ppreds\n",
    "    "
   ]
  },
  {
   "cell_type": "code",
   "execution_count": null,
   "metadata": {
    "collapsed": true
   },
   "outputs": [],
   "source": [
    "# print(M)\n",
    "# print(trainXg3fStacked.shape)\n",
    "# testXg3fStacked.shape\n",
    "# ttaPredictions.shape\n",
    "# ppreds.shape\n",
    "\n",
    "mpred = ppreds.reshape((numPreprocessing,-1)).mean(axis=0)\n",
    "chiSq = xi2(Y[M:],mpred,err[M:])\n",
    "linChiSq = xi2(10**Y[M:],10**mpred,err_lin[M:])\n",
    "print(chiSq)\n",
    "print(linChiSq)\n"
   ]
  },
  {
   "cell_type": "code",
   "execution_count": null,
   "metadata": {
    "collapsed": true,
    "scrolled": false
   },
   "outputs": [],
   "source": [
    "print(ttaPredictions.shape)\n",
    "print(ttaPredictions[:,:,0])"
   ]
  },
  {
   "cell_type": "code",
   "execution_count": null,
   "metadata": {
    "collapsed": true
   },
   "outputs": [],
   "source": [
    "cvpred = ttaPredictions.mean(axis=0).mean(axis=0)\n",
    "\n",
    "print(\"Iterations : {}\".format(nSplits*(curTTA+1)))\n",
    "chiSq = xi2(Y[M:],cvpred,err[M:])\n",
    "linChiSq = xi2(10**Y[M:],10**cvpred,err_lin[M:])\n",
    "print(chiSq)\n",
    "print(linChiSq)\n",
    "\n",
    "# ttaPredictions[curTTA] = ppreds\n"
   ]
  },
  {
   "cell_type": "code",
   "execution_count": null,
   "metadata": {
    "collapsed": true
   },
   "outputs": [],
   "source": [
    "for i in range(ttaPredictions.shape[0]):\n",
    "    cvpred = ttaPredictions[i].mean(axis=0)\n",
    "    chiSq = xi2(Y[M:],cvpred,err[M:])\n",
    "    linChiSq = xi2(10**Y[M:],10**cvpred,err_lin[M:])\n",
    "    print(\"Iteration {}: x²:{:2f} lin x²:{:2f} [\".format(i,chiSq,linChiSq), end='')\n",
    "    \n",
    "    for j in range(ttaPredictions.shape[1]):\n",
    "        cvpred = ttaPredictions[i,j]\n",
    "        chiSq = xi2(Y[M:],cvpred,err[M:])\n",
    "        linChiSq = xi2(10**Y[M:],10**cvpred,err_lin[M:])\n",
    "        print(\"{:2f} {:2f} \".format(chiSq, linChiSq), end='')\n",
    "        \n",
    "    print(\"]\")\n"
   ]
  },
  {
   "cell_type": "code",
   "execution_count": null,
   "metadata": {
    "collapsed": true
   },
   "outputs": [],
   "source": [
    "cvpred = ttaPredictions.mean(axis=0).mean(axis=0)\n",
    "\n",
    "chiSq = xi2(Y[M:],cvpred,err[M:])\n",
    "linChiSq = xi2(10**Y[M:],10**cvpred,err_lin[M:])\n",
    "print(\"Values over all {} iterations : {},  {}\".format(nSplits*(curTTA+1), chiSq, linChiSq))\n"
   ]
  },
  {
   "cell_type": "code",
   "execution_count": null,
   "metadata": {
    "collapsed": true
   },
   "outputs": [],
   "source": [
    "# print(ttaPredictions.mean(0).mean(0)[3])\n",
    "# print(ttaPredictions[:,:,3])"
   ]
  },
  {
   "cell_type": "code",
   "execution_count": null,
   "metadata": {
    "collapsed": true
   },
   "outputs": [],
   "source": [
    "diehere"
   ]
  },
  {
   "cell_type": "code",
   "execution_count": null,
   "metadata": {
    "collapsed": true
   },
   "outputs": [],
   "source": [
    "Xg3f.shape"
   ]
  },
  {
   "cell_type": "code",
   "execution_count": null,
   "metadata": {
    "collapsed": true
   },
   "outputs": [],
   "source": [
    "a = Xg3f\n",
    "b = Xg3f\n",
    "\n",
    "b = np.vstack([a,b])\n",
    "b = np.vstack([a,b])\n",
    "b = np.vstack([a,b])\n",
    "b.shape"
   ]
  },
  {
   "cell_type": "code",
   "execution_count": null,
   "metadata": {
    "collapsed": true
   },
   "outputs": [],
   "source": [
    "plt.imshow(img_preproc('1237662637444694216',0))\n",
    "plt.figure()\n",
    "plt.imshow(img_preproc('1237662637444694216',1))\n",
    "plt.figure()\n",
    "plt.imshow(img_preproc('1237662637444694216',2))\n",
    "plt.figure()\n",
    "plt.imshow(img_preproc('1237662637444694216',5))\n",
    "plt.figure()\n"
   ]
  },
  {
   "cell_type": "code",
   "execution_count": null,
   "metadata": {
    "collapsed": true
   },
   "outputs": [],
   "source": [
    "print(Xg3f.shape)\n",
    "print(df.shape)\n",
    "\n",
    "t1 = df.SDSS_ID.values[:N].reshape(N,1)\n",
    "t2 = Xg3f[:N,:]\n",
    "t3 = np.concatenate((t1,t2), axis=1)\n",
    "np.save(prefixThisRound+str(N), t3)\n",
    "np.save(prefixThisRound+str(N) + 'featurenames', Xg3fNames)\n",
    "del t1, t2, t3"
   ]
  },
  {
   "cell_type": "code",
   "execution_count": null,
   "metadata": {
    "collapsed": true
   },
   "outputs": [],
   "source": [
    "\n",
    "# if os.path.isfile(prefixThisRound +str(N)+'.npy'):\n",
    "#     t3 = np.load(prefixThisRound+str(N)+'.npy')\n",
    "#     Xg3fNames = np.load(prefixThisRound+str(N) + 'featurenames' + '.npy', )\n",
    "# Xg3f = t3[:,1:]\n",
    "# Xg3f.shape"
   ]
  },
  {
   "cell_type": "code",
   "execution_count": null,
   "metadata": {
    "collapsed": true
   },
   "outputs": [],
   "source": [
    "# Xg3f = t3[:,1:]\n",
    "# Xg3f.shape"
   ]
  },
  {
   "cell_type": "markdown",
   "metadata": {},
   "source": [
    "### Generate the train/test datasets for lgbm regression"
   ]
  },
  {
   "cell_type": "code",
   "execution_count": null,
   "metadata": {
    "collapsed": true
   },
   "outputs": [],
   "source": [
    "plt.figure(figsize=(16,4))\n",
    "plt.plot(Y[M:]-cvpred)"
   ]
  },
  {
   "cell_type": "code",
   "execution_count": null,
   "metadata": {
    "collapsed": true
   },
   "outputs": [],
   "source": [
    "badID = np.argmax(Y[M:]-cvpred)\n",
    "print(Y[badID])\n",
    "print(df.loc[badID])\n",
    "# df['cvpred'] = cvpred\n",
    "# df['lincvpred'] = 10**cvpred\n",
    "# df['deltapred'] = abs(Y[M:]-cvpred)\n",
    "# df['lindeltapred'] = 10**Y[M:]-10**cvpred\n",
    "\n",
    "drawOneGalaxy(df.SDSS_ID[badID])\n"
   ]
  },
  {
   "cell_type": "code",
   "execution_count": null,
   "metadata": {
    "collapsed": true
   },
   "outputs": [],
   "source": [
    "print(prefixThisRound)\n",
    "\n",
    "# df.to_csv(prefixThisRound + '-CVResultDF.csv')"
   ]
  },
  {
   "cell_type": "code",
   "execution_count": null,
   "metadata": {
    "collapsed": true
   },
   "outputs": [],
   "source": [
    "df.sort_values(by='deltapred', ascending=False).iloc[:20,:]"
   ]
  },
  {
   "cell_type": "code",
   "execution_count": null,
   "metadata": {
    "collapsed": true,
    "scrolled": false
   },
   "outputs": [],
   "source": [
    "sns.jointplot(x=Y, y=cvpred, kind='reg')\n",
    "plt.title('log reg')\n",
    "sns.jointplot(x=Y, y=cvpred, kind='resid')\n",
    "plt.title('log residuals')\n",
    "\n",
    "sns.jointplot(x=10**Y, y=10**cvpred, kind='reg')\n",
    "plt.title('log reg')\n",
    "sns.jointplot(x=10**Y, y=10**cvpred, kind='resid')\n",
    "plt.title('log residuals')\n"
   ]
  },
  {
   "cell_type": "code",
   "execution_count": null,
   "metadata": {
    "collapsed": true
   },
   "outputs": [],
   "source": [
    "plt.plot(Xg3f[:,3067])\n",
    "# plt.hist(Xg3f[:,3067],bins=100)\n",
    "np.argmax(Xg3f[:,3067])\n",
    "df.iloc[59964,:]\n",
    "\n",
    "drawOneGalaxy('1237665015776477192')"
   ]
  },
  {
   "cell_type": "markdown",
   "metadata": {},
   "source": [
    "# Model is trained, values are obtained, saving and result analysis below"
   ]
  },
  {
   "cell_type": "code",
   "execution_count": null,
   "metadata": {
    "collapsed": true,
    "scrolled": true
   },
   "outputs": [],
   "source": [
    "# break here, save the stuff below"
   ]
  },
  {
   "cell_type": "code",
   "execution_count": null,
   "metadata": {
    "collapsed": true
   },
   "outputs": [],
   "source": []
  },
  {
   "cell_type": "code",
   "execution_count": null,
   "metadata": {
    "collapsed": true
   },
   "outputs": [],
   "source": [
    "arr = model.feature_importance()\n",
    "print(arr.shape)\n",
    "np.argmax(arr)\n",
    "# print(arr)"
   ]
  },
  {
   "cell_type": "code",
   "execution_count": null,
   "metadata": {
    "collapsed": true,
    "scrolled": false
   },
   "outputs": [],
   "source": [
    "fimport = list(zip(arr, Xg3fNames))\n",
    "sorted(fimport, key=lambda x: x[0], reverse=True)[:50]"
   ]
  },
  {
   "cell_type": "code",
   "execution_count": null,
   "metadata": {
    "collapsed": true,
    "scrolled": false
   },
   "outputs": [],
   "source": [
    "sns.jointplot(x=Y[M:], y=pred, kind='kde')\n",
    "plt.title('log kde')\n",
    "sns.jointplot(x=Y[M:], y=pred, kind='reg')\n",
    "plt.title('log reg')\n",
    "sns.jointplot(x=Y[M:], y=pred, kind='resid')\n",
    "plt.title('log residuals')\n",
    "\n",
    "\n",
    "sns.jointplot(x=10**Y[M:], y=10**pred, kind='kde')\n",
    "plt.title('lin kde')\n",
    "sns.jointplot(x=10**Y[M:], y=10**pred, kind='reg')\n",
    "plt.title('lin joint')\n",
    "sns.jointplot(x=10**Y[M:], y=10**pred, kind='resid')\n",
    "plt.title('lin joint')\n",
    "# plt.scatter(x=10**Y[M:], y=10**pred)\n"
   ]
  },
  {
   "cell_type": "code",
   "execution_count": null,
   "metadata": {
    "collapsed": true
   },
   "outputs": [],
   "source": [
    "df[df['logMstar']>=12]"
   ]
  },
  {
   "cell_type": "code",
   "execution_count": null,
   "metadata": {
    "collapsed": true
   },
   "outputs": [],
   "source": []
  },
  {
   "cell_type": "code",
   "execution_count": null,
   "metadata": {
    "collapsed": true
   },
   "outputs": [],
   "source": [
    "print(df.shape)\n",
    "print(pred.shape)"
   ]
  },
  {
   "cell_type": "code",
   "execution_count": null,
   "metadata": {
    "collapsed": true,
    "scrolled": false
   },
   "outputs": [],
   "source": [
    "plt.plot(10**Y[M:]-10**pred)\n",
    "worstID = np.argmax(10**Y[M:]-10**pred)\n",
    "\n",
    "print(Y[M+worstID], pred[worstID])\n",
    "print(10**Y[M+worstID], 10**pred[worstID])\n",
    "print(df.loc[M+worstID,:]) # 1237664105244524770, 1237661851469611060 1237654626789163411\n",
    "\n",
    "# pred[worstID] = Y[M+worstID]\n",
    "\n",
    "drawOneGalaxy(df.loc[M+worstID,'SDSS_ID'])"
   ]
  },
  {
   "cell_type": "code",
   "execution_count": null,
   "metadata": {
    "collapsed": true
   },
   "outputs": [],
   "source": [
    "# Warning: predictions from here on will contain data from training set: \n",
    "pred = model.predict(Xg3f[:])\n",
    "\n"
   ]
  },
  {
   "cell_type": "code",
   "execution_count": null,
   "metadata": {
    "collapsed": true
   },
   "outputs": [],
   "source": [
    "pred.shape"
   ]
  },
  {
   "cell_type": "code",
   "execution_count": null,
   "metadata": {
    "collapsed": true
   },
   "outputs": [],
   "source": [
    "df['pred'] = pred\n",
    "df['lin_pred'] = 10**pred"
   ]
  },
  {
   "cell_type": "code",
   "execution_count": null,
   "metadata": {
    "collapsed": true
   },
   "outputs": [],
   "source": [
    "plt.plot(Y[:]-pred)"
   ]
  },
  {
   "cell_type": "code",
   "execution_count": null,
   "metadata": {
    "collapsed": true
   },
   "outputs": [],
   "source": [
    "sns.jointplot(data=df, x='lin_pred', y='lin_mass', kind='reg')\n",
    "plt.title('lin kde')\n"
   ]
  }
 ],
 "metadata": {
  "kernelspec": {
   "display_name": "Python [conda env:astrohack]",
   "language": "python",
   "name": "conda-env-astrohack-py"
  },
  "language_info": {
   "codemirror_mode": {
    "name": "ipython",
    "version": 3
   },
   "file_extension": ".py",
   "mimetype": "text/x-python",
   "name": "python",
   "nbconvert_exporter": "python",
   "pygments_lexer": "ipython3",
   "version": "3.6.1"
  }
 },
 "nbformat": 4,
 "nbformat_minor": 2
}
